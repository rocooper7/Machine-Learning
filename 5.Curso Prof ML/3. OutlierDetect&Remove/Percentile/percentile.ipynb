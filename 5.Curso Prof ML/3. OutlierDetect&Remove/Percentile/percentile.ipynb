{
 "cells": [
  {
   "cell_type": "code",
   "execution_count": 1,
   "metadata": {},
   "outputs": [],
   "source": [
    "import pandas as pd"
   ]
  },
  {
   "cell_type": "code",
   "execution_count": 2,
   "metadata": {},
   "outputs": [
    {
     "output_type": "execute_result",
     "data": {
      "text/plain": "     id                                              name  host_id  \\\n0  2539                Clean & quiet apt home by the park     2787   \n1  2595                             Skylit Midtown Castle     2845   \n2  3647               THE VILLAGE OF HARLEM....NEW YORK !     4632   \n3  3831                   Cozy Entire Floor of Brownstone     4869   \n4  5022  Entire Apt: Spacious Studio/Loft by central park     7192   \n\n     host_name neighbourhood_group neighbourhood  latitude  longitude  \\\n0         John            Brooklyn    Kensington  40.64749  -73.97237   \n1     Jennifer           Manhattan       Midtown  40.75362  -73.98377   \n2    Elisabeth           Manhattan        Harlem  40.80902  -73.94190   \n3  LisaRoxanne            Brooklyn  Clinton Hill  40.68514  -73.95976   \n4        Laura           Manhattan   East Harlem  40.79851  -73.94399   \n\n         room_type  price  minimum_nights  number_of_reviews last_review  \\\n0     Private room    149               1                  9  2018-10-19   \n1  Entire home/apt    225               1                 45  2019-05-21   \n2     Private room    150               3                  0         NaN   \n3  Entire home/apt     89               1                270  2019-07-05   \n4  Entire home/apt     80              10                  9  2018-11-19   \n\n   reviews_per_month  calculated_host_listings_count  availability_365  \n0               0.21                               6               365  \n1               0.38                               2               355  \n2                NaN                               1               365  \n3               4.64                               1               194  \n4               0.10                               1                 0  ",
      "text/html": "<div>\n<style scoped>\n    .dataframe tbody tr th:only-of-type {\n        vertical-align: middle;\n    }\n\n    .dataframe tbody tr th {\n        vertical-align: top;\n    }\n\n    .dataframe thead th {\n        text-align: right;\n    }\n</style>\n<table border=\"1\" class=\"dataframe\">\n  <thead>\n    <tr style=\"text-align: right;\">\n      <th></th>\n      <th>id</th>\n      <th>name</th>\n      <th>host_id</th>\n      <th>host_name</th>\n      <th>neighbourhood_group</th>\n      <th>neighbourhood</th>\n      <th>latitude</th>\n      <th>longitude</th>\n      <th>room_type</th>\n      <th>price</th>\n      <th>minimum_nights</th>\n      <th>number_of_reviews</th>\n      <th>last_review</th>\n      <th>reviews_per_month</th>\n      <th>calculated_host_listings_count</th>\n      <th>availability_365</th>\n    </tr>\n  </thead>\n  <tbody>\n    <tr>\n      <th>0</th>\n      <td>2539</td>\n      <td>Clean &amp; quiet apt home by the park</td>\n      <td>2787</td>\n      <td>John</td>\n      <td>Brooklyn</td>\n      <td>Kensington</td>\n      <td>40.64749</td>\n      <td>-73.97237</td>\n      <td>Private room</td>\n      <td>149</td>\n      <td>1</td>\n      <td>9</td>\n      <td>2018-10-19</td>\n      <td>0.21</td>\n      <td>6</td>\n      <td>365</td>\n    </tr>\n    <tr>\n      <th>1</th>\n      <td>2595</td>\n      <td>Skylit Midtown Castle</td>\n      <td>2845</td>\n      <td>Jennifer</td>\n      <td>Manhattan</td>\n      <td>Midtown</td>\n      <td>40.75362</td>\n      <td>-73.98377</td>\n      <td>Entire home/apt</td>\n      <td>225</td>\n      <td>1</td>\n      <td>45</td>\n      <td>2019-05-21</td>\n      <td>0.38</td>\n      <td>2</td>\n      <td>355</td>\n    </tr>\n    <tr>\n      <th>2</th>\n      <td>3647</td>\n      <td>THE VILLAGE OF HARLEM....NEW YORK !</td>\n      <td>4632</td>\n      <td>Elisabeth</td>\n      <td>Manhattan</td>\n      <td>Harlem</td>\n      <td>40.80902</td>\n      <td>-73.94190</td>\n      <td>Private room</td>\n      <td>150</td>\n      <td>3</td>\n      <td>0</td>\n      <td>NaN</td>\n      <td>NaN</td>\n      <td>1</td>\n      <td>365</td>\n    </tr>\n    <tr>\n      <th>3</th>\n      <td>3831</td>\n      <td>Cozy Entire Floor of Brownstone</td>\n      <td>4869</td>\n      <td>LisaRoxanne</td>\n      <td>Brooklyn</td>\n      <td>Clinton Hill</td>\n      <td>40.68514</td>\n      <td>-73.95976</td>\n      <td>Entire home/apt</td>\n      <td>89</td>\n      <td>1</td>\n      <td>270</td>\n      <td>2019-07-05</td>\n      <td>4.64</td>\n      <td>1</td>\n      <td>194</td>\n    </tr>\n    <tr>\n      <th>4</th>\n      <td>5022</td>\n      <td>Entire Apt: Spacious Studio/Loft by central park</td>\n      <td>7192</td>\n      <td>Laura</td>\n      <td>Manhattan</td>\n      <td>East Harlem</td>\n      <td>40.79851</td>\n      <td>-73.94399</td>\n      <td>Entire home/apt</td>\n      <td>80</td>\n      <td>10</td>\n      <td>9</td>\n      <td>2018-11-19</td>\n      <td>0.10</td>\n      <td>1</td>\n      <td>0</td>\n    </tr>\n  </tbody>\n</table>\n</div>"
     },
     "metadata": {},
     "execution_count": 2
    }
   ],
   "source": [
    "df = pd.read_csv(\"AB_NYC_2019.csv\")\n",
    "df.head()"
   ]
  },
  {
   "cell_type": "code",
   "execution_count": 3,
   "metadata": {},
   "outputs": [
    {
     "output_type": "execute_result",
     "data": {
      "text/plain": "count    48895.000000\nmean       152.720687\nstd        240.154170\nmin          0.000000\n25%         69.000000\n50%        106.000000\n75%        175.000000\nmax      10000.000000\nName: price, dtype: float64"
     },
     "metadata": {},
     "execution_count": 3
    }
   ],
   "source": [
    "df.price.describe()"
   ]
  },
  {
   "cell_type": "markdown",
   "metadata": {},
   "source": [
    "##  Detect outliers using percentile"
   ]
  },
  {
   "cell_type": "code",
   "execution_count": 4,
   "metadata": {},
   "outputs": [
    {
     "output_type": "execute_result",
     "data": {
      "text/plain": "(30.0, 3000.0)"
     },
     "metadata": {},
     "execution_count": 4
    }
   ],
   "source": [
    "min_thresold, max_thresold = df.price.quantile([0.01,0.999])\n",
    "min_thresold, max_thresold"
   ]
  },
  {
   "cell_type": "markdown",
   "metadata": {},
   "source": [
    "## Outliers"
   ]
  },
  {
   "cell_type": "code",
   "execution_count": 5,
   "metadata": {},
   "outputs": [
    {
     "output_type": "execute_result",
     "data": {
      "text/plain": "           id                                           name  host_id  \\\n957    375249                Enjoy Staten Island Hospitality  1887999   \n1862   826690               Sunny, Family-Friendly 2 Bedroom  4289240   \n2675  1428154            Central, Peaceful Semi-Private Room  5912572   \n2698  1448703            Beautiful 1 Bedroom in Nolita/Soho    213266   \n2860  1620248  Large furnished 2 bedrooms- - 30 days Minimum  2196224   \n\n        host_name neighbourhood_group     neighbourhood  latitude  longitude  \\\n957   Rimma & Jim       Staten Island      Graniteville  40.62109  -74.16534   \n1862         Lucy            Brooklyn  Prospect Heights  40.67919  -73.97191   \n2675      Tangier            Brooklyn          Flatbush  40.63899  -73.95177   \n2698      Jessica           Manhattan            Nolita  40.72193  -73.99379   \n2860        Sally           Manhattan      East Village  40.73051  -73.98140   \n\n            room_type  price  minimum_nights  number_of_reviews last_review  \\\n957      Private room     20               3                 80  2019-05-26   \n1862  Entire home/apt   4000               4                  0         NaN   \n2675      Shared room     29               2                  5  2014-10-20   \n2698  Entire home/apt   5000               1                  2  2013-09-28   \n2860  Entire home/apt     10              30                  0         NaN   \n\n      reviews_per_month  calculated_host_listings_count  availability_365  \n957                0.92                               1               226  \n1862                NaN                               1                83  \n2675               0.07                               1               321  \n2698               0.03                               1               365  \n2860                NaN                               4               137  ",
      "text/html": "<div>\n<style scoped>\n    .dataframe tbody tr th:only-of-type {\n        vertical-align: middle;\n    }\n\n    .dataframe tbody tr th {\n        vertical-align: top;\n    }\n\n    .dataframe thead th {\n        text-align: right;\n    }\n</style>\n<table border=\"1\" class=\"dataframe\">\n  <thead>\n    <tr style=\"text-align: right;\">\n      <th></th>\n      <th>id</th>\n      <th>name</th>\n      <th>host_id</th>\n      <th>host_name</th>\n      <th>neighbourhood_group</th>\n      <th>neighbourhood</th>\n      <th>latitude</th>\n      <th>longitude</th>\n      <th>room_type</th>\n      <th>price</th>\n      <th>minimum_nights</th>\n      <th>number_of_reviews</th>\n      <th>last_review</th>\n      <th>reviews_per_month</th>\n      <th>calculated_host_listings_count</th>\n      <th>availability_365</th>\n    </tr>\n  </thead>\n  <tbody>\n    <tr>\n      <th>957</th>\n      <td>375249</td>\n      <td>Enjoy Staten Island Hospitality</td>\n      <td>1887999</td>\n      <td>Rimma &amp; Jim</td>\n      <td>Staten Island</td>\n      <td>Graniteville</td>\n      <td>40.62109</td>\n      <td>-74.16534</td>\n      <td>Private room</td>\n      <td>20</td>\n      <td>3</td>\n      <td>80</td>\n      <td>2019-05-26</td>\n      <td>0.92</td>\n      <td>1</td>\n      <td>226</td>\n    </tr>\n    <tr>\n      <th>1862</th>\n      <td>826690</td>\n      <td>Sunny, Family-Friendly 2 Bedroom</td>\n      <td>4289240</td>\n      <td>Lucy</td>\n      <td>Brooklyn</td>\n      <td>Prospect Heights</td>\n      <td>40.67919</td>\n      <td>-73.97191</td>\n      <td>Entire home/apt</td>\n      <td>4000</td>\n      <td>4</td>\n      <td>0</td>\n      <td>NaN</td>\n      <td>NaN</td>\n      <td>1</td>\n      <td>83</td>\n    </tr>\n    <tr>\n      <th>2675</th>\n      <td>1428154</td>\n      <td>Central, Peaceful Semi-Private Room</td>\n      <td>5912572</td>\n      <td>Tangier</td>\n      <td>Brooklyn</td>\n      <td>Flatbush</td>\n      <td>40.63899</td>\n      <td>-73.95177</td>\n      <td>Shared room</td>\n      <td>29</td>\n      <td>2</td>\n      <td>5</td>\n      <td>2014-10-20</td>\n      <td>0.07</td>\n      <td>1</td>\n      <td>321</td>\n    </tr>\n    <tr>\n      <th>2698</th>\n      <td>1448703</td>\n      <td>Beautiful 1 Bedroom in Nolita/Soho</td>\n      <td>213266</td>\n      <td>Jessica</td>\n      <td>Manhattan</td>\n      <td>Nolita</td>\n      <td>40.72193</td>\n      <td>-73.99379</td>\n      <td>Entire home/apt</td>\n      <td>5000</td>\n      <td>1</td>\n      <td>2</td>\n      <td>2013-09-28</td>\n      <td>0.03</td>\n      <td>1</td>\n      <td>365</td>\n    </tr>\n    <tr>\n      <th>2860</th>\n      <td>1620248</td>\n      <td>Large furnished 2 bedrooms- - 30 days Minimum</td>\n      <td>2196224</td>\n      <td>Sally</td>\n      <td>Manhattan</td>\n      <td>East Village</td>\n      <td>40.73051</td>\n      <td>-73.98140</td>\n      <td>Entire home/apt</td>\n      <td>10</td>\n      <td>30</td>\n      <td>0</td>\n      <td>NaN</td>\n      <td>NaN</td>\n      <td>4</td>\n      <td>137</td>\n    </tr>\n  </tbody>\n</table>\n</div>"
     },
     "metadata": {},
     "execution_count": 5
    }
   ],
   "source": [
    "df[(df.price < min_thresold) | (df.price > max_thresold)].head()"
   ]
  },
  {
   "cell_type": "markdown",
   "metadata": {},
   "source": [
    "## Removing outliers"
   ]
  },
  {
   "cell_type": "code",
   "execution_count": 6,
   "metadata": {},
   "outputs": [
    {
     "output_type": "execute_result",
     "data": {
      "text/plain": "(48446, 16)"
     },
     "metadata": {},
     "execution_count": 6
    }
   ],
   "source": [
    "df2 = df[(df.price >= min_thresold) & (df.price <= max_thresold)]\n",
    "df2.shape"
   ]
  }
 ],
 "metadata": {
  "language_info": {
   "codemirror_mode": {
    "name": "ipython",
    "version": 3
   },
   "file_extension": ".py",
   "mimetype": "text/x-python",
   "name": "python",
   "nbconvert_exporter": "python",
   "pygments_lexer": "ipython3",
   "version": "3.7.4-final"
  },
  "orig_nbformat": 2,
  "kernelspec": {
   "name": "python37464bitanacondaconda74954a3f106b47d99d44e5fb8ca66932",
   "display_name": "Python 3.7.4 64-bit ('Anaconda': conda)"
  }
 },
 "nbformat": 4,
 "nbformat_minor": 2
}