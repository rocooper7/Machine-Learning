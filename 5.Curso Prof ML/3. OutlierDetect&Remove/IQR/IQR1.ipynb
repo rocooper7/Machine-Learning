{
 "cells": [
  {
   "cell_type": "markdown",
   "metadata": {},
   "source": [
    "## Outlier Detection and Removal Using IQR"
   ]
  },
  {
   "cell_type": "code",
   "execution_count": 1,
   "metadata": {},
   "outputs": [
    {
     "output_type": "execute_result",
     "data": {
      "text/plain": "    name  height\n0  mohan     1.2\n1  maria     2.3\n2  sakib     4.9\n3    tao     5.1\n4  virat     5.2",
      "text/html": "<div>\n<style scoped>\n    .dataframe tbody tr th:only-of-type {\n        vertical-align: middle;\n    }\n\n    .dataframe tbody tr th {\n        vertical-align: top;\n    }\n\n    .dataframe thead th {\n        text-align: right;\n    }\n</style>\n<table border=\"1\" class=\"dataframe\">\n  <thead>\n    <tr style=\"text-align: right;\">\n      <th></th>\n      <th>name</th>\n      <th>height</th>\n    </tr>\n  </thead>\n  <tbody>\n    <tr>\n      <th>0</th>\n      <td>mohan</td>\n      <td>1.2</td>\n    </tr>\n    <tr>\n      <th>1</th>\n      <td>maria</td>\n      <td>2.3</td>\n    </tr>\n    <tr>\n      <th>2</th>\n      <td>sakib</td>\n      <td>4.9</td>\n    </tr>\n    <tr>\n      <th>3</th>\n      <td>tao</td>\n      <td>5.1</td>\n    </tr>\n    <tr>\n      <th>4</th>\n      <td>virat</td>\n      <td>5.2</td>\n    </tr>\n  </tbody>\n</table>\n</div>"
     },
     "metadata": {},
     "execution_count": 1
    }
   ],
   "source": [
    "import pandas as pd\n",
    "df = pd.read_csv('./data/heights.csv')\n",
    "df.head()"
   ]
  },
  {
   "cell_type": "code",
   "execution_count": 2,
   "metadata": {},
   "outputs": [
    {
     "output_type": "execute_result",
     "data": {
      "text/plain": "          height\ncount  20.000000\nmean    8.390000\nstd     8.782812\nmin     1.200000\n25%     5.350000\n50%     5.700000\n75%     6.275000\nmax    40.200000",
      "text/html": "<div>\n<style scoped>\n    .dataframe tbody tr th:only-of-type {\n        vertical-align: middle;\n    }\n\n    .dataframe tbody tr th {\n        vertical-align: top;\n    }\n\n    .dataframe thead th {\n        text-align: right;\n    }\n</style>\n<table border=\"1\" class=\"dataframe\">\n  <thead>\n    <tr style=\"text-align: right;\">\n      <th></th>\n      <th>height</th>\n    </tr>\n  </thead>\n  <tbody>\n    <tr>\n      <th>count</th>\n      <td>20.000000</td>\n    </tr>\n    <tr>\n      <th>mean</th>\n      <td>8.390000</td>\n    </tr>\n    <tr>\n      <th>std</th>\n      <td>8.782812</td>\n    </tr>\n    <tr>\n      <th>min</th>\n      <td>1.200000</td>\n    </tr>\n    <tr>\n      <th>25%</th>\n      <td>5.350000</td>\n    </tr>\n    <tr>\n      <th>50%</th>\n      <td>5.700000</td>\n    </tr>\n    <tr>\n      <th>75%</th>\n      <td>6.275000</td>\n    </tr>\n    <tr>\n      <th>max</th>\n      <td>40.200000</td>\n    </tr>\n  </tbody>\n</table>\n</div>"
     },
     "metadata": {},
     "execution_count": 2
    }
   ],
   "source": [
    "df.describe()"
   ]
  },
  {
   "cell_type": "markdown",
   "metadata": {},
   "source": [
    "## Detect outliers using IQR "
   ]
  },
  {
   "cell_type": "code",
   "execution_count": 3,
   "metadata": {},
   "outputs": [
    {
     "output_type": "execute_result",
     "data": {
      "text/plain": "(5.3500000000000005, 6.275)"
     },
     "metadata": {},
     "execution_count": 3
    }
   ],
   "source": [
    "Q1 = df.height.quantile(0.25)\n",
    "Q3 = df.height.quantile(0.75)\n",
    "Q1, Q3"
   ]
  },
  {
   "cell_type": "code",
   "execution_count": 4,
   "metadata": {},
   "outputs": [
    {
     "output_type": "execute_result",
     "data": {
      "text/plain": "0.9249999999999998"
     },
     "metadata": {},
     "execution_count": 4
    }
   ],
   "source": [
    "IQR = Q3 - Q1\n",
    "IQR"
   ]
  },
  {
   "cell_type": "code",
   "execution_count": 5,
   "metadata": {},
   "outputs": [
    {
     "output_type": "execute_result",
     "data": {
      "text/plain": "(3.962500000000001, 7.6625)"
     },
     "metadata": {},
     "execution_count": 5
    }
   ],
   "source": [
    "lower_limit = Q1 - 1.5 * IQR\n",
    "upper_limit = Q3 + 1.5 * IQR\n",
    "lower_limit, upper_limit"
   ]
  },
  {
   "cell_type": "markdown",
   "metadata": {},
   "source": [
    "## Here are the outliers"
   ]
  },
  {
   "cell_type": "code",
   "execution_count": 6,
   "metadata": {},
   "outputs": [
    {
     "output_type": "execute_result",
     "data": {
      "text/plain": "     name  height\n0   mohan     1.2\n1   maria     2.3\n17  aamir    14.5\n18    ken    23.2\n19    Liu    40.2",
      "text/html": "<div>\n<style scoped>\n    .dataframe tbody tr th:only-of-type {\n        vertical-align: middle;\n    }\n\n    .dataframe tbody tr th {\n        vertical-align: top;\n    }\n\n    .dataframe thead th {\n        text-align: right;\n    }\n</style>\n<table border=\"1\" class=\"dataframe\">\n  <thead>\n    <tr style=\"text-align: right;\">\n      <th></th>\n      <th>name</th>\n      <th>height</th>\n    </tr>\n  </thead>\n  <tbody>\n    <tr>\n      <th>0</th>\n      <td>mohan</td>\n      <td>1.2</td>\n    </tr>\n    <tr>\n      <th>1</th>\n      <td>maria</td>\n      <td>2.3</td>\n    </tr>\n    <tr>\n      <th>17</th>\n      <td>aamir</td>\n      <td>14.5</td>\n    </tr>\n    <tr>\n      <th>18</th>\n      <td>ken</td>\n      <td>23.2</td>\n    </tr>\n    <tr>\n      <th>19</th>\n      <td>Liu</td>\n      <td>40.2</td>\n    </tr>\n  </tbody>\n</table>\n</div>"
     },
     "metadata": {},
     "execution_count": 6
    }
   ],
   "source": [
    "df[(df.height < lower_limit) | (df.height > upper_limit)]"
   ]
  },
  {
   "cell_type": "markdown",
   "metadata": {},
   "source": [
    "## Removing Outliers"
   ]
  },
  {
   "cell_type": "code",
   "execution_count": 7,
   "metadata": {},
   "outputs": [
    {
     "output_type": "execute_result",
     "data": {
      "text/plain": "       name  height\n2     sakib     4.9\n3       tao     5.1\n4     virat     5.2\n5    khusbu     5.4\n6    dmitry     5.5\n7    selena     5.5\n8      john     5.6\n9     imran     5.6\n10     jose     5.8\n11  deepika     5.9\n12   yoseph     6.0\n13    binod     6.1\n14  gulshan     6.2\n15  johnson     6.5\n16   donald     7.1",
      "text/html": "<div>\n<style scoped>\n    .dataframe tbody tr th:only-of-type {\n        vertical-align: middle;\n    }\n\n    .dataframe tbody tr th {\n        vertical-align: top;\n    }\n\n    .dataframe thead th {\n        text-align: right;\n    }\n</style>\n<table border=\"1\" class=\"dataframe\">\n  <thead>\n    <tr style=\"text-align: right;\">\n      <th></th>\n      <th>name</th>\n      <th>height</th>\n    </tr>\n  </thead>\n  <tbody>\n    <tr>\n      <th>2</th>\n      <td>sakib</td>\n      <td>4.9</td>\n    </tr>\n    <tr>\n      <th>3</th>\n      <td>tao</td>\n      <td>5.1</td>\n    </tr>\n    <tr>\n      <th>4</th>\n      <td>virat</td>\n      <td>5.2</td>\n    </tr>\n    <tr>\n      <th>5</th>\n      <td>khusbu</td>\n      <td>5.4</td>\n    </tr>\n    <tr>\n      <th>6</th>\n      <td>dmitry</td>\n      <td>5.5</td>\n    </tr>\n    <tr>\n      <th>7</th>\n      <td>selena</td>\n      <td>5.5</td>\n    </tr>\n    <tr>\n      <th>8</th>\n      <td>john</td>\n      <td>5.6</td>\n    </tr>\n    <tr>\n      <th>9</th>\n      <td>imran</td>\n      <td>5.6</td>\n    </tr>\n    <tr>\n      <th>10</th>\n      <td>jose</td>\n      <td>5.8</td>\n    </tr>\n    <tr>\n      <th>11</th>\n      <td>deepika</td>\n      <td>5.9</td>\n    </tr>\n    <tr>\n      <th>12</th>\n      <td>yoseph</td>\n      <td>6.0</td>\n    </tr>\n    <tr>\n      <th>13</th>\n      <td>binod</td>\n      <td>6.1</td>\n    </tr>\n    <tr>\n      <th>14</th>\n      <td>gulshan</td>\n      <td>6.2</td>\n    </tr>\n    <tr>\n      <th>15</th>\n      <td>johnson</td>\n      <td>6.5</td>\n    </tr>\n    <tr>\n      <th>16</th>\n      <td>donald</td>\n      <td>7.1</td>\n    </tr>\n  </tbody>\n</table>\n</div>"
     },
     "metadata": {},
     "execution_count": 7
    }
   ],
   "source": [
    "df_no_outlier = df[(df.height >= lower_limit) & (df.height <= upper_limit)]\n",
    "df_no_outlier"
   ]
  }
 ],
 "metadata": {
  "language_info": {
   "codemirror_mode": {
    "name": "ipython",
    "version": 3
   },
   "file_extension": ".py",
   "mimetype": "text/x-python",
   "name": "python",
   "nbconvert_exporter": "python",
   "pygments_lexer": "ipython3",
   "version": "3.7.4-final"
  },
  "orig_nbformat": 2,
  "kernelspec": {
   "name": "python37464bitanacondaconda74954a3f106b47d99d44e5fb8ca66932",
   "display_name": "Python 3.7.4 64-bit ('Anaconda': conda)"
  }
 },
 "nbformat": 4,
 "nbformat_minor": 2
}