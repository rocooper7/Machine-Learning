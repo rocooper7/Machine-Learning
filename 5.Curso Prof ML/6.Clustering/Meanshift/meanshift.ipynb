{
 "cells": [
  {
   "cell_type": "code",
   "execution_count": 1,
   "metadata": {},
   "outputs": [],
   "source": [
    "import pandas as pd\n",
    "from sklearn.cluster import MeanShift"
   ]
  },
  {
   "cell_type": "markdown",
   "metadata": {},
   "source": [
    "## El algoritmo decide cuantas categorias vas a necesitar, es para un num limitado de datos "
   ]
  },
  {
   "cell_type": "code",
   "execution_count": 3,
   "metadata": {},
   "outputs": [
    {
     "output_type": "execute_result",
     "data": {
      "text/plain": "  competitorname  chocolate  fruity  caramel  peanutyalmondy  nougat  \\\n0      100 Grand          1       0        1               0       0   \n1   3 Musketeers          1       0        0               0       1   \n2       One dime          0       0        0               0       0   \n3    One quarter          0       0        0               0       0   \n4      Air Heads          0       1        0               0       0   \n\n   crispedricewafer  hard  bar  pluribus  sugarpercent  pricepercent  \\\n0                 1     0    1         0         0.732         0.860   \n1                 0     0    1         0         0.604         0.511   \n2                 0     0    0         0         0.011         0.116   \n3                 0     0    0         0         0.011         0.511   \n4                 0     0    0         0         0.906         0.511   \n\n   winpercent  \n0   66.971725  \n1   67.602936  \n2   32.261086  \n3   46.116505  \n4   52.341465  ",
      "text/html": "<div>\n<style scoped>\n    .dataframe tbody tr th:only-of-type {\n        vertical-align: middle;\n    }\n\n    .dataframe tbody tr th {\n        vertical-align: top;\n    }\n\n    .dataframe thead th {\n        text-align: right;\n    }\n</style>\n<table border=\"1\" class=\"dataframe\">\n  <thead>\n    <tr style=\"text-align: right;\">\n      <th></th>\n      <th>competitorname</th>\n      <th>chocolate</th>\n      <th>fruity</th>\n      <th>caramel</th>\n      <th>peanutyalmondy</th>\n      <th>nougat</th>\n      <th>crispedricewafer</th>\n      <th>hard</th>\n      <th>bar</th>\n      <th>pluribus</th>\n      <th>sugarpercent</th>\n      <th>pricepercent</th>\n      <th>winpercent</th>\n    </tr>\n  </thead>\n  <tbody>\n    <tr>\n      <th>0</th>\n      <td>100 Grand</td>\n      <td>1</td>\n      <td>0</td>\n      <td>1</td>\n      <td>0</td>\n      <td>0</td>\n      <td>1</td>\n      <td>0</td>\n      <td>1</td>\n      <td>0</td>\n      <td>0.732</td>\n      <td>0.860</td>\n      <td>66.971725</td>\n    </tr>\n    <tr>\n      <th>1</th>\n      <td>3 Musketeers</td>\n      <td>1</td>\n      <td>0</td>\n      <td>0</td>\n      <td>0</td>\n      <td>1</td>\n      <td>0</td>\n      <td>0</td>\n      <td>1</td>\n      <td>0</td>\n      <td>0.604</td>\n      <td>0.511</td>\n      <td>67.602936</td>\n    </tr>\n    <tr>\n      <th>2</th>\n      <td>One dime</td>\n      <td>0</td>\n      <td>0</td>\n      <td>0</td>\n      <td>0</td>\n      <td>0</td>\n      <td>0</td>\n      <td>0</td>\n      <td>0</td>\n      <td>0</td>\n      <td>0.011</td>\n      <td>0.116</td>\n      <td>32.261086</td>\n    </tr>\n    <tr>\n      <th>3</th>\n      <td>One quarter</td>\n      <td>0</td>\n      <td>0</td>\n      <td>0</td>\n      <td>0</td>\n      <td>0</td>\n      <td>0</td>\n      <td>0</td>\n      <td>0</td>\n      <td>0</td>\n      <td>0.011</td>\n      <td>0.511</td>\n      <td>46.116505</td>\n    </tr>\n    <tr>\n      <th>4</th>\n      <td>Air Heads</td>\n      <td>0</td>\n      <td>1</td>\n      <td>0</td>\n      <td>0</td>\n      <td>0</td>\n      <td>0</td>\n      <td>0</td>\n      <td>0</td>\n      <td>0</td>\n      <td>0.906</td>\n      <td>0.511</td>\n      <td>52.341465</td>\n    </tr>\n  </tbody>\n</table>\n</div>"
     },
     "metadata": {},
     "execution_count": 3
    }
   ],
   "source": [
    "dataset = pd.read_csv(\"candy.csv\")\n",
    "dataset.head(5)"
   ]
  },
  {
   "cell_type": "code",
   "execution_count": 4,
   "metadata": {},
   "outputs": [],
   "source": [
    "X = dataset.drop('competitorname', axis=1)"
   ]
  },
  {
   "cell_type": "code",
   "execution_count": 5,
   "metadata": {},
   "outputs": [],
   "source": [
    "meanshift = MeanShift().fit(X)"
   ]
  },
  {
   "cell_type": "code",
   "execution_count": 9,
   "metadata": {},
   "outputs": [
    {
     "output_type": "stream",
     "name": "stdout",
     "text": "[2 2 0 0 1 1 1 0 0 0 0 0 0 0 0 0 0 1 1 0 1 0 1 2 1 2 0 1 2 0 0 1 2 2 0 1 2\n 2 2 1 1 1 2 2 0 0 0 2 0 0 0 2 2 2 2 0 2 0 0 0 2 1 0 0 2 2 2 1 2 0 0 0 0 1\n 1 0 0 1 1 2 0 0 0 0 1]\n"
    }
   ],
   "source": [
    "print(meanshift.labels_)"
   ]
  },
  {
   "cell_type": "code",
   "execution_count": 6,
   "metadata": {},
   "outputs": [
    {
     "output_type": "stream",
     "name": "stdout",
     "text": "2\n================================================================\n[[2.25000000e-01 5.75000000e-01 1.00000000e-01 2.50000000e-02\n  5.00000000e-02 2.50000000e-02 3.00000000e-01 1.00000000e-01\n  5.50000000e-01 4.57599993e-01 3.67824996e-01 4.10442122e+01]\n [4.68750000e-01 5.00000000e-01 1.25000000e-01 1.56250000e-01\n  9.37500000e-02 6.25000000e-02 1.25000000e-01 3.12500000e-01\n  5.31250000e-01 4.57281243e-01 4.67874998e-01 5.21138597e+01]\n [8.26086957e-01 1.73913043e-01 3.04347826e-01 3.04347826e-01\n  1.73913043e-01 1.73913043e-01 0.00000000e+00 5.21739130e-01\n  4.34782609e-01 5.81391293e-01 6.38086963e-01 6.47120799e+01]]\n"
    }
   ],
   "source": [
    "print(max(meanshift.labels_))\n",
    "print(\"=\"*64)\n",
    "print(meanshift.cluster_centers_)"
   ]
  },
  {
   "cell_type": "code",
   "execution_count": 7,
   "metadata": {},
   "outputs": [],
   "source": [
    "dataset['meanshift'] = meanshift.labels_"
   ]
  },
  {
   "cell_type": "code",
   "execution_count": 8,
   "metadata": {},
   "outputs": [
    {
     "output_type": "execute_result",
     "data": {
      "text/plain": "                competitorname  chocolate  fruity  caramel  peanutyalmondy  \\\n0                    100 Grand          1       0        1               0   \n1                 3 Musketeers          1       0        0               0   \n2                     One dime          0       0        0               0   \n3                  One quarter          0       0        0               0   \n4                    Air Heads          0       1        0               0   \n..                         ...        ...     ...      ...             ...   \n80                   Twizzlers          0       1        0               0   \n81                    Warheads          0       1        0               0   \n82        WelchÕs Fruit Snacks          0       1        0               0   \n83  WertherÕs Original Caramel          0       0        1               0   \n84                    Whoppers          1       0        0               0   \n\n    nougat  crispedricewafer  hard  bar  pluribus  sugarpercent  pricepercent  \\\n0        0                 1     0    1         0         0.732         0.860   \n1        1                 0     0    1         0         0.604         0.511   \n2        0                 0     0    0         0         0.011         0.116   \n3        0                 0     0    0         0         0.011         0.511   \n4        0                 0     0    0         0         0.906         0.511   \n..     ...               ...   ...  ...       ...           ...           ...   \n80       0                 0     0    0         0         0.220         0.116   \n81       0                 0     1    0         0         0.093         0.116   \n82       0                 0     0    0         1         0.313         0.313   \n83       0                 0     1    0         0         0.186         0.267   \n84       0                 1     0    0         1         0.872         0.848   \n\n    winpercent  meanshift  \n0    66.971725          2  \n1    67.602936          2  \n2    32.261086          0  \n3    46.116505          0  \n4    52.341465          1  \n..         ...        ...  \n80   45.466282          0  \n81   39.011898          0  \n82   44.375519          0  \n83   41.904308          0  \n84   49.524113          1  \n\n[85 rows x 14 columns]",
      "text/html": "<div>\n<style scoped>\n    .dataframe tbody tr th:only-of-type {\n        vertical-align: middle;\n    }\n\n    .dataframe tbody tr th {\n        vertical-align: top;\n    }\n\n    .dataframe thead th {\n        text-align: right;\n    }\n</style>\n<table border=\"1\" class=\"dataframe\">\n  <thead>\n    <tr style=\"text-align: right;\">\n      <th></th>\n      <th>competitorname</th>\n      <th>chocolate</th>\n      <th>fruity</th>\n      <th>caramel</th>\n      <th>peanutyalmondy</th>\n      <th>nougat</th>\n      <th>crispedricewafer</th>\n      <th>hard</th>\n      <th>bar</th>\n      <th>pluribus</th>\n      <th>sugarpercent</th>\n      <th>pricepercent</th>\n      <th>winpercent</th>\n      <th>meanshift</th>\n    </tr>\n  </thead>\n  <tbody>\n    <tr>\n      <th>0</th>\n      <td>100 Grand</td>\n      <td>1</td>\n      <td>0</td>\n      <td>1</td>\n      <td>0</td>\n      <td>0</td>\n      <td>1</td>\n      <td>0</td>\n      <td>1</td>\n      <td>0</td>\n      <td>0.732</td>\n      <td>0.860</td>\n      <td>66.971725</td>\n      <td>2</td>\n    </tr>\n    <tr>\n      <th>1</th>\n      <td>3 Musketeers</td>\n      <td>1</td>\n      <td>0</td>\n      <td>0</td>\n      <td>0</td>\n      <td>1</td>\n      <td>0</td>\n      <td>0</td>\n      <td>1</td>\n      <td>0</td>\n      <td>0.604</td>\n      <td>0.511</td>\n      <td>67.602936</td>\n      <td>2</td>\n    </tr>\n    <tr>\n      <th>2</th>\n      <td>One dime</td>\n      <td>0</td>\n      <td>0</td>\n      <td>0</td>\n      <td>0</td>\n      <td>0</td>\n      <td>0</td>\n      <td>0</td>\n      <td>0</td>\n      <td>0</td>\n      <td>0.011</td>\n      <td>0.116</td>\n      <td>32.261086</td>\n      <td>0</td>\n    </tr>\n    <tr>\n      <th>3</th>\n      <td>One quarter</td>\n      <td>0</td>\n      <td>0</td>\n      <td>0</td>\n      <td>0</td>\n      <td>0</td>\n      <td>0</td>\n      <td>0</td>\n      <td>0</td>\n      <td>0</td>\n      <td>0.011</td>\n      <td>0.511</td>\n      <td>46.116505</td>\n      <td>0</td>\n    </tr>\n    <tr>\n      <th>4</th>\n      <td>Air Heads</td>\n      <td>0</td>\n      <td>1</td>\n      <td>0</td>\n      <td>0</td>\n      <td>0</td>\n      <td>0</td>\n      <td>0</td>\n      <td>0</td>\n      <td>0</td>\n      <td>0.906</td>\n      <td>0.511</td>\n      <td>52.341465</td>\n      <td>1</td>\n    </tr>\n    <tr>\n      <th>...</th>\n      <td>...</td>\n      <td>...</td>\n      <td>...</td>\n      <td>...</td>\n      <td>...</td>\n      <td>...</td>\n      <td>...</td>\n      <td>...</td>\n      <td>...</td>\n      <td>...</td>\n      <td>...</td>\n      <td>...</td>\n      <td>...</td>\n      <td>...</td>\n    </tr>\n    <tr>\n      <th>80</th>\n      <td>Twizzlers</td>\n      <td>0</td>\n      <td>1</td>\n      <td>0</td>\n      <td>0</td>\n      <td>0</td>\n      <td>0</td>\n      <td>0</td>\n      <td>0</td>\n      <td>0</td>\n      <td>0.220</td>\n      <td>0.116</td>\n      <td>45.466282</td>\n      <td>0</td>\n    </tr>\n    <tr>\n      <th>81</th>\n      <td>Warheads</td>\n      <td>0</td>\n      <td>1</td>\n      <td>0</td>\n      <td>0</td>\n      <td>0</td>\n      <td>0</td>\n      <td>1</td>\n      <td>0</td>\n      <td>0</td>\n      <td>0.093</td>\n      <td>0.116</td>\n      <td>39.011898</td>\n      <td>0</td>\n    </tr>\n    <tr>\n      <th>82</th>\n      <td>WelchÕs Fruit Snacks</td>\n      <td>0</td>\n      <td>1</td>\n      <td>0</td>\n      <td>0</td>\n      <td>0</td>\n      <td>0</td>\n      <td>0</td>\n      <td>0</td>\n      <td>1</td>\n      <td>0.313</td>\n      <td>0.313</td>\n      <td>44.375519</td>\n      <td>0</td>\n    </tr>\n    <tr>\n      <th>83</th>\n      <td>WertherÕs Original Caramel</td>\n      <td>0</td>\n      <td>0</td>\n      <td>1</td>\n      <td>0</td>\n      <td>0</td>\n      <td>0</td>\n      <td>1</td>\n      <td>0</td>\n      <td>0</td>\n      <td>0.186</td>\n      <td>0.267</td>\n      <td>41.904308</td>\n      <td>0</td>\n    </tr>\n    <tr>\n      <th>84</th>\n      <td>Whoppers</td>\n      <td>1</td>\n      <td>0</td>\n      <td>0</td>\n      <td>0</td>\n      <td>0</td>\n      <td>1</td>\n      <td>0</td>\n      <td>0</td>\n      <td>1</td>\n      <td>0.872</td>\n      <td>0.848</td>\n      <td>49.524113</td>\n      <td>1</td>\n    </tr>\n  </tbody>\n</table>\n<p>85 rows × 14 columns</p>\n</div>"
     },
     "metadata": {},
     "execution_count": 8
    }
   ],
   "source": [
    "dataset"
   ]
  }
 ],
 "metadata": {
  "language_info": {
   "codemirror_mode": {
    "name": "ipython",
    "version": 3
   },
   "file_extension": ".py",
   "mimetype": "text/x-python",
   "name": "python",
   "nbconvert_exporter": "python",
   "pygments_lexer": "ipython3",
   "version": "3.7.4-final"
  },
  "orig_nbformat": 2,
  "kernelspec": {
   "name": "python37464bitanacondaconda74954a3f106b47d99d44e5fb8ca66932",
   "display_name": "Python 3.7.4 64-bit ('Anaconda': conda)"
  }
 },
 "nbformat": 4,
 "nbformat_minor": 2
}