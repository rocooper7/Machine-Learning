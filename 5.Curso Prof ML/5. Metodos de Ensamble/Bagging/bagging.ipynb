{
 "cells": [
  {
   "cell_type": "markdown",
   "metadata": {},
   "source": [
    "## Bagging se usa como un metaestimador, es decir un metodo de ensamble de varios modelos "
   ]
  },
  {
   "cell_type": "code",
   "execution_count": 17,
   "metadata": {},
   "outputs": [],
   "source": [
    "import pandas as pd\n",
    "\n",
    "from sklearn.neighbors import KNeighborsClassifier\n",
    "from sklearn.ensemble import BaggingClassifier\n",
    "from sklearn.svm import LinearSVC\n",
    "from sklearn.svm import SVC\n",
    "from sklearn.linear_model import SGDClassifier\n",
    "from sklearn.tree import DecisionTreeClassifier\n",
    "from sklearn.ensemble import RandomForestClassifier\n",
    "\n",
    "from sklearn.model_selection import train_test_split\n",
    "from sklearn.metrics import accuracy_score"
   ]
  },
  {
   "cell_type": "code",
   "execution_count": 18,
   "metadata": {},
   "outputs": [
    {
     "output_type": "execute_result",
     "data": {
      "text/plain": "count    1025.000000\nmean        0.513171\nstd         0.500070\nmin         0.000000\n25%         0.000000\n50%         1.000000\n75%         1.000000\nmax         1.000000\nName: target, dtype: float64"
     },
     "metadata": {},
     "execution_count": 18
    }
   ],
   "source": [
    "dt_heart = pd.read_csv('heart.csv')\n",
    "dt_heart['target'].describe()"
   ]
  },
  {
   "cell_type": "code",
   "execution_count": 19,
   "metadata": {},
   "outputs": [],
   "source": [
    "X = dt_heart.drop(['target'], axis=1)\n",
    "y = dt_heart['target']"
   ]
  },
  {
   "cell_type": "code",
   "execution_count": 20,
   "metadata": {},
   "outputs": [],
   "source": [
    "X_train, X_test, y_train, y_test = train_test_split(X,y,test_size=0.35)"
   ]
  },
  {
   "cell_type": "code",
   "execution_count": 21,
   "metadata": {},
   "outputs": [
    {
     "output_type": "stream",
     "name": "stdout",
     "text": "\nAccuracy KNeighbors: 0.724233983286908\n\n"
    }
   ],
   "source": [
    "knn_class = KNeighborsClassifier().fit(X_train, y_train)\n",
    "knn_pred = knn_class.predict(X_test)\n",
    "print('')\n",
    "print('Accuracy KNeighbors:', accuracy_score(knn_pred, y_test))\n",
    "print('')"
   ]
  },
  {
   "cell_type": "code",
   "execution_count": 23,
   "metadata": {},
   "outputs": [],
   "source": [
    " classifier = {\n",
    "        'KNeighbors': KNeighborsClassifier(),\n",
    "        'LinearSCV': LinearSVC(),\n",
    "        'SVC': SVC(),\n",
    "        'SGDC': SGDClassifier(),\n",
    "        'DecisionTreeC': DecisionTreeClassifier(), \n",
    "        'RandomForestC': RandomForestClassifier() }"
   ]
  },
  {
   "cell_type": "code",
   "execution_count": 47,
   "metadata": {},
   "outputs": [
    {
     "output_type": "stream",
     "name": "stdout",
     "text": "Accuracy Bagging with KNeighbors:0.7632311977715878 estimador:15\n\nAccuracy Bagging with LinearSCV:0.8105849582172702 estimador:15\n\nAccuracy Bagging with SVC:0.6908077994428969 estimador:15\n\nAccuracy Bagging with SGDC:0.6657381615598886 estimador:15\n\nAccuracy Bagging with DecisionTreeC:0.9721448467966574 estimador:15\n\nAccuracy Bagging with RandomForestC:0.9665738161559888 estimador:15\n\n"
    }
   ],
   "source": [
    "for name, estimator in classifier.items():\n",
    "    bag_class = BaggingClassifier(base_estimator=estimator, n_estimators=15).fit(X_train, y_train)   #Bagging es un metaestimador\n",
    "    bag_pred = bag_class.predict(X_test)\n",
    "    print(f'Accuracy Bagging with {name}:{accuracy_score(bag_pred, y_test)} estimador:{15}')\n",
    "    print('')"
   ]
  },
  {
   "cell_type": "code",
   "execution_count": 48,
   "metadata": {},
   "outputs": [
    {
     "output_type": "execute_result",
     "data": {
      "text/plain": "[5, 10, 15, 20, 25]"
     },
     "metadata": {},
     "execution_count": 48
    }
   ],
   "source": [
    "list_rng= [ num for num in range(5,30,5)]        #O se usa para identificar al mejor estimador gridsearch\n",
    "list_rng"
   ]
  },
  {
   "cell_type": "code",
   "execution_count": 49,
   "metadata": {},
   "outputs": [
    {
     "output_type": "stream",
     "name": "stdout",
     "text": "Accuracy Bagging with KNeighbors:0.7688022284122563 estimador:5\n\nAccuracy Bagging with KNeighbors:0.7604456824512534 estimador:10\n\nAccuracy Bagging with KNeighbors:0.7576601671309192 estimador:15\n\nAccuracy Bagging with KNeighbors:0.754874651810585 estimador:20\n\nAccuracy Bagging with KNeighbors:0.7576601671309192 estimador:25\n\nAccuracy Bagging with LinearSCV:0.807799442896936 estimador:5\n\nAccuracy Bagging with LinearSCV:0.7520891364902507 estimador:10\n\nAccuracy Bagging with LinearSCV:0.8050139275766016 estimador:15\n\nAccuracy Bagging with LinearSCV:0.8133704735376045 estimador:20\n\nAccuracy Bagging with LinearSCV:0.7520891364902507 estimador:25\n\nAccuracy Bagging with SVC:0.7047353760445683 estimador:5\n\nAccuracy Bagging with SVC:0.6908077994428969 estimador:10\n\nAccuracy Bagging with SVC:0.7075208913649025 estimador:15\n\nAccuracy Bagging with SVC:0.7075208913649025 estimador:20\n\nAccuracy Bagging with SVC:0.6908077994428969 estimador:25\n\nAccuracy Bagging with SGDC:0.7075208913649025 estimador:5\n\nAccuracy Bagging with SGDC:0.713091922005571 estimador:10\n\nAccuracy Bagging with SGDC:0.6908077994428969 estimador:15\n\nAccuracy Bagging with SGDC:0.6963788300835655 estimador:20\n\nAccuracy Bagging with SGDC:0.7047353760445683 estimador:25\n\nAccuracy Bagging with DecisionTreeC:0.9749303621169917 estimador:5\n\nAccuracy Bagging with DecisionTreeC:0.9721448467966574 estimador:10\n\nAccuracy Bagging with DecisionTreeC:0.9637883008356546 estimador:15\n\nAccuracy Bagging with DecisionTreeC:0.9721448467966574 estimador:20\n\nAccuracy Bagging with DecisionTreeC:0.9637883008356546 estimador:25\n\nAccuracy Bagging with RandomForestC:0.958217270194986 estimador:5\n\nAccuracy Bagging with RandomForestC:0.9637883008356546 estimador:10\n\nAccuracy Bagging with RandomForestC:0.9665738161559888 estimador:15\n\nAccuracy Bagging with RandomForestC:0.9637883008356546 estimador:20\n\nAccuracy Bagging with RandomForestC:0.9665738161559888 estimador:25\n\n"
    }
   ],
   "source": [
    "for name, estimator in classifier.items():        #Haciendo uso de varios estimadores\n",
    "    for num in list_rng:\n",
    "        bag_class = BaggingClassifier(base_estimator=estimator, n_estimators=num).fit(X_train, y_train)   #Bagging es un metaestimador\n",
    "        bag_pred = bag_class.predict(X_test)\n",
    "        print(f'Accuracy Bagging with {name}:{accuracy_score(bag_pred, y_test)} estimador:{num}')\n",
    "        print('')"
   ]
  }
 ],
 "metadata": {
  "language_info": {
   "codemirror_mode": {
    "name": "ipython",
    "version": 3
   },
   "file_extension": ".py",
   "mimetype": "text/x-python",
   "name": "python",
   "nbconvert_exporter": "python",
   "pygments_lexer": "ipython3",
   "version": "3.7.4-final"
  },
  "orig_nbformat": 2,
  "kernelspec": {
   "name": "python37464bitanacondaconda74954a3f106b47d99d44e5fb8ca66932",
   "display_name": "Python 3.7.4 64-bit ('Anaconda': conda)"
  }
 },
 "nbformat": 4,
 "nbformat_minor": 2
}