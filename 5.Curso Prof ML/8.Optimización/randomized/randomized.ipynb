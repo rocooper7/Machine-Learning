{
 "cells": [
  {
   "cell_type": "code",
   "execution_count": 2,
   "metadata": {},
   "outputs": [],
   "source": [
    "import pandas as pd\n",
    "\n",
    "from sklearn.model_selection import RandomizedSearchCV\n",
    "from sklearn.ensemble import RandomForestRegressor"
   ]
  },
  {
   "cell_type": "code",
   "execution_count": 4,
   "metadata": {},
   "outputs": [
    {
     "output_type": "execute_result",
     "data": {
      "text/plain": "       country  rank  score      high       low       gdp    family    lifexp  \\\n0       Norway     1  7.537  7.594445  7.479556  1.616463  1.533524  0.796667   \n1      Denmark     2  7.522  7.581728  7.462272  1.482383  1.551122  0.792566   \n2      Iceland     3  7.504  7.622030  7.385970  1.480633  1.610574  0.833552   \n3  Switzerland     4  7.494  7.561772  7.426227  1.564980  1.516912  0.858131   \n4      Finland     5  7.469  7.527542  7.410458  1.443572  1.540247  0.809158   \n\n    freedom  generosity  corruption  dystopia  \n0  0.635423    0.362012    0.315964  2.277027  \n1  0.626007    0.355280    0.400770  2.313707  \n2  0.627163    0.475540    0.153527  2.322715  \n3  0.620071    0.290549    0.367007  2.276716  \n4  0.617951    0.245483    0.382612  2.430182  ",
      "text/html": "<div>\n<style scoped>\n    .dataframe tbody tr th:only-of-type {\n        vertical-align: middle;\n    }\n\n    .dataframe tbody tr th {\n        vertical-align: top;\n    }\n\n    .dataframe thead th {\n        text-align: right;\n    }\n</style>\n<table border=\"1\" class=\"dataframe\">\n  <thead>\n    <tr style=\"text-align: right;\">\n      <th></th>\n      <th>country</th>\n      <th>rank</th>\n      <th>score</th>\n      <th>high</th>\n      <th>low</th>\n      <th>gdp</th>\n      <th>family</th>\n      <th>lifexp</th>\n      <th>freedom</th>\n      <th>generosity</th>\n      <th>corruption</th>\n      <th>dystopia</th>\n    </tr>\n  </thead>\n  <tbody>\n    <tr>\n      <th>0</th>\n      <td>Norway</td>\n      <td>1</td>\n      <td>7.537</td>\n      <td>7.594445</td>\n      <td>7.479556</td>\n      <td>1.616463</td>\n      <td>1.533524</td>\n      <td>0.796667</td>\n      <td>0.635423</td>\n      <td>0.362012</td>\n      <td>0.315964</td>\n      <td>2.277027</td>\n    </tr>\n    <tr>\n      <th>1</th>\n      <td>Denmark</td>\n      <td>2</td>\n      <td>7.522</td>\n      <td>7.581728</td>\n      <td>7.462272</td>\n      <td>1.482383</td>\n      <td>1.551122</td>\n      <td>0.792566</td>\n      <td>0.626007</td>\n      <td>0.355280</td>\n      <td>0.400770</td>\n      <td>2.313707</td>\n    </tr>\n    <tr>\n      <th>2</th>\n      <td>Iceland</td>\n      <td>3</td>\n      <td>7.504</td>\n      <td>7.622030</td>\n      <td>7.385970</td>\n      <td>1.480633</td>\n      <td>1.610574</td>\n      <td>0.833552</td>\n      <td>0.627163</td>\n      <td>0.475540</td>\n      <td>0.153527</td>\n      <td>2.322715</td>\n    </tr>\n    <tr>\n      <th>3</th>\n      <td>Switzerland</td>\n      <td>4</td>\n      <td>7.494</td>\n      <td>7.561772</td>\n      <td>7.426227</td>\n      <td>1.564980</td>\n      <td>1.516912</td>\n      <td>0.858131</td>\n      <td>0.620071</td>\n      <td>0.290549</td>\n      <td>0.367007</td>\n      <td>2.276716</td>\n    </tr>\n    <tr>\n      <th>4</th>\n      <td>Finland</td>\n      <td>5</td>\n      <td>7.469</td>\n      <td>7.527542</td>\n      <td>7.410458</td>\n      <td>1.443572</td>\n      <td>1.540247</td>\n      <td>0.809158</td>\n      <td>0.617951</td>\n      <td>0.245483</td>\n      <td>0.382612</td>\n      <td>2.430182</td>\n    </tr>\n  </tbody>\n</table>\n</div>"
     },
     "metadata": {},
     "execution_count": 4
    }
   ],
   "source": [
    "dataset = pd.read_csv('felicidad.csv')\n",
    "dataset.head()"
   ]
  },
  {
   "cell_type": "code",
   "execution_count": 5,
   "metadata": {},
   "outputs": [],
   "source": [
    "X = dataset.drop(['country', 'rank', 'score'], axis=1)\n",
    "y = dataset[['score']]"
   ]
  },
  {
   "cell_type": "code",
   "execution_count": 6,
   "metadata": {},
   "outputs": [],
   "source": [
    "reg = RandomForestRegressor()"
   ]
  },
  {
   "cell_type": "code",
   "execution_count": 7,
   "metadata": {},
   "outputs": [],
   "source": [
    "parametros = {\n",
    "        'n_estimators' : range(4,16),\n",
    "        'criterion' : ['mse', 'mae'],\n",
    "        'max_depth' : range(2,11)\n",
    "    }"
   ]
  },
  {
   "cell_type": "code",
   "execution_count": 8,
   "metadata": {},
   "outputs": [],
   "source": [
    "rand_est = RandomizedSearchCV(reg, parametros , n_iter=10, cv=3, scoring='neg_mean_absolute_error').fit(X,y)"
   ]
  },
  {
   "cell_type": "code",
   "execution_count": 9,
   "metadata": {},
   "outputs": [
    {
     "output_type": "stream",
     "name": "stdout",
     "text": "RandomForestRegressor(bootstrap=True, ccp_alpha=0.0, criterion='mse',\n                      max_depth=9, max_features='auto', max_leaf_nodes=None,\n                      max_samples=None, min_impurity_decrease=0.0,\n                      min_impurity_split=None, min_samples_leaf=1,\n                      min_samples_split=2, min_weight_fraction_leaf=0.0,\n                      n_estimators=5, n_jobs=None, oob_score=False,\n                      random_state=None, verbose=0, warm_start=False)\n{'n_estimators': 5, 'max_depth': 9, 'criterion': 'mse'}\n[7.51739998]\n"
    }
   ],
   "source": [
    "print(rand_est.best_estimator_)\n",
    "print(rand_est.best_params_)\n",
    "print(rand_est.predict(X.loc[[0]]))           #Para ver que me esta prediciendo de score para la primera fila de mis features  "
   ]
  }
 ],
 "metadata": {
  "language_info": {
   "codemirror_mode": {
    "name": "ipython",
    "version": 3
   },
   "file_extension": ".py",
   "mimetype": "text/x-python",
   "name": "python",
   "nbconvert_exporter": "python",
   "pygments_lexer": "ipython3",
   "version": "3.7.4-final"
  },
  "orig_nbformat": 2,
  "kernelspec": {
   "name": "python37464bitanacondaconda74954a3f106b47d99d44e5fb8ca66932",
   "display_name": "Python 3.7.4 64-bit ('Anaconda': conda)"
  }
 },
 "nbformat": 4,
 "nbformat_minor": 2
}