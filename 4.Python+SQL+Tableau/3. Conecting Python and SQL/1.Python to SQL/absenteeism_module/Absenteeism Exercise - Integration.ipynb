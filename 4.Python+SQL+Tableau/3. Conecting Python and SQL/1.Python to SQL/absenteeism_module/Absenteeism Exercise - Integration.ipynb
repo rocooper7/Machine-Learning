{
 "cells": [
  {
   "cell_type": "code",
   "execution_count": 1,
   "metadata": {},
   "outputs": [
    {
     "output_type": "execute_result",
     "data": {
      "text/plain": [
       "    Reason_1  Reason_2  Reason_3  Reason_4  Month Value  \\\n",
       "0          0       0.0         0         1            6   \n",
       "1          1       0.0         0         0            6   \n",
       "2          0       0.0         0         1            6   \n",
       "3          0       0.0         0         1            6   \n",
       "4          1       0.0         0         0            6   \n",
       "5          1       0.0         0         0            6   \n",
       "6          1       0.0         0         0            6   \n",
       "7          0       0.0         0         1            6   \n",
       "8          0       0.0         0         1            6   \n",
       "9          1       0.0         0         0            6   \n",
       "10         0       0.0         0         1            6   \n",
       "11         0       0.0         1         0            6   \n",
       "12         0       0.0         1         0            6   \n",
       "13         0       0.0         0         1            6   \n",
       "14         0       0.0         0         0            6   \n",
       "15         0       0.0         0         0            6   \n",
       "16         0       0.0         1         0            6   \n",
       "17         1       0.0         0         0            6   \n",
       "18         0       0.0         0         1            6   \n",
       "19         1       0.0         0         0            7   \n",
       "20         0       0.0         0         1            7   \n",
       "21         0       0.0         0         1            7   \n",
       "22         1       0.0         0         0            7   \n",
       "23         1       0.0         0         0            7   \n",
       "24         0       0.0         0         1            7   \n",
       "25         0       0.0         0         1            7   \n",
       "26         0       0.0         1         0            7   \n",
       "27         1       0.0         0         0            7   \n",
       "28         0       0.0         0         1            7   \n",
       "29         1       0.0         0         0            7   \n",
       "30         0       0.0         0         1            7   \n",
       "31         0       0.0         0         1            7   \n",
       "32         0       0.0         0         1            7   \n",
       "33         0       0.0         0         1            7   \n",
       "34         1       0.0         0         0            7   \n",
       "35         1       0.0         0         0            7   \n",
       "36         1       0.0         0         0            7   \n",
       "37         0       0.0         0         0            7   \n",
       "38         0       0.0         0         0            7   \n",
       "39         0       0.0         0         0            7   \n",
       "\n",
       "    Transportation Expense  Age  Body Mass Index  Education  Children  Pet  \\\n",
       "0                      179   30               19          1         0    0   \n",
       "1                      361   28               27          0         1    4   \n",
       "2                      155   34               25          0         2    0   \n",
       "3                      179   40               22          1         2    0   \n",
       "4                      155   34               25          0         2    0   \n",
       "5                      225   28               24          0         1    2   \n",
       "6                      118   46               25          0         2    0   \n",
       "7                      179   30               19          1         0    0   \n",
       "8                      118   37               28          0         0    0   \n",
       "9                      118   37               28          0         0    0   \n",
       "10                     378   36               21          0         2    4   \n",
       "11                     118   50               31          0         1    0   \n",
       "12                     233   31               21          1         1    8   \n",
       "13                     179   30               19          1         0    0   \n",
       "14                     235   48               33          0         1    5   \n",
       "15                     268   33               25          1         0    0   \n",
       "16                     118   50               31          0         1    0   \n",
       "17                     179   30               19          1         0    0   \n",
       "18                     291   40               25          0         1    1   \n",
       "19                     179   30               19          1         0    0   \n",
       "20                     118   37               28          0         0    0   \n",
       "21                     233   31               21          1         1    8   \n",
       "22                     118   37               28          0         0    0   \n",
       "23                     118   37               28          0         0    0   \n",
       "24                     233   31               21          1         1    8   \n",
       "25                     235   43               38          0         1    0   \n",
       "26                     233   31               21          1         1    8   \n",
       "27                     228   58               22          0         2    1   \n",
       "28                     118   37               28          0         0    0   \n",
       "29                     228   58               22          0         2    1   \n",
       "30                     189   33               25          0         2    2   \n",
       "31                     118   37               28          0         0    0   \n",
       "32                     361   28               27          0         1    4   \n",
       "33                     225   28               24          0         1    2   \n",
       "34                     369   31               25          0         3    0   \n",
       "35                     289   33               30          0         2    1   \n",
       "36                     235   37               29          1         1    1   \n",
       "37                     118   40               34          0         1    8   \n",
       "38                     231   39               35          0         2    2   \n",
       "39                     179   53               25          0         1    1   \n",
       "\n",
       "    Probability  Prediction  \n",
       "0      0.134913           0  \n",
       "1      0.910004           1  \n",
       "2      0.328915           0  \n",
       "3      0.256853           0  \n",
       "4      0.777386           1  \n",
       "5      0.778412           1  \n",
       "6      0.667358           1  \n",
       "7      0.134913           0  \n",
       "8      0.150550           0  \n",
       "9      0.558061           1  \n",
       "10     0.592948           1  \n",
       "11     0.706903           1  \n",
       "12     0.635870           1  \n",
       "13     0.134913           0  \n",
       "14     0.182371           0  \n",
       "15     0.179268           0  \n",
       "16     0.706903           1  \n",
       "17     0.526324           1  \n",
       "18     0.431392           0  \n",
       "19     0.602443           1  \n",
       "20     0.194657           0  \n",
       "21     0.193277           0  \n",
       "22     0.632640           1  \n",
       "23     0.632640           1  \n",
       "24     0.193277           0  \n",
       "25     0.597039           1  \n",
       "26     0.704276           1  \n",
       "27     0.793520           1  \n",
       "28     0.194657           0  \n",
       "29     0.793520           1  \n",
       "30     0.421617           0  \n",
       "31     0.194657           0  \n",
       "32     0.659341           1  \n",
       "33     0.402059           0  \n",
       "34     0.977072           1  \n",
       "35     0.945058           1  \n",
       "36     0.834336           1  \n",
       "37     0.099471           0  \n",
       "38     0.454342           0  \n",
       "39     0.141267           0  "
      ],
      "text/html": "<div>\n<style scoped>\n    .dataframe tbody tr th:only-of-type {\n        vertical-align: middle;\n    }\n\n    .dataframe tbody tr th {\n        vertical-align: top;\n    }\n\n    .dataframe thead th {\n        text-align: right;\n    }\n</style>\n<table border=\"1\" class=\"dataframe\">\n  <thead>\n    <tr style=\"text-align: right;\">\n      <th></th>\n      <th>Reason_1</th>\n      <th>Reason_2</th>\n      <th>Reason_3</th>\n      <th>Reason_4</th>\n      <th>Month Value</th>\n      <th>Transportation Expense</th>\n      <th>Age</th>\n      <th>Body Mass Index</th>\n      <th>Education</th>\n      <th>Children</th>\n      <th>Pet</th>\n      <th>Probability</th>\n      <th>Prediction</th>\n    </tr>\n  </thead>\n  <tbody>\n    <tr>\n      <th>0</th>\n      <td>0</td>\n      <td>0.0</td>\n      <td>0</td>\n      <td>1</td>\n      <td>6</td>\n      <td>179</td>\n      <td>30</td>\n      <td>19</td>\n      <td>1</td>\n      <td>0</td>\n      <td>0</td>\n      <td>0.134913</td>\n      <td>0</td>\n    </tr>\n    <tr>\n      <th>1</th>\n      <td>1</td>\n      <td>0.0</td>\n      <td>0</td>\n      <td>0</td>\n      <td>6</td>\n      <td>361</td>\n      <td>28</td>\n      <td>27</td>\n      <td>0</td>\n      <td>1</td>\n      <td>4</td>\n      <td>0.910004</td>\n      <td>1</td>\n    </tr>\n    <tr>\n      <th>2</th>\n      <td>0</td>\n      <td>0.0</td>\n      <td>0</td>\n      <td>1</td>\n      <td>6</td>\n      <td>155</td>\n      <td>34</td>\n      <td>25</td>\n      <td>0</td>\n      <td>2</td>\n      <td>0</td>\n      <td>0.328915</td>\n      <td>0</td>\n    </tr>\n    <tr>\n      <th>3</th>\n      <td>0</td>\n      <td>0.0</td>\n      <td>0</td>\n      <td>1</td>\n      <td>6</td>\n      <td>179</td>\n      <td>40</td>\n      <td>22</td>\n      <td>1</td>\n      <td>2</td>\n      <td>0</td>\n      <td>0.256853</td>\n      <td>0</td>\n    </tr>\n    <tr>\n      <th>4</th>\n      <td>1</td>\n      <td>0.0</td>\n      <td>0</td>\n      <td>0</td>\n      <td>6</td>\n      <td>155</td>\n      <td>34</td>\n      <td>25</td>\n      <td>0</td>\n      <td>2</td>\n      <td>0</td>\n      <td>0.777386</td>\n      <td>1</td>\n    </tr>\n    <tr>\n      <th>5</th>\n      <td>1</td>\n      <td>0.0</td>\n      <td>0</td>\n      <td>0</td>\n      <td>6</td>\n      <td>225</td>\n      <td>28</td>\n      <td>24</td>\n      <td>0</td>\n      <td>1</td>\n      <td>2</td>\n      <td>0.778412</td>\n      <td>1</td>\n    </tr>\n    <tr>\n      <th>6</th>\n      <td>1</td>\n      <td>0.0</td>\n      <td>0</td>\n      <td>0</td>\n      <td>6</td>\n      <td>118</td>\n      <td>46</td>\n      <td>25</td>\n      <td>0</td>\n      <td>2</td>\n      <td>0</td>\n      <td>0.667358</td>\n      <td>1</td>\n    </tr>\n    <tr>\n      <th>7</th>\n      <td>0</td>\n      <td>0.0</td>\n      <td>0</td>\n      <td>1</td>\n      <td>6</td>\n      <td>179</td>\n      <td>30</td>\n      <td>19</td>\n      <td>1</td>\n      <td>0</td>\n      <td>0</td>\n      <td>0.134913</td>\n      <td>0</td>\n    </tr>\n    <tr>\n      <th>8</th>\n      <td>0</td>\n      <td>0.0</td>\n      <td>0</td>\n      <td>1</td>\n      <td>6</td>\n      <td>118</td>\n      <td>37</td>\n      <td>28</td>\n      <td>0</td>\n      <td>0</td>\n      <td>0</td>\n      <td>0.150550</td>\n      <td>0</td>\n    </tr>\n    <tr>\n      <th>9</th>\n      <td>1</td>\n      <td>0.0</td>\n      <td>0</td>\n      <td>0</td>\n      <td>6</td>\n      <td>118</td>\n      <td>37</td>\n      <td>28</td>\n      <td>0</td>\n      <td>0</td>\n      <td>0</td>\n      <td>0.558061</td>\n      <td>1</td>\n    </tr>\n    <tr>\n      <th>10</th>\n      <td>0</td>\n      <td>0.0</td>\n      <td>0</td>\n      <td>1</td>\n      <td>6</td>\n      <td>378</td>\n      <td>36</td>\n      <td>21</td>\n      <td>0</td>\n      <td>2</td>\n      <td>4</td>\n      <td>0.592948</td>\n      <td>1</td>\n    </tr>\n    <tr>\n      <th>11</th>\n      <td>0</td>\n      <td>0.0</td>\n      <td>1</td>\n      <td>0</td>\n      <td>6</td>\n      <td>118</td>\n      <td>50</td>\n      <td>31</td>\n      <td>0</td>\n      <td>1</td>\n      <td>0</td>\n      <td>0.706903</td>\n      <td>1</td>\n    </tr>\n    <tr>\n      <th>12</th>\n      <td>0</td>\n      <td>0.0</td>\n      <td>1</td>\n      <td>0</td>\n      <td>6</td>\n      <td>233</td>\n      <td>31</td>\n      <td>21</td>\n      <td>1</td>\n      <td>1</td>\n      <td>8</td>\n      <td>0.635870</td>\n      <td>1</td>\n    </tr>\n    <tr>\n      <th>13</th>\n      <td>0</td>\n      <td>0.0</td>\n      <td>0</td>\n      <td>1</td>\n      <td>6</td>\n      <td>179</td>\n      <td>30</td>\n      <td>19</td>\n      <td>1</td>\n      <td>0</td>\n      <td>0</td>\n      <td>0.134913</td>\n      <td>0</td>\n    </tr>\n    <tr>\n      <th>14</th>\n      <td>0</td>\n      <td>0.0</td>\n      <td>0</td>\n      <td>0</td>\n      <td>6</td>\n      <td>235</td>\n      <td>48</td>\n      <td>33</td>\n      <td>0</td>\n      <td>1</td>\n      <td>5</td>\n      <td>0.182371</td>\n      <td>0</td>\n    </tr>\n    <tr>\n      <th>15</th>\n      <td>0</td>\n      <td>0.0</td>\n      <td>0</td>\n      <td>0</td>\n      <td>6</td>\n      <td>268</td>\n      <td>33</td>\n      <td>25</td>\n      <td>1</td>\n      <td>0</td>\n      <td>0</td>\n      <td>0.179268</td>\n      <td>0</td>\n    </tr>\n    <tr>\n      <th>16</th>\n      <td>0</td>\n      <td>0.0</td>\n      <td>1</td>\n      <td>0</td>\n      <td>6</td>\n      <td>118</td>\n      <td>50</td>\n      <td>31</td>\n      <td>0</td>\n      <td>1</td>\n      <td>0</td>\n      <td>0.706903</td>\n      <td>1</td>\n    </tr>\n    <tr>\n      <th>17</th>\n      <td>1</td>\n      <td>0.0</td>\n      <td>0</td>\n      <td>0</td>\n      <td>6</td>\n      <td>179</td>\n      <td>30</td>\n      <td>19</td>\n      <td>1</td>\n      <td>0</td>\n      <td>0</td>\n      <td>0.526324</td>\n      <td>1</td>\n    </tr>\n    <tr>\n      <th>18</th>\n      <td>0</td>\n      <td>0.0</td>\n      <td>0</td>\n      <td>1</td>\n      <td>6</td>\n      <td>291</td>\n      <td>40</td>\n      <td>25</td>\n      <td>0</td>\n      <td>1</td>\n      <td>1</td>\n      <td>0.431392</td>\n      <td>0</td>\n    </tr>\n    <tr>\n      <th>19</th>\n      <td>1</td>\n      <td>0.0</td>\n      <td>0</td>\n      <td>0</td>\n      <td>7</td>\n      <td>179</td>\n      <td>30</td>\n      <td>19</td>\n      <td>1</td>\n      <td>0</td>\n      <td>0</td>\n      <td>0.602443</td>\n      <td>1</td>\n    </tr>\n    <tr>\n      <th>20</th>\n      <td>0</td>\n      <td>0.0</td>\n      <td>0</td>\n      <td>1</td>\n      <td>7</td>\n      <td>118</td>\n      <td>37</td>\n      <td>28</td>\n      <td>0</td>\n      <td>0</td>\n      <td>0</td>\n      <td>0.194657</td>\n      <td>0</td>\n    </tr>\n    <tr>\n      <th>21</th>\n      <td>0</td>\n      <td>0.0</td>\n      <td>0</td>\n      <td>1</td>\n      <td>7</td>\n      <td>233</td>\n      <td>31</td>\n      <td>21</td>\n      <td>1</td>\n      <td>1</td>\n      <td>8</td>\n      <td>0.193277</td>\n      <td>0</td>\n    </tr>\n    <tr>\n      <th>22</th>\n      <td>1</td>\n      <td>0.0</td>\n      <td>0</td>\n      <td>0</td>\n      <td>7</td>\n      <td>118</td>\n      <td>37</td>\n      <td>28</td>\n      <td>0</td>\n      <td>0</td>\n      <td>0</td>\n      <td>0.632640</td>\n      <td>1</td>\n    </tr>\n    <tr>\n      <th>23</th>\n      <td>1</td>\n      <td>0.0</td>\n      <td>0</td>\n      <td>0</td>\n      <td>7</td>\n      <td>118</td>\n      <td>37</td>\n      <td>28</td>\n      <td>0</td>\n      <td>0</td>\n      <td>0</td>\n      <td>0.632640</td>\n      <td>1</td>\n    </tr>\n    <tr>\n      <th>24</th>\n      <td>0</td>\n      <td>0.0</td>\n      <td>0</td>\n      <td>1</td>\n      <td>7</td>\n      <td>233</td>\n      <td>31</td>\n      <td>21</td>\n      <td>1</td>\n      <td>1</td>\n      <td>8</td>\n      <td>0.193277</td>\n      <td>0</td>\n    </tr>\n    <tr>\n      <th>25</th>\n      <td>0</td>\n      <td>0.0</td>\n      <td>0</td>\n      <td>1</td>\n      <td>7</td>\n      <td>235</td>\n      <td>43</td>\n      <td>38</td>\n      <td>0</td>\n      <td>1</td>\n      <td>0</td>\n      <td>0.597039</td>\n      <td>1</td>\n    </tr>\n    <tr>\n      <th>26</th>\n      <td>0</td>\n      <td>0.0</td>\n      <td>1</td>\n      <td>0</td>\n      <td>7</td>\n      <td>233</td>\n      <td>31</td>\n      <td>21</td>\n      <td>1</td>\n      <td>1</td>\n      <td>8</td>\n      <td>0.704276</td>\n      <td>1</td>\n    </tr>\n    <tr>\n      <th>27</th>\n      <td>1</td>\n      <td>0.0</td>\n      <td>0</td>\n      <td>0</td>\n      <td>7</td>\n      <td>228</td>\n      <td>58</td>\n      <td>22</td>\n      <td>0</td>\n      <td>2</td>\n      <td>1</td>\n      <td>0.793520</td>\n      <td>1</td>\n    </tr>\n    <tr>\n      <th>28</th>\n      <td>0</td>\n      <td>0.0</td>\n      <td>0</td>\n      <td>1</td>\n      <td>7</td>\n      <td>118</td>\n      <td>37</td>\n      <td>28</td>\n      <td>0</td>\n      <td>0</td>\n      <td>0</td>\n      <td>0.194657</td>\n      <td>0</td>\n    </tr>\n    <tr>\n      <th>29</th>\n      <td>1</td>\n      <td>0.0</td>\n      <td>0</td>\n      <td>0</td>\n      <td>7</td>\n      <td>228</td>\n      <td>58</td>\n      <td>22</td>\n      <td>0</td>\n      <td>2</td>\n      <td>1</td>\n      <td>0.793520</td>\n      <td>1</td>\n    </tr>\n    <tr>\n      <th>30</th>\n      <td>0</td>\n      <td>0.0</td>\n      <td>0</td>\n      <td>1</td>\n      <td>7</td>\n      <td>189</td>\n      <td>33</td>\n      <td>25</td>\n      <td>0</td>\n      <td>2</td>\n      <td>2</td>\n      <td>0.421617</td>\n      <td>0</td>\n    </tr>\n    <tr>\n      <th>31</th>\n      <td>0</td>\n      <td>0.0</td>\n      <td>0</td>\n      <td>1</td>\n      <td>7</td>\n      <td>118</td>\n      <td>37</td>\n      <td>28</td>\n      <td>0</td>\n      <td>0</td>\n      <td>0</td>\n      <td>0.194657</td>\n      <td>0</td>\n    </tr>\n    <tr>\n      <th>32</th>\n      <td>0</td>\n      <td>0.0</td>\n      <td>0</td>\n      <td>1</td>\n      <td>7</td>\n      <td>361</td>\n      <td>28</td>\n      <td>27</td>\n      <td>0</td>\n      <td>1</td>\n      <td>4</td>\n      <td>0.659341</td>\n      <td>1</td>\n    </tr>\n    <tr>\n      <th>33</th>\n      <td>0</td>\n      <td>0.0</td>\n      <td>0</td>\n      <td>1</td>\n      <td>7</td>\n      <td>225</td>\n      <td>28</td>\n      <td>24</td>\n      <td>0</td>\n      <td>1</td>\n      <td>2</td>\n      <td>0.402059</td>\n      <td>0</td>\n    </tr>\n    <tr>\n      <th>34</th>\n      <td>1</td>\n      <td>0.0</td>\n      <td>0</td>\n      <td>0</td>\n      <td>7</td>\n      <td>369</td>\n      <td>31</td>\n      <td>25</td>\n      <td>0</td>\n      <td>3</td>\n      <td>0</td>\n      <td>0.977072</td>\n      <td>1</td>\n    </tr>\n    <tr>\n      <th>35</th>\n      <td>1</td>\n      <td>0.0</td>\n      <td>0</td>\n      <td>0</td>\n      <td>7</td>\n      <td>289</td>\n      <td>33</td>\n      <td>30</td>\n      <td>0</td>\n      <td>2</td>\n      <td>1</td>\n      <td>0.945058</td>\n      <td>1</td>\n    </tr>\n    <tr>\n      <th>36</th>\n      <td>1</td>\n      <td>0.0</td>\n      <td>0</td>\n      <td>0</td>\n      <td>7</td>\n      <td>235</td>\n      <td>37</td>\n      <td>29</td>\n      <td>1</td>\n      <td>1</td>\n      <td>1</td>\n      <td>0.834336</td>\n      <td>1</td>\n    </tr>\n    <tr>\n      <th>37</th>\n      <td>0</td>\n      <td>0.0</td>\n      <td>0</td>\n      <td>0</td>\n      <td>7</td>\n      <td>118</td>\n      <td>40</td>\n      <td>34</td>\n      <td>0</td>\n      <td>1</td>\n      <td>8</td>\n      <td>0.099471</td>\n      <td>0</td>\n    </tr>\n    <tr>\n      <th>38</th>\n      <td>0</td>\n      <td>0.0</td>\n      <td>0</td>\n      <td>0</td>\n      <td>7</td>\n      <td>231</td>\n      <td>39</td>\n      <td>35</td>\n      <td>0</td>\n      <td>2</td>\n      <td>2</td>\n      <td>0.454342</td>\n      <td>0</td>\n    </tr>\n    <tr>\n      <th>39</th>\n      <td>0</td>\n      <td>0.0</td>\n      <td>0</td>\n      <td>0</td>\n      <td>7</td>\n      <td>179</td>\n      <td>53</td>\n      <td>25</td>\n      <td>0</td>\n      <td>1</td>\n      <td>1</td>\n      <td>0.141267</td>\n      <td>0</td>\n    </tr>\n  </tbody>\n</table>\n</div>"
     },
     "metadata": {},
     "execution_count": 1
    }
   ],
   "source": [
    "from absenteeism_module import *\n",
    "model = absenteeism_model('model')\n",
    "\n",
    "model.load_and_clean_data('Absenteeism_new_data.csv')\n",
    "\n",
    "model.predicted_outputs()"
   ]
  },
  {
   "cell_type": "code",
   "execution_count": 3,
   "metadata": {},
   "outputs": [],
   "source": [
    "import pymysql"
   ]
  },
  {
   "cell_type": "code",
   "execution_count": 4,
   "metadata": {},
   "outputs": [],
   "source": [
    "conn = pymysql.connect(database = 'predicted_outputs',user = 'root',password = 'Cooperboy0071985')"
   ]
  },
  {
   "cell_type": "code",
   "execution_count": 5,
   "metadata": {},
   "outputs": [],
   "source": [
    "cursor = conn.cursor()"
   ]
  },
  {
   "cell_type": "markdown",
   "metadata": {},
   "source": [
    "# Checkpoint 'df_new_obs'"
   ]
  },
  {
   "cell_type": "code",
   "execution_count": 6,
   "metadata": {},
   "outputs": [
    {
     "output_type": "execute_result",
     "data": {
      "text/plain": [
       "   Reason_1  Reason_2  Reason_3  Reason_4  Month Value  \\\n",
       "0         0       0.0         0         1            6   \n",
       "1         1       0.0         0         0            6   \n",
       "2         0       0.0         0         1            6   \n",
       "3         0       0.0         0         1            6   \n",
       "4         1       0.0         0         0            6   \n",
       "\n",
       "   Transportation Expense  Age  Body Mass Index  Education  Children  Pet  \\\n",
       "0                     179   30               19          1         0    0   \n",
       "1                     361   28               27          0         1    4   \n",
       "2                     155   34               25          0         2    0   \n",
       "3                     179   40               22          1         2    0   \n",
       "4                     155   34               25          0         2    0   \n",
       "\n",
       "   Probability  Prediction  \n",
       "0     0.134913           0  \n",
       "1     0.910004           1  \n",
       "2     0.328915           0  \n",
       "3     0.256853           0  \n",
       "4     0.777386           1  "
      ],
      "text/html": "<div>\n<style scoped>\n    .dataframe tbody tr th:only-of-type {\n        vertical-align: middle;\n    }\n\n    .dataframe tbody tr th {\n        vertical-align: top;\n    }\n\n    .dataframe thead th {\n        text-align: right;\n    }\n</style>\n<table border=\"1\" class=\"dataframe\">\n  <thead>\n    <tr style=\"text-align: right;\">\n      <th></th>\n      <th>Reason_1</th>\n      <th>Reason_2</th>\n      <th>Reason_3</th>\n      <th>Reason_4</th>\n      <th>Month Value</th>\n      <th>Transportation Expense</th>\n      <th>Age</th>\n      <th>Body Mass Index</th>\n      <th>Education</th>\n      <th>Children</th>\n      <th>Pet</th>\n      <th>Probability</th>\n      <th>Prediction</th>\n    </tr>\n  </thead>\n  <tbody>\n    <tr>\n      <th>0</th>\n      <td>0</td>\n      <td>0.0</td>\n      <td>0</td>\n      <td>1</td>\n      <td>6</td>\n      <td>179</td>\n      <td>30</td>\n      <td>19</td>\n      <td>1</td>\n      <td>0</td>\n      <td>0</td>\n      <td>0.134913</td>\n      <td>0</td>\n    </tr>\n    <tr>\n      <th>1</th>\n      <td>1</td>\n      <td>0.0</td>\n      <td>0</td>\n      <td>0</td>\n      <td>6</td>\n      <td>361</td>\n      <td>28</td>\n      <td>27</td>\n      <td>0</td>\n      <td>1</td>\n      <td>4</td>\n      <td>0.910004</td>\n      <td>1</td>\n    </tr>\n    <tr>\n      <th>2</th>\n      <td>0</td>\n      <td>0.0</td>\n      <td>0</td>\n      <td>1</td>\n      <td>6</td>\n      <td>155</td>\n      <td>34</td>\n      <td>25</td>\n      <td>0</td>\n      <td>2</td>\n      <td>0</td>\n      <td>0.328915</td>\n      <td>0</td>\n    </tr>\n    <tr>\n      <th>3</th>\n      <td>0</td>\n      <td>0.0</td>\n      <td>0</td>\n      <td>1</td>\n      <td>6</td>\n      <td>179</td>\n      <td>40</td>\n      <td>22</td>\n      <td>1</td>\n      <td>2</td>\n      <td>0</td>\n      <td>0.256853</td>\n      <td>0</td>\n    </tr>\n    <tr>\n      <th>4</th>\n      <td>1</td>\n      <td>0.0</td>\n      <td>0</td>\n      <td>0</td>\n      <td>6</td>\n      <td>155</td>\n      <td>34</td>\n      <td>25</td>\n      <td>0</td>\n      <td>2</td>\n      <td>0</td>\n      <td>0.777386</td>\n      <td>1</td>\n    </tr>\n  </tbody>\n</table>\n</div>"
     },
     "metadata": {},
     "execution_count": 6
    }
   ],
   "source": [
    "df_new_obs = model.predicted_outputs()\n",
    "df_new_obs.head()"
   ]
  },
  {
   "cell_type": "markdown",
   "metadata": {},
   "source": [
    "## Execute"
   ]
  },
  {
   "cell_type": "code",
   "execution_count": 7,
   "metadata": {},
   "outputs": [
    {
     "output_type": "execute_result",
     "data": {
      "text/plain": [
       "0"
      ]
     },
     "metadata": {},
     "execution_count": 7
    }
   ],
   "source": [
    "cursor.execute('SELECT * FROM predicted_outputs')"
   ]
  },
  {
   "cell_type": "markdown",
   "metadata": {},
   "source": [
    "## Creating the INSERT statement"
   ]
  },
  {
   "cell_type": "code",
   "execution_count": 8,
   "metadata": {},
   "outputs": [],
   "source": [
    "insert_query = 'INSERT INTO predicted_outputs VALUES'"
   ]
  },
  {
   "cell_type": "code",
   "execution_count": 9,
   "metadata": {},
   "outputs": [
    {
     "output_type": "execute_result",
     "data": {
      "text/plain": [
       "'INSERT INTO predicted_outputs VALUES'"
      ]
     },
     "metadata": {},
     "execution_count": 9
    }
   ],
   "source": [
    "insert_query"
   ]
  },
  {
   "cell_type": "code",
   "execution_count": 10,
   "metadata": {},
   "outputs": [
    {
     "output_type": "execute_result",
     "data": {
      "text/plain": [
       "(40, 13)"
      ]
     },
     "metadata": {},
     "execution_count": 10
    }
   ],
   "source": [
    "df_new_obs.shape"
   ]
  },
  {
   "cell_type": "code",
   "execution_count": 11,
   "metadata": {},
   "outputs": [
    {
     "output_type": "execute_result",
     "data": {
      "text/plain": [
       "'Age'"
      ]
     },
     "metadata": {},
     "execution_count": 11
    }
   ],
   "source": [
    "df_new_obs.columns.values[6]"
   ]
  },
  {
   "cell_type": "code",
   "execution_count": 12,
   "metadata": {},
   "outputs": [
    {
     "output_type": "execute_result",
     "data": {
      "text/plain": [
       "30"
      ]
     },
     "metadata": {},
     "execution_count": 12
    }
   ],
   "source": [
    "df_new_obs[df_new_obs.columns.values[6]][0]"
   ]
  },
  {
   "cell_type": "code",
   "execution_count": 13,
   "metadata": {},
   "outputs": [
    {
     "output_type": "execute_result",
     "data": {
      "text/plain": [
       "0     30\n",
       "1     28\n",
       "2     34\n",
       "3     40\n",
       "4     34\n",
       "5     28\n",
       "6     46\n",
       "7     30\n",
       "8     37\n",
       "9     37\n",
       "10    36\n",
       "11    50\n",
       "12    31\n",
       "13    30\n",
       "14    48\n",
       "15    33\n",
       "16    50\n",
       "17    30\n",
       "18    40\n",
       "19    30\n",
       "20    37\n",
       "21    31\n",
       "22    37\n",
       "23    37\n",
       "24    31\n",
       "25    43\n",
       "26    31\n",
       "27    58\n",
       "28    37\n",
       "29    58\n",
       "30    33\n",
       "31    37\n",
       "32    28\n",
       "33    28\n",
       "34    31\n",
       "35    33\n",
       "36    37\n",
       "37    40\n",
       "38    39\n",
       "39    53\n",
       "Name: Age, dtype: int64"
      ]
     },
     "metadata": {},
     "execution_count": 13
    }
   ],
   "source": [
    "df_new_obs['Age']"
   ]
  },
  {
   "cell_type": "code",
   "execution_count": 14,
   "metadata": {},
   "outputs": [
    {
     "output_type": "execute_result",
     "data": {
      "text/plain": [
       "30"
      ]
     },
     "metadata": {},
     "execution_count": 14
    }
   ],
   "source": [
    "df_new_obs[df_new_obs.columns.values[6]][0]"
   ]
  },
  {
   "cell_type": "code",
   "execution_count": 15,
   "metadata": {},
   "outputs": [],
   "source": [
    "for i in range(df_new_obs.shape[0]):\n",
    "    insert_query += '(' \n",
    "    \n",
    "    for j in range(df_new_obs.shape[1]):\n",
    "        insert_query += str(df_new_obs[df_new_obs.columns.values[j]][i]) + ', '\n",
    "    \n",
    "    insert_query = insert_query[:-2] + '), '  "
   ]
  },
  {
   "cell_type": "code",
   "execution_count": 16,
   "metadata": {},
   "outputs": [
    {
     "output_type": "execute_result",
     "data": {
      "text/plain": [
       "'INSERT INTO predicted_outputs VALUES(0, 0.0, 0, 1, 6, 179, 30, 19, 1, 0, 0, 0.13491296970139002, 0), (1, 0.0, 0, 0, 6, 361, 28, 27, 0, 1, 4, 0.9100044513839629, 1), (0, 0.0, 0, 1, 6, 155, 34, 25, 0, 2, 0, 0.3289150135733378, 0), (0, 0.0, 0, 1, 6, 179, 40, 22, 1, 2, 0, 0.25685291509862684, 0), (1, 0.0, 0, 0, 6, 155, 34, 25, 0, 2, 0, 0.7773856366480213, 1), (1, 0.0, 0, 0, 6, 225, 28, 24, 0, 1, 2, 0.7784116569496891, 1), (1, 0.0, 0, 0, 6, 118, 46, 25, 0, 2, 0, 0.6673583976385246, 1), (0, 0.0, 0, 1, 6, 179, 30, 19, 1, 0, 0, 0.13491296970139002, 0), (0, 0.0, 0, 1, 6, 118, 37, 28, 0, 0, 0, 0.1505500137866999, 0), (1, 0.0, 0, 0, 6, 118, 37, 28, 0, 0, 0, 0.5580614525388737, 1), (0, 0.0, 0, 1, 6, 378, 36, 21, 0, 2, 4, 0.5929480432474922, 1), (0, 0.0, 1, 0, 6, 118, 50, 31, 0, 1, 0, 0.7069033657023304, 1), (0, 0.0, 1, 0, 6, 233, 31, 21, 1, 1, 8, 0.6358698930068495, 1), (0, 0.0, 0, 1, 6, 179, 30, 19, 1, 0, 0, 0.13491296970139002, 0), (0, 0.0, 0, 0, 6, 235, 48, 33, 0, 1, 5, 0.18237102340717562, 0), (0, 0.0, 0, 0, 6, 268, 33, 25, 1, 0, 0, 0.17926829499780897, 0), (0, 0.0, 1, 0, 6, 118, 50, 31, 0, 1, 0, 0.7069033657023304, 1), (1, 0.0, 0, 0, 6, 179, 30, 19, 1, 0, 0, 0.5263235769285796, 1), (0, 0.0, 0, 1, 6, 291, 40, 25, 0, 1, 1, 0.4313923612457391, 0), (1, 0.0, 0, 0, 7, 179, 30, 19, 1, 0, 0, 0.6024429343217893, 1), (0, 0.0, 0, 1, 7, 118, 37, 28, 0, 0, 0, 0.19465672229348144, 0), (0, 0.0, 0, 1, 7, 233, 31, 21, 1, 1, 8, 0.1932773514529833, 0), (1, 0.0, 0, 0, 7, 118, 37, 28, 0, 0, 0, 0.6326403972504803, 1), (1, 0.0, 0, 0, 7, 118, 37, 28, 0, 0, 0, 0.6326403972504803, 1), (0, 0.0, 0, 1, 7, 233, 31, 21, 1, 1, 8, 0.1932773514529833, 0), (0, 0.0, 0, 1, 7, 235, 43, 38, 0, 1, 0, 0.5970387717936296, 1), (0, 0.0, 1, 0, 7, 233, 31, 21, 1, 1, 8, 0.7042763544799957, 1), (1, 0.0, 0, 0, 7, 228, 58, 22, 0, 2, 1, 0.7935204973018134, 1), (0, 0.0, 0, 1, 7, 118, 37, 28, 0, 0, 0, 0.19465672229348144, 0), (1, 0.0, 0, 0, 7, 228, 58, 22, 0, 2, 1, 0.7935204973018134, 1), (0, 0.0, 0, 1, 7, 189, 33, 25, 0, 2, 2, 0.42161665297434064, 0), (0, 0.0, 0, 1, 7, 118, 37, 28, 0, 0, 0, 0.19465672229348144, 0), (0, 0.0, 0, 1, 7, 361, 28, 27, 0, 1, 4, 0.6593412585117282, 1), (0, 0.0, 0, 1, 7, 225, 28, 24, 0, 1, 2, 0.40205855349359937, 0), (1, 0.0, 0, 0, 7, 369, 31, 25, 0, 3, 0, 0.9770720796471924, 1), (1, 0.0, 0, 0, 7, 289, 33, 30, 0, 2, 1, 0.9450580178075678, 1), (1, 0.0, 0, 0, 7, 235, 37, 29, 1, 1, 1, 0.834336098544944, 1), (0, 0.0, 0, 0, 7, 118, 40, 34, 0, 1, 8, 0.09947076316823, 0), (0, 0.0, 0, 0, 7, 231, 39, 35, 0, 2, 2, 0.45434158120443785, 0), (0, 0.0, 0, 0, 7, 179, 53, 25, 0, 1, 1, 0.1412670813110942, 0), '"
      ]
     },
     "metadata": {},
     "execution_count": 16
    }
   ],
   "source": [
    "insert_query"
   ]
  },
  {
   "cell_type": "code",
   "execution_count": 17,
   "metadata": {},
   "outputs": [],
   "source": [
    "insert_query = insert_query[:-2] + ';'"
   ]
  },
  {
   "cell_type": "code",
   "execution_count": 18,
   "metadata": {},
   "outputs": [
    {
     "output_type": "execute_result",
     "data": {
      "text/plain": [
       "'INSERT INTO predicted_outputs VALUES(0, 0.0, 0, 1, 6, 179, 30, 19, 1, 0, 0, 0.13491296970139002, 0), (1, 0.0, 0, 0, 6, 361, 28, 27, 0, 1, 4, 0.9100044513839629, 1), (0, 0.0, 0, 1, 6, 155, 34, 25, 0, 2, 0, 0.3289150135733378, 0), (0, 0.0, 0, 1, 6, 179, 40, 22, 1, 2, 0, 0.25685291509862684, 0), (1, 0.0, 0, 0, 6, 155, 34, 25, 0, 2, 0, 0.7773856366480213, 1), (1, 0.0, 0, 0, 6, 225, 28, 24, 0, 1, 2, 0.7784116569496891, 1), (1, 0.0, 0, 0, 6, 118, 46, 25, 0, 2, 0, 0.6673583976385246, 1), (0, 0.0, 0, 1, 6, 179, 30, 19, 1, 0, 0, 0.13491296970139002, 0), (0, 0.0, 0, 1, 6, 118, 37, 28, 0, 0, 0, 0.1505500137866999, 0), (1, 0.0, 0, 0, 6, 118, 37, 28, 0, 0, 0, 0.5580614525388737, 1), (0, 0.0, 0, 1, 6, 378, 36, 21, 0, 2, 4, 0.5929480432474922, 1), (0, 0.0, 1, 0, 6, 118, 50, 31, 0, 1, 0, 0.7069033657023304, 1), (0, 0.0, 1, 0, 6, 233, 31, 21, 1, 1, 8, 0.6358698930068495, 1), (0, 0.0, 0, 1, 6, 179, 30, 19, 1, 0, 0, 0.13491296970139002, 0), (0, 0.0, 0, 0, 6, 235, 48, 33, 0, 1, 5, 0.18237102340717562, 0), (0, 0.0, 0, 0, 6, 268, 33, 25, 1, 0, 0, 0.17926829499780897, 0), (0, 0.0, 1, 0, 6, 118, 50, 31, 0, 1, 0, 0.7069033657023304, 1), (1, 0.0, 0, 0, 6, 179, 30, 19, 1, 0, 0, 0.5263235769285796, 1), (0, 0.0, 0, 1, 6, 291, 40, 25, 0, 1, 1, 0.4313923612457391, 0), (1, 0.0, 0, 0, 7, 179, 30, 19, 1, 0, 0, 0.6024429343217893, 1), (0, 0.0, 0, 1, 7, 118, 37, 28, 0, 0, 0, 0.19465672229348144, 0), (0, 0.0, 0, 1, 7, 233, 31, 21, 1, 1, 8, 0.1932773514529833, 0), (1, 0.0, 0, 0, 7, 118, 37, 28, 0, 0, 0, 0.6326403972504803, 1), (1, 0.0, 0, 0, 7, 118, 37, 28, 0, 0, 0, 0.6326403972504803, 1), (0, 0.0, 0, 1, 7, 233, 31, 21, 1, 1, 8, 0.1932773514529833, 0), (0, 0.0, 0, 1, 7, 235, 43, 38, 0, 1, 0, 0.5970387717936296, 1), (0, 0.0, 1, 0, 7, 233, 31, 21, 1, 1, 8, 0.7042763544799957, 1), (1, 0.0, 0, 0, 7, 228, 58, 22, 0, 2, 1, 0.7935204973018134, 1), (0, 0.0, 0, 1, 7, 118, 37, 28, 0, 0, 0, 0.19465672229348144, 0), (1, 0.0, 0, 0, 7, 228, 58, 22, 0, 2, 1, 0.7935204973018134, 1), (0, 0.0, 0, 1, 7, 189, 33, 25, 0, 2, 2, 0.42161665297434064, 0), (0, 0.0, 0, 1, 7, 118, 37, 28, 0, 0, 0, 0.19465672229348144, 0), (0, 0.0, 0, 1, 7, 361, 28, 27, 0, 1, 4, 0.6593412585117282, 1), (0, 0.0, 0, 1, 7, 225, 28, 24, 0, 1, 2, 0.40205855349359937, 0), (1, 0.0, 0, 0, 7, 369, 31, 25, 0, 3, 0, 0.9770720796471924, 1), (1, 0.0, 0, 0, 7, 289, 33, 30, 0, 2, 1, 0.9450580178075678, 1), (1, 0.0, 0, 0, 7, 235, 37, 29, 1, 1, 1, 0.834336098544944, 1), (0, 0.0, 0, 0, 7, 118, 40, 34, 0, 1, 8, 0.09947076316823, 0), (0, 0.0, 0, 0, 7, 231, 39, 35, 0, 2, 2, 0.45434158120443785, 0), (0, 0.0, 0, 0, 7, 179, 53, 25, 0, 1, 1, 0.1412670813110942, 0);'"
      ]
     },
     "metadata": {},
     "execution_count": 18
    }
   ],
   "source": [
    "insert_query"
   ]
  },
  {
   "cell_type": "code",
   "execution_count": 19,
   "metadata": {},
   "outputs": [
    {
     "output_type": "execute_result",
     "data": {
      "text/plain": [
       "40"
      ]
     },
     "metadata": {},
     "execution_count": 19
    }
   ],
   "source": [
    "cursor.execute(insert_query)"
   ]
  },
  {
   "cell_type": "code",
   "execution_count": 20,
   "metadata": {},
   "outputs": [],
   "source": [
    "conn.commit()"
   ]
  },
  {
   "cell_type": "code",
   "execution_count": 21,
   "metadata": {},
   "outputs": [],
   "source": [
    "conn.close()"
   ]
  }
 ],
 "metadata": {
  "kernelspec": {
   "display_name": "Python 3",
   "language": "python",
   "name": "python3"
  },
  "language_info": {
   "codemirror_mode": {
    "name": "ipython",
    "version": 3
   },
   "file_extension": ".py",
   "mimetype": "text/x-python",
   "name": "python",
   "nbconvert_exporter": "python",
   "pygments_lexer": "ipython3",
   "version": "3.8.3-final"
  }
 },
 "nbformat": 4,
 "nbformat_minor": 2
}