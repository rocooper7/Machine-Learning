{
  "nbformat": 4,
  "nbformat_minor": 0,
  "metadata": {
    "colab": {
      "name": "Proyecto_Precios_Vehiculos_Usados.ipynb",
      "provenance": [],
      "machine_shape": "hm"
    },
    "kernelspec": {
      "name": "python3",
      "display_name": "Python 3"
    },
    "accelerator": "GPU"
  },
  "cells": [
    {
      "cell_type": "markdown",
      "metadata": {
        "id": "7iFOX_Y3igEV",
        "colab_type": "text"
      },
      "source": [
        "![texto alternativo](https://drive.google.com/uc?id=1_ZoJOp39dxsRTVndJP1_7jdY7oGi8sSu) \n",
        "\n",
        "<h1><center>Redes Neuronales con Keras y Scikit</center></h1>\n",
        "\n",
        "\n",
        "<center><i>Proyecto: Predicción de precios de vehiculos usados</i></center>"
      ]
    },
    {
      "cell_type": "markdown",
      "metadata": {
        "id": "ARGQZBuPwJoD",
        "colab_type": "text"
      },
      "source": [
        "<h1>Contenido</h1>\n",
        "\n",
        "<div class=\"alert alert-block alert-warning\" style=\"margin-top: 20px\">\n",
        "    <ol>\n",
        "        <li><a href=\"#problema\">Contexto Analítico  y exploración de datos</a></li>     \n",
        "        <li><a href=\"#ingenieria\">Ingeniería de datos</a></li>           \n",
        "        <li><a href=\"#arquitectura\">Diseño, Entrenamiento y Evaluación de la RN</a></li>\n",
        "    </ol>\n",
        "</div>\n",
        "<br>\n",
        "<hr>"
      ]
    },
    {
      "cell_type": "code",
      "execution_count": null,
      "metadata": {},
      "outputs": [],
      "source": []
    },
    {
      "cell_type": "markdown",
      "metadata": {
        "id": "_VfqD089-WuQ",
        "colab_type": "text"
      },
      "source": [
        "<h1 id=\"problema\">Contexto analítico y exploración de datos</h1>\n",
        "\n",
        "El mercado de autos usados es reconocido por ser un sector economico muy competido con un centenar de compañias que luchan por hacerse con una porción de la torta. El precio de los autos se devalua año año debido a multiples factores y determinar el precio correcto es clave para las compañias para lograr competir en el mercado. En este caso se requiere implementar una red neural que permita determinar el valor más justo para los vehiculos dependiento de sus atributos.\n",
        "\n",
        "Se cuenta con un dataset (Craiglist_Cars.csv) que serán cargados directamente a Colab.\n"
      ]
    },
    {
      "cell_type": "code",
      "metadata": {
        "id": "MdkkRVpVZbyQ",
        "colab_type": "code",
        "colab": {}
      },
      "source": [
        "#Importamos las librerias necesarias\n",
        "import pandas as pd\n",
        "import numpy as np\n",
        "#import io\n",
        "#from google.colab import files #Librería necesaria para interactuar con archivos en Colab"
      ],
      "execution_count": 24,
      "outputs": []
    },
    {
      "cell_type": "code",
      "metadata": {
        "id": "lUUfMdJ3rnXz",
        "colab_type": "code",
        "colab": {
          "base_uri": "https://localhost:8080/",
          "height": 138
        },
        "outputId": "bb7100e1-2212-45d6-b6fb-18f863814c33"
      },
      "source": [
        "#uploaded = files.upload()\n",
        "#cars = pd.read_csv(io.StringIO(uploaded['Craiglist_Cars.csv'].decode('utf-8')), sep = ',' )\n",
        "cars = pd.read_csv('C:\\\\Jupyter\\\\7.Machine Learning\\\\5.Redes Neuronales Keras\\\\data\\\\Craiglist_Cars.csv', sep = ',' )\n",
        "cars.head(3)"
      ],
      "execution_count": 25,
      "outputs": [
        {
          "output_type": "execute_result",
          "data": {
            "text/plain": "   year manufacturer  condition    cylinders fuel title_status transmission  \\\n0  2009    chevrolet       good  8 cylinders  gas        clean    automatic   \n1  2002          gmc       good  8 cylinders  gas        clean    automatic   \n2  2007      pontiac  excellent  4 cylinders  gas        clean    automatic   \n\n  drive       size         type paint_color  price  \n0   rwd  full-size          SUV       white   9000  \n1   4wd        NaN       pickup       white   6000  \n2   fwd    compact  convertible         red   7000  ",
            "text/html": "<div>\n<style scoped>\n    .dataframe tbody tr th:only-of-type {\n        vertical-align: middle;\n    }\n\n    .dataframe tbody tr th {\n        vertical-align: top;\n    }\n\n    .dataframe thead th {\n        text-align: right;\n    }\n</style>\n<table border=\"1\" class=\"dataframe\">\n  <thead>\n    <tr style=\"text-align: right;\">\n      <th></th>\n      <th>year</th>\n      <th>manufacturer</th>\n      <th>condition</th>\n      <th>cylinders</th>\n      <th>fuel</th>\n      <th>title_status</th>\n      <th>transmission</th>\n      <th>drive</th>\n      <th>size</th>\n      <th>type</th>\n      <th>paint_color</th>\n      <th>price</th>\n    </tr>\n  </thead>\n  <tbody>\n    <tr>\n      <th>0</th>\n      <td>2009</td>\n      <td>chevrolet</td>\n      <td>good</td>\n      <td>8 cylinders</td>\n      <td>gas</td>\n      <td>clean</td>\n      <td>automatic</td>\n      <td>rwd</td>\n      <td>full-size</td>\n      <td>SUV</td>\n      <td>white</td>\n      <td>9000</td>\n    </tr>\n    <tr>\n      <th>1</th>\n      <td>2002</td>\n      <td>gmc</td>\n      <td>good</td>\n      <td>8 cylinders</td>\n      <td>gas</td>\n      <td>clean</td>\n      <td>automatic</td>\n      <td>4wd</td>\n      <td>NaN</td>\n      <td>pickup</td>\n      <td>white</td>\n      <td>6000</td>\n    </tr>\n    <tr>\n      <th>2</th>\n      <td>2007</td>\n      <td>pontiac</td>\n      <td>excellent</td>\n      <td>4 cylinders</td>\n      <td>gas</td>\n      <td>clean</td>\n      <td>automatic</td>\n      <td>fwd</td>\n      <td>compact</td>\n      <td>convertible</td>\n      <td>red</td>\n      <td>7000</td>\n    </tr>\n  </tbody>\n</table>\n</div>"
          },
          "metadata": {},
          "execution_count": 25
        }
      ]
    },
    {
      "cell_type": "markdown",
      "metadata": {
        "id": "cSWTI9p6ZH9O",
        "colab_type": "text"
      },
      "source": [
        "#1. Evalua la cantidad, tipo y completitud de las variables disponibles. \n",
        "\n"
      ]
    },
    {
      "cell_type": "code",
      "metadata": {
        "id": "B6Lu6dsRBOob",
        "colab_type": "code",
        "colab": {
          "base_uri": "https://localhost:8080/",
          "height": 259
        },
        "outputId": "b70c98e6-0cab-4e39-ea7c-d2494ad18d7e",
        "tags": []
      },
      "source": [
        "print(cars.shape)\n",
        "100*cars.isnull().sum()/cars.shape[0]"
      ],
      "execution_count": 26,
      "outputs": [
        {
          "output_type": "stream",
          "name": "stdout",
          "text": "(434542, 12)\n"
        },
        {
          "output_type": "execute_result",
          "data": {
            "text/plain": "year             0.000000\nmanufacturer     3.646138\ncondition       36.860649\ncylinders       28.306355\nfuel             0.839505\ntitle_status     0.662997\ntransmission     0.989087\ndrive           13.280189\nsize            58.133621\ntype            11.566661\npaint_color     19.734571\nprice            0.000000\ndtype: float64"
          },
          "metadata": {},
          "execution_count": 26
        }
      ]
    },
    {
      "cell_type": "code",
      "metadata": {
        "id": "8cYAAJxXBr2b",
        "colab_type": "code",
        "colab": {
          "base_uri": "https://localhost:8080/",
          "height": 86
        },
        "outputId": "85236be6-d678-4093-a128-c18df2f81b76",
        "tags": []
      },
      "source": [
        "types = pd.DataFrame(cars.dtypes)\n",
        "print(\"Tipos de variables\",types.groupby(0).size())"
      ],
      "execution_count": 27,
      "outputs": [
        {
          "output_type": "stream",
          "name": "stdout",
          "text": "Tipos de variables 0\nint64      2\nobject    10\ndtype: int64\n"
        }
      ]
    },
    {
      "cell_type": "code",
      "metadata": {
        "id": "07gsnrCtHL7e",
        "colab_type": "code",
        "colab": {
          "base_uri": "https://localhost:8080/",
          "height": 190
        },
        "outputId": "11194cd6-80b7-4d4c-8abe-11d77dc2a8c8",
        "tags": []
      },
      "source": [
        "categoricas = types.index[types[0] == 'O'].values\n",
        "for line in categoricas:\n",
        " print(\"La variable \"+ line +\" contiene:\",str(len(cars[line].unique()))+\" distinct values\")"
      ],
      "execution_count": 28,
      "outputs": [
        {
          "output_type": "stream",
          "name": "stdout",
          "text": "La variable manufacturer contiene: 43 distinct values\nLa variable condition contiene: 7 distinct values\nLa variable cylinders contiene: 9 distinct values\nLa variable fuel contiene: 6 distinct values\nLa variable title_status contiene: 7 distinct values\nLa variable transmission contiene: 4 distinct values\nLa variable drive contiene: 4 distinct values\nLa variable size contiene: 5 distinct values\nLa variable type contiene: 14 distinct values\nLa variable paint_color contiene: 13 distinct values\n"
        }
      ]
    },
    {
      "cell_type": "code",
      "metadata": {
        "id": "uYilrpGZHgWe",
        "colab_type": "code",
        "colab": {
          "base_uri": "https://localhost:8080/",
          "height": 1000
        },
        "outputId": "fc897c71-e8ed-4fb9-cc43-c8fba05d5141",
        "tags": []
      },
      "source": [
        "for i in categoricas:\n",
        "    print(\"Distribución de \",i,\": \\n\", 100*cars[i].value_counts()/cars.shape[0],\"\\n\")"
      ],
      "execution_count": 29,
      "outputs": [
        {
          "output_type": "stream",
          "name": "stdout",
          "text": "Distribución de  manufacturer : \n ford               17.966273\nchevrolet          14.873591\ntoyota              7.667383\nnissan              5.094789\nhonda               5.086045\njeep                4.915060\nram                 4.827381\ngmc                 4.297628\ndodge               3.775699\nbmw                 2.687887\nhyundai             2.462133\nsubaru              2.127988\nmercedes-benz       2.062401\nvolkswagen          2.023280\nchrysler            1.783947\nkia                 1.712378\ncadillac            1.504343\nbuick               1.329906\nlexus               1.304592\nmazda               1.288023\naudi                1.187917\nacura               0.865509\ninfiniti            0.783814\npontiac             0.766784\nlincoln             0.685319\nvolvo               0.590507\nmitsubishi          0.550004\nmini                0.441154\nrover               0.433330\nmercury             0.412848\nsaturn              0.377639\njaguar              0.226906\nfiat                0.153265\nharley-davidson     0.036590\nalfa-romeo          0.018640\ndatsun              0.018640\nland rover          0.005063\naston-martin        0.004142\nporche              0.003452\nferrari             0.001151\nhennessey           0.000230\nmorgan              0.000230\nName: manufacturer, dtype: float64 \n\nDistribución de  condition : \n excellent    30.126432\ngood         23.442843\nlike new      6.345532\nfair          2.811926\nnew           0.223914\nsalvage       0.188704\nName: condition, dtype: float64 \n\nDistribución de  cylinders : \n 6 cylinders     26.003700\n8 cylinders     22.150908\n4 cylinders     21.977622\n5 cylinders      0.662307\n10 cylinders     0.418602\nother            0.333685\n3 cylinders      0.117595\n12 cylinders     0.029226\nName: cylinders, dtype: float64 \n\nDistribución de  fuel : \n gas         87.363247\ndiesel       7.323573\nother        3.458814\nhybrid       0.860676\nelectric     0.154185\nName: fuel, dtype: float64 \n\nDistribución de  title_status : \n clean         95.473855\nrebuilt        1.893948\nsalvage        0.992309\nlien           0.801994\nmissing        0.147282\nparts only     0.027615\nName: title_status, dtype: float64 \n\nDistribución de  transmission : \n automatic    88.616060\nmanual        7.696609\nother         2.698243\nName: transmission, dtype: float64 \n\nDistribución de  drive : \n 4wd    38.471540\nfwd    30.738801\nrwd    17.509470\nName: drive, dtype: float64 \n\nDistribución de  size : \n full-size      21.924233\nmid-size       12.277294\ncompact         6.618923\nsub-compact     1.045929\nName: size, dtype: float64 \n\nDistribución de  type : \n sedan          22.850265\nSUV            22.407961\npickup         11.318354\ntruck          10.611632\ncoupe           5.145417\nhatchback       3.212578\nother           3.179209\nwagon           2.757386\nconvertible     2.474790\nvan             2.297822\nmini-van        1.799136\noffroad         0.227366\nbus             0.151424\nName: type, dtype: float64 \n\nDistribución de  paint_color : \n white     19.579005\nblack     16.460089\nsilver    11.873421\nblue       8.432096\nred        8.342347\ngrey       7.617676\ngreen      2.405981\ncustom     2.297822\nbrown      1.835956\nyellow     0.690842\norange     0.515485\npurple     0.214709\nName: paint_color, dtype: float64 \n\n"
        }
      ]
    },
    {
      "cell_type": "markdown",
      "metadata": {
        "id": "B9_dNCTum1Hw",
        "colab_type": "text"
      },
      "source": [
        "<h1 id=\"ingenieria\">Ingeniería de datos</h1>\n",
        "\n",
        "Ahora se debe preparar la información para poder alimentar la red neuronal."
      ]
    },
    {
      "cell_type": "markdown",
      "metadata": {
        "id": "vRCjvmPz63n7",
        "colab_type": "text"
      },
      "source": [
        "# 2. Implementa estrategías para tratar la información nula en las variables cuya tasa de nulos sea máximo el 10%"
      ]
    },
    {
      "cell_type": "code",
      "metadata": {
        "id": "hVNrQiqFO78K",
        "colab_type": "code",
        "colab": {
          "base_uri": "https://localhost:8080/",
          "height": 242
        },
        "outputId": "fab93274-ce2f-4ad0-dcc6-a470af7176fc"
      },
      "source": [
        "#Reemplazamos el tipo de actividad por la moda \n",
        "cars[\"fuel\"] = cars[\"fuel\"].fillna(cars[\"fuel\"].mode()[0])\n",
        "cars[\"title_status\"] = cars[\"title_status\"].fillna(cars[\"title_status\"].mode()[0])\n",
        "cars[\"transmission\"] = cars[\"transmission\"].fillna(cars[\"transmission\"].mode()[0])\n",
        "cars[\"manufacturer\"] = cars[\"manufacturer\"].fillna(cars[\"manufacturer\"].mode()[0])\n",
        "#Verificamos el cambio\n",
        "100*cars.isnull().sum()/cars.shape[0]"
      ],
      "execution_count": 30,
      "outputs": [
        {
          "output_type": "execute_result",
          "data": {
            "text/plain": "year             0.000000\nmanufacturer     0.000000\ncondition       36.860649\ncylinders       28.306355\nfuel             0.000000\ntitle_status     0.000000\ntransmission     0.000000\ndrive           13.280189\nsize            58.133621\ntype            11.566661\npaint_color     19.734571\nprice            0.000000\ndtype: float64"
          },
          "metadata": {},
          "execution_count": 30
        }
      ]
    },
    {
      "cell_type": "markdown",
      "metadata": {
        "id": "CtshbEQa7aRW",
        "colab_type": "text"
      },
      "source": [
        "Luego del procedimiento anterior se debe proceder a convertir las variables categoricas en variables numericas. Durante el curso implementamos un método de One Hot Encoding disponible en Scikit Learn. En este caso utilizaremos una funcionalidad embedida en Pandas denominada [\"get_dummies\"](https://pandas.pydata.org/pandas-docs/stable/reference/api/pandas.get_dummies.html):"
      ]
    },
    {
      "cell_type": "code",
      "metadata": {
        "id": "ZEtEYD5DS1iI",
        "colab_type": "code",
        "colab": {
          "base_uri": "https://localhost:8080/",
          "height": 221
        },
        "outputId": "5cfe30c3-b45a-4d90-b233-f343c4b3f71c",
        "tags": []
      },
      "source": [
        "df= cars.copy()\n",
        "for col in categoricas:\n",
        "    df = pd.concat([df, (pd.get_dummies(df[col])).astype('int64')], axis=1)\n",
        "    df.drop(columns=[col],inplace=True)\n",
        "#Al crear las variables dummies se crean varias columnas referentes a categorias\n",
        "# 'other' que no aportan ningún valor al dataset por lo cual las eliminamos\n",
        "df.drop('other', axis=1, inplace=True)\n",
        "print(df.shape)\n",
        "df.head(3)"
      ],
      "execution_count": 31,
      "outputs": [
        {
          "output_type": "stream",
          "name": "stdout",
          "text": "(434542, 100)\n"
        },
        {
          "output_type": "execute_result",
          "data": {
            "text/plain": "   year  price  acura  alfa-romeo  aston-martin  audi  bmw  buick  cadillac  \\\n0  2009   9000      0           0             0     0    0      0         0   \n1  2002   6000      0           0             0     0    0      0         0   \n2  2007   7000      0           0             0     0    0      0         0   \n\n   chevrolet  ...  brown  custom  green  grey  orange  purple  red  silver  \\\n0          1  ...      0       0      0     0       0       0    0       0   \n1          0  ...      0       0      0     0       0       0    0       0   \n2          0  ...      0       0      0     0       0       0    1       0   \n\n   white  yellow  \n0      1       0  \n1      1       0  \n2      0       0  \n\n[3 rows x 100 columns]",
            "text/html": "<div>\n<style scoped>\n    .dataframe tbody tr th:only-of-type {\n        vertical-align: middle;\n    }\n\n    .dataframe tbody tr th {\n        vertical-align: top;\n    }\n\n    .dataframe thead th {\n        text-align: right;\n    }\n</style>\n<table border=\"1\" class=\"dataframe\">\n  <thead>\n    <tr style=\"text-align: right;\">\n      <th></th>\n      <th>year</th>\n      <th>price</th>\n      <th>acura</th>\n      <th>alfa-romeo</th>\n      <th>aston-martin</th>\n      <th>audi</th>\n      <th>bmw</th>\n      <th>buick</th>\n      <th>cadillac</th>\n      <th>chevrolet</th>\n      <th>...</th>\n      <th>brown</th>\n      <th>custom</th>\n      <th>green</th>\n      <th>grey</th>\n      <th>orange</th>\n      <th>purple</th>\n      <th>red</th>\n      <th>silver</th>\n      <th>white</th>\n      <th>yellow</th>\n    </tr>\n  </thead>\n  <tbody>\n    <tr>\n      <th>0</th>\n      <td>2009</td>\n      <td>9000</td>\n      <td>0</td>\n      <td>0</td>\n      <td>0</td>\n      <td>0</td>\n      <td>0</td>\n      <td>0</td>\n      <td>0</td>\n      <td>1</td>\n      <td>...</td>\n      <td>0</td>\n      <td>0</td>\n      <td>0</td>\n      <td>0</td>\n      <td>0</td>\n      <td>0</td>\n      <td>0</td>\n      <td>0</td>\n      <td>1</td>\n      <td>0</td>\n    </tr>\n    <tr>\n      <th>1</th>\n      <td>2002</td>\n      <td>6000</td>\n      <td>0</td>\n      <td>0</td>\n      <td>0</td>\n      <td>0</td>\n      <td>0</td>\n      <td>0</td>\n      <td>0</td>\n      <td>0</td>\n      <td>...</td>\n      <td>0</td>\n      <td>0</td>\n      <td>0</td>\n      <td>0</td>\n      <td>0</td>\n      <td>0</td>\n      <td>0</td>\n      <td>0</td>\n      <td>1</td>\n      <td>0</td>\n    </tr>\n    <tr>\n      <th>2</th>\n      <td>2007</td>\n      <td>7000</td>\n      <td>0</td>\n      <td>0</td>\n      <td>0</td>\n      <td>0</td>\n      <td>0</td>\n      <td>0</td>\n      <td>0</td>\n      <td>0</td>\n      <td>...</td>\n      <td>0</td>\n      <td>0</td>\n      <td>0</td>\n      <td>0</td>\n      <td>0</td>\n      <td>0</td>\n      <td>1</td>\n      <td>0</td>\n      <td>0</td>\n      <td>0</td>\n    </tr>\n  </tbody>\n</table>\n<p>3 rows × 100 columns</p>\n</div>"
          },
          "metadata": {},
          "execution_count": 31
        }
      ]
    },
    {
      "cell_type": "code",
      "metadata": {
        "id": "5Iesa56hVz8s",
        "colab_type": "code",
        "colab": {
          "base_uri": "https://localhost:8080/",
          "height": 69
        },
        "outputId": "14c63168-ea3e-431b-da6a-dd77da704edd",
        "tags": []
      },
      "source": [
        "types = pd.DataFrame(df.dtypes)\n",
        "print(\"Tipos de variables\",types.groupby(0).size())"
      ],
      "execution_count": 32,
      "outputs": [
        {
          "output_type": "stream",
          "name": "stdout",
          "text": "Tipos de variables 0\nint64    100\ndtype: int64\n"
        }
      ]
    },
    {
      "cell_type": "code",
      "metadata": {
        "id": "d-Isxxj2wzPX",
        "colab_type": "code",
        "colab": {
          "base_uri": "https://localhost:8080/",
          "height": 204
        },
        "outputId": "0513b653-a8bc-4ccc-fad9-042eb27a6952"
      },
      "source": [
        "numeric_columns = list(set(types.index[types[0] ==\"int64\"].values) - set([\"price\"]))\n",
        "variables_consolidadas = df[numeric_columns]\n",
        "objetivo = df[\"price\"] #Variable objetivo de nuestra regresion.\n",
        "\n",
        "variables_consolidadas.head(3)"
      ],
      "execution_count": 33,
      "outputs": [
        {
          "output_type": "execute_result",
          "data": {
            "text/plain": "   porche  8 cylinders  hybrid  yellow  kia  3 cylinders  white  parts only  \\\n0       0            1       0       0    0            0      1           0   \n1       0            1       0       0    0            0      1           0   \n2       0            0       0       0    0            0      0           0   \n\n   hennessey  mini-van  ...  chevrolet  purple  5 cylinders  orange  silver  \\\n0          0         0  ...          1       0            0       0       0   \n1          0         0  ...          0       0            0       0       0   \n2          0         0  ...          0       0            0       0       0   \n\n   full-size  year  land rover  12 cylinders  volkswagen  \n0          1  2009           0             0           0  \n1          0  2002           0             0           0  \n2          0  2007           0             0           0  \n\n[3 rows x 99 columns]",
            "text/html": "<div>\n<style scoped>\n    .dataframe tbody tr th:only-of-type {\n        vertical-align: middle;\n    }\n\n    .dataframe tbody tr th {\n        vertical-align: top;\n    }\n\n    .dataframe thead th {\n        text-align: right;\n    }\n</style>\n<table border=\"1\" class=\"dataframe\">\n  <thead>\n    <tr style=\"text-align: right;\">\n      <th></th>\n      <th>porche</th>\n      <th>8 cylinders</th>\n      <th>hybrid</th>\n      <th>yellow</th>\n      <th>kia</th>\n      <th>3 cylinders</th>\n      <th>white</th>\n      <th>parts only</th>\n      <th>hennessey</th>\n      <th>mini-van</th>\n      <th>...</th>\n      <th>chevrolet</th>\n      <th>purple</th>\n      <th>5 cylinders</th>\n      <th>orange</th>\n      <th>silver</th>\n      <th>full-size</th>\n      <th>year</th>\n      <th>land rover</th>\n      <th>12 cylinders</th>\n      <th>volkswagen</th>\n    </tr>\n  </thead>\n  <tbody>\n    <tr>\n      <th>0</th>\n      <td>0</td>\n      <td>1</td>\n      <td>0</td>\n      <td>0</td>\n      <td>0</td>\n      <td>0</td>\n      <td>1</td>\n      <td>0</td>\n      <td>0</td>\n      <td>0</td>\n      <td>...</td>\n      <td>1</td>\n      <td>0</td>\n      <td>0</td>\n      <td>0</td>\n      <td>0</td>\n      <td>1</td>\n      <td>2009</td>\n      <td>0</td>\n      <td>0</td>\n      <td>0</td>\n    </tr>\n    <tr>\n      <th>1</th>\n      <td>0</td>\n      <td>1</td>\n      <td>0</td>\n      <td>0</td>\n      <td>0</td>\n      <td>0</td>\n      <td>1</td>\n      <td>0</td>\n      <td>0</td>\n      <td>0</td>\n      <td>...</td>\n      <td>0</td>\n      <td>0</td>\n      <td>0</td>\n      <td>0</td>\n      <td>0</td>\n      <td>0</td>\n      <td>2002</td>\n      <td>0</td>\n      <td>0</td>\n      <td>0</td>\n    </tr>\n    <tr>\n      <th>2</th>\n      <td>0</td>\n      <td>0</td>\n      <td>0</td>\n      <td>0</td>\n      <td>0</td>\n      <td>0</td>\n      <td>0</td>\n      <td>0</td>\n      <td>0</td>\n      <td>0</td>\n      <td>...</td>\n      <td>0</td>\n      <td>0</td>\n      <td>0</td>\n      <td>0</td>\n      <td>0</td>\n      <td>0</td>\n      <td>2007</td>\n      <td>0</td>\n      <td>0</td>\n      <td>0</td>\n    </tr>\n  </tbody>\n</table>\n<p>3 rows × 99 columns</p>\n</div>"
          },
          "metadata": {},
          "execution_count": 33
        }
      ]
    },
    {
      "cell_type": "markdown",
      "metadata": {
        "id": "mOP0z86EKrly",
        "colab_type": "text"
      },
      "source": [
        "# 3. Separa el set de datos consolidados en 3 sets (entrenamiento, prueba y validación) de acuerdo con las recomendaciones vistas en el curso."
      ]
    },
    {
      "cell_type": "code",
      "metadata": {
        "id": "Jug8ZISZQQ0X",
        "colab_type": "code",
        "colab": {
          "base_uri": "https://localhost:8080/",
          "height": 121
        },
        "outputId": "991aaae9-3855-42f8-9922-6943d3d4c008",
        "tags": []
      },
      "source": [
        "from sklearn.model_selection import train_test_split\n",
        "#Entrenamiento y prueba con relación 80:20\n",
        "x_train, x_test, y_train, y_test = train_test_split(variables_consolidadas,objetivo, test_size=0.2,random_state=2020)\n",
        "#Entrenamiento y validación con relación 90:10\n",
        "x_train, x_val, y_train, y_val = train_test_split(x_train,y_train, test_size=0.1, random_state=2020)\n",
        "\n",
        "y_train=y_train.values.reshape(-1,1)\n",
        "y_test=y_test.values.reshape(-1,1)\n",
        "y_val=y_val.values.reshape(-1,1)\n",
        "\n",
        "print(\"Shape of x_train:\",x_train.shape)\n",
        "print(\"Shape of x_test:\",x_test.shape)\n",
        "print(\"Shape of x_val:\",x_val.shape)\n",
        "print(\"Shape of y_train:\",y_train.shape)\n",
        "print(\"Shape of y_test:\",y_test.shape)\n",
        "print(\"Shape of y_val:\",y_val.shape)"
      ],
      "execution_count": 34,
      "outputs": [
        {
          "output_type": "stream",
          "name": "stdout",
          "text": "Shape of x_train: (312869, 99)\nShape of x_test: (86909, 99)\nShape of x_val: (34764, 99)\nShape of y_train: (312869, 1)\nShape of y_test: (86909, 1)\nShape of y_val: (34764, 1)\n"
        }
      ]
    },
    {
      "cell_type": "markdown",
      "metadata": {
        "id": "APBt-AAfNBQj",
        "colab_type": "text"
      },
      "source": [
        "<h1 id=\"arquitectura\">Diseño, Entrenamiento y Evaluación de la RN</h1>\n",
        "\n",
        "Una vez consolidado los sets de información de entrenamiento, validacion y pruebas ya podemos iniciar a modelar nuestra red neuronal con las siguientes consideraciones:\n",
        "* Realiza la prueba con un par de arquitecturas iniciales.\n",
        "* Evalua el desempeño de la red.\n",
        "* Si el desempeño es bajo vuelve a la información y prueba estrategias de estandarización de la información."
      ]
    },
    {
      "cell_type": "markdown",
      "metadata": {
        "id": "528iJ6fQ86ds",
        "colab_type": "text"
      },
      "source": [
        "# 4. Implementa una red neuronal cuyas pérdidas (MSE) con el set de prueba sea menor a 0.40."
      ]
    },
    {
      "cell_type": "code",
      "metadata": {
        "id": "Y6TWVkxGmcIB",
        "colab_type": "code",
        "colab": {}
      },
      "source": [
        "from sklearn.preprocessing import StandardScaler\n",
        "scaler = StandardScaler()\n",
        "scaler.fit(x_train)\n",
        "x_train_scaled = scaler.transform(x_train)\n",
        "x_val_scaled = scaler.transform(x_val)\n",
        "x_test_scaled = scaler.transform(x_test)\n",
        "\n",
        "scaler1 = StandardScaler()\n",
        "scaler1.fit(y_train)\n",
        "y_train_scaled = scaler1.transform(y_train)\n",
        "y_val_scaled = scaler1.transform(y_val)\n",
        "y_test_scaled = scaler1.transform(y_test)"
      ],
      "execution_count": 35,
      "outputs": []
    },
    {
      "cell_type": "code",
      "metadata": {
        "id": "5WORHuhPQmKX",
        "colab_type": "code",
        "colab": {
          "base_uri": "https://localhost:8080/",
          "height": 345
        },
        "outputId": "366e473d-9a8c-412b-e42c-12c1c05639cb",
        "tags": []
      },
      "source": [
        "from keras.models import Sequential\n",
        "from keras.layers import Dense, Dropout\n",
        "from keras.utils import plot_model\n",
        "\n",
        "model = Sequential()\n",
        "model.add(Dense(256,input_dim = x_train.shape[1],activation=\"relu\"))\n",
        "model.add(Dense(128,activation=\"relu\"))\n",
        "model.add(Dense(128,activation=\"relu\"))\n",
        "model.add(Dropout(0.2))\n",
        "model.add(Dense(1,activation = \"linear\")) \n",
        "model.compile(optimizer = \"adam\",loss=\"mse\",metrics=[\"mean_absolute_error\"])\n",
        "\n",
        "print(model.summary())"
      ],
      "execution_count": 36,
      "outputs": [
        {
          "output_type": "stream",
          "name": "stderr",
          "text": "Using TensorFlow backend.\nModel: \"sequential_1\"\n_________________________________________________________________\nLayer (type)                 Output Shape              Param #   \n=================================================================\ndense_1 (Dense)              (None, 256)               25600     \n_________________________________________________________________\ndense_2 (Dense)              (None, 128)               32896     \n_________________________________________________________________\ndense_3 (Dense)              (None, 128)               16512     \n_________________________________________________________________\ndropout_1 (Dropout)          (None, 128)               0         \n_________________________________________________________________\ndense_4 (Dense)              (None, 1)                 129       \n=================================================================\nTotal params: 75,137\nTrainable params: 75,137\nNon-trainable params: 0\n_________________________________________________________________\nNone\n"
        }
      ]
    },
    {
      "cell_type": "code",
      "metadata": {
        "id": "H-y9uDZh_gxS",
        "colab_type": "code",
        "colab": {
          "base_uri": "https://localhost:8080/",
          "height": 1000
        },
        "outputId": "c3dc8fe4-e59c-4241-93ea-784a24d5c406",
        "tags": []
      },
      "source": [
        "model.fit(x_train_scaled,y_train_scaled, validation_data = (x_val_scaled,y_val_scaled),epochs=50, batch_size=1024)"
      ],
      "execution_count": 37,
      "outputs": [
        {
          "output_type": "stream",
          "name": "stdout",
          "text": "Train on 312869 samples, validate on 34764 samples\nEpoch 1/50\n312869/312869 [==============================] - 5s 17us/step - loss: 0.5573 - mean_absolute_error: 0.5176 - val_loss: 0.5015 - val_mean_absolute_error: 0.4577\nEpoch 2/50\n312869/312869 [==============================] - 4s 14us/step - loss: 0.4847 - mean_absolute_error: 0.4595 - val_loss: 0.7061 - val_mean_absolute_error: 0.4447\nEpoch 3/50\n312869/312869 [==============================] - 5s 15us/step - loss: 0.4696 - mean_absolute_error: 0.4461 - val_loss: 0.6012 - val_mean_absolute_error: 0.4437\nEpoch 4/50\n312869/312869 [==============================] - 5s 15us/step - loss: 0.4457 - mean_absolute_error: 0.4395 - val_loss: 0.7451 - val_mean_absolute_error: 0.4399\nEpoch 5/50\n312869/312869 [==============================] - 5s 15us/step - loss: 0.4468 - mean_absolute_error: 0.4357 - val_loss: 0.4566 - val_mean_absolute_error: 0.4296\nEpoch 6/50\n312869/312869 [==============================] - 5s 15us/step - loss: 0.4289 - mean_absolute_error: 0.4291 - val_loss: 0.5094 - val_mean_absolute_error: 0.4284\nEpoch 7/50\n312869/312869 [==============================] - 4s 14us/step - loss: 0.4211 - mean_absolute_error: 0.4251 - val_loss: 0.4287 - val_mean_absolute_error: 0.4216\nEpoch 8/50\n312869/312869 [==============================] - 5s 15us/step - loss: 0.4111 - mean_absolute_error: 0.4211 - val_loss: 0.5514 - val_mean_absolute_error: 0.4256\nEpoch 9/50\n312869/312869 [==============================] - 5s 16us/step - loss: 0.4047 - mean_absolute_error: 0.4178 - val_loss: 0.4118 - val_mean_absolute_error: 0.4179\nEpoch 10/50\n312869/312869 [==============================] - 5s 16us/step - loss: 0.3961 - mean_absolute_error: 0.4145 - val_loss: 0.4194 - val_mean_absolute_error: 0.4162\nEpoch 11/50\n312869/312869 [==============================] - 5s 15us/step - loss: 0.3923 - mean_absolute_error: 0.4117 - val_loss: 0.4000 - val_mean_absolute_error: 0.4109\nEpoch 12/50\n312869/312869 [==============================] - 5s 15us/step - loss: 0.3854 - mean_absolute_error: 0.4087 - val_loss: 0.4125 - val_mean_absolute_error: 0.4117\nEpoch 13/50\n312869/312869 [==============================] - 6s 20us/step - loss: 0.3832 - mean_absolute_error: 0.4071 - val_loss: 0.3994 - val_mean_absolute_error: 0.4135\nEpoch 14/50\n312869/312869 [==============================] - 5s 16us/step - loss: 0.3810 - mean_absolute_error: 0.4040 - val_loss: 0.4092 - val_mean_absolute_error: 0.4140\nEpoch 15/50\n312869/312869 [==============================] - 5s 17us/step - loss: 0.3750 - mean_absolute_error: 0.4029 - val_loss: 0.4051 - val_mean_absolute_error: 0.4084\nEpoch 16/50\n311296/312869 [============================>.] - ETA: 0s - loss: 0.3707 - mean_absolute_error: 0.400312869/312869 [==============================] - 6s 19us/step - loss: 0.3707 - mean_absolute_error: 0.4000 - val_loss: 0.4022 - val_mean_absolute_error: 0.4106\nEpoch 17/50\n312869/312869 [==============================] - 5s 17us/step - loss: 0.3668 - mean_absolute_error: 0.3979 - val_loss: 0.4174 - val_mean_absolute_error: 0.4107\nEpoch 18/50\n312869/312869 [==============================] - 5s 17us/step - loss: 0.3688 - mean_absolute_error: 0.3975 - val_loss: 0.6985 - val_mean_absolute_error: 0.4107\nEpoch 19/50\n312869/312869 [==============================] - 5s 16us/step - loss: 0.3916 - mean_absolute_error: 0.3987 - val_loss: 0.4004 - val_mean_absolute_error: 0.4061\nEpoch 20/50\n312869/312869 [==============================] - 5s 16us/step - loss: 0.3604 - mean_absolute_error: 0.3953 - val_loss: 0.3969 - val_mean_absolute_error: 0.4050\nEpoch 21/50\n312869/312869 [==============================] - 5s 17us/step - loss: 0.3564 - mean_absolute_error: 0.3918 - val_loss: 0.3966 - val_mean_absolute_error: 0.4009\nEpoch 22/50\n312869/312869 [==============================] - 5s 17us/step - loss: 0.3533 - mean_absolute_error: 0.3908 - val_loss: 0.3868 - val_mean_absolute_error: 0.4015\nEpoch 23/50\n312869/312869 [==============================] - 5s 17us/step - loss: 0.3503 - mean_absolute_error: 0.3892 - val_loss: 0.3874 - val_mean_absolute_error: 0.4043\nEpoch 24/50\n312869/312869 [==============================] - 6s 20us/step - loss: 0.3472 - mean_absolute_error: 0.3873 - val_loss: 0.3845 - val_mean_absolute_error: 0.4033\nEpoch 25/50\n312869/312869 [==============================] - 5s 16us/step - loss: 0.3441 - mean_absolute_error: 0.3857 - val_loss: 0.3893 - val_mean_absolute_error: 0.4007\nEpoch 26/50\n312869/312869 [==============================] - 5s 16us/step - loss: 0.3434 - mean_absolute_error: 0.3850 - val_loss: 0.3843 - val_mean_absolute_error: 0.3996\nEpoch 27/50\n312869/312869 [==============================] - 5s 17us/step - loss: 0.3415 - mean_absolute_error: 0.3842 - val_loss: 0.3845 - val_mean_absolute_error: 0.3983\nEpoch 28/50\n312869/312869 [==============================] - 5s 16us/step - loss: 0.3378 - mean_absolute_error: 0.3817 - val_loss: 0.3834 - val_mean_absolute_error: 0.3996\nEpoch 29/50\n312869/312869 [==============================] - 5s 15us/step - loss: 0.3357 - mean_absolute_error: 0.3810 - val_loss: 0.3816 - val_mean_absolute_error: 0.3965\nEpoch 30/50\n312869/312869 [==============================] - 5s 16us/step - loss: 0.3338 - mean_absolute_error: 0.3793 - val_loss: 0.3819 - val_mean_absolute_error: 0.3984\nEpoch 31/50\n312869/312869 [==============================] - 5s 15us/step - loss: 0.3329 - mean_absolute_error: 0.3796 - val_loss: 0.3795 - val_mean_absolute_error: 0.3986\nEpoch 32/50\n312869/312869 [==============================] - 4s 14us/step - loss: 0.3302 - mean_absolute_error: 0.3779 - val_loss: 0.3809 - val_mean_absolute_error: 0.3972\nEpoch 33/50\n312869/312869 [==============================] - 4s 14us/step - loss: 0.3286 - mean_absolute_error: 0.3766 - val_loss: 0.3798 - val_mean_absolute_error: 0.3973\nEpoch 34/50\n312869/312869 [==============================] - 5s 15us/step - loss: 0.3290 - mean_absolute_error: 0.3769 - val_loss: 0.3813 - val_mean_absolute_error: 0.3980\nEpoch 35/50\n312869/312869 [==============================] - 5s 16us/step - loss: 0.3279 - mean_absolute_error: 0.3758 - val_loss: 0.3854 - val_mean_absolute_error: 0.3973\nEpoch 36/50\n312869/312869 [==============================] - 5s 16us/step - loss: 0.3245 - mean_absolute_error: 0.3740 - val_loss: 0.3842 - val_mean_absolute_error: 0.3973\nEpoch 37/50\n312869/312869 [==============================] - 5s 16us/step - loss: 0.3230 - mean_absolute_error: 0.3734 - val_loss: 0.3763 - val_mean_absolute_error: 0.3957\nEpoch 38/50\n312869/312869 [==============================] - 4s 14us/step - loss: 0.3229 - mean_absolute_error: 0.3730 - val_loss: 0.3767 - val_mean_absolute_error: 0.3940\nEpoch 39/50\n312869/312869 [==============================] - 5s 14us/step - loss: 0.3196 - mean_absolute_error: 0.3712 - val_loss: 0.3780 - val_mean_absolute_error: 0.3939\nEpoch 40/50\n312869/312869 [==============================] - 4s 14us/step - loss: 0.3194 - mean_absolute_error: 0.3712 - val_loss: 0.3778 - val_mean_absolute_error: 0.3968\nEpoch 41/50\n312869/312869 [==============================] - 5s 14us/step - loss: 0.3183 - mean_absolute_error: 0.3702 - val_loss: 0.3775 - val_mean_absolute_error: 0.3954\nEpoch 42/50\n312869/312869 [==============================] - 4s 14us/step - loss: 0.3169 - mean_absolute_error: 0.3696 - val_loss: 0.3769 - val_mean_absolute_error: 0.3958\nEpoch 43/50\n312869/312869 [==============================] - 4s 14us/step - loss: 0.3153 - mean_absolute_error: 0.3684 - val_loss: 0.3768 - val_mean_absolute_error: 0.3938\nEpoch 44/50\n312869/312869 [==============================] - 4s 14us/step - loss: 0.3134 - mean_absolute_error: 0.3673 - val_loss: 0.3776 - val_mean_absolute_error: 0.3924\nEpoch 45/50\n312869/312869 [==============================] - 5s 16us/step - loss: 0.3127 - mean_absolute_error: 0.3672 - val_loss: 0.3757 - val_mean_absolute_error: 0.3934\nEpoch 46/50\n312869/312869 [==============================] - 5s 16us/step - loss: 0.3116 - mean_absolute_error: 0.3665 - val_loss: 0.3751 - val_mean_absolute_error: 0.3934\nEpoch 47/50\n312869/312869 [==============================] - 5s 15us/step - loss: 0.3107 - mean_absolute_error: 0.3660 - val_loss: 0.3838 - val_mean_absolute_error: 0.4011\nEpoch 48/50\n312869/312869 [==============================] - 5s 16us/step - loss: 0.3105 - mean_absolute_error: 0.3659 - val_loss: 0.3824 - val_mean_absolute_error: 0.3961\nEpoch 49/50\n312869/312869 [==============================] - 5s 15us/step - loss: 0.3111 - mean_absolute_error: 0.3664 - val_loss: 0.3746 - val_mean_absolute_error: 0.3904\nEpoch 50/50\n312869/312869 [==============================] - 5s 17us/step - loss: 0.3080 - mean_absolute_error: 0.3646 - val_loss: 0.3785 - val_mean_absolute_error: 0.3938\n"
        },
        {
          "output_type": "execute_result",
          "data": {
            "text/plain": "<keras.callbacks.callbacks.History at 0x24db6094a48>"
          },
          "metadata": {},
          "execution_count": 37
        }
      ]
    },
    {
      "cell_type": "markdown",
      "metadata": {
        "id": "ubDSL59pCcBg",
        "colab_type": "text"
      },
      "source": [
        "Ahora realiza la evaluación del modelo con el set de entrenamiento."
      ]
    },
    {
      "cell_type": "code",
      "metadata": {
        "id": "B6C_XX0dRHxR",
        "colab_type": "code",
        "colab": {
          "base_uri": "https://localhost:8080/",
          "height": 69
        },
        "outputId": "5d05d19a-d579-4a6c-873f-61cf75a5a031",
        "tags": []
      },
      "source": [
        "result = model.evaluate(x_test_scaled,y_test_scaled)\n",
        "for i in range(len(model.metrics_names)):\n",
        " print(\"Metric \",model.metrics_names[i],\":\",\n",
        "str(round(result[i],2)))"
      ],
      "execution_count": 38,
      "outputs": [
        {
          "output_type": "stream",
          "name": "stdout",
          "text": "86909/86909 [==============================] - 2s 26us/step\nMetric  loss : 0.39\nMetric  mean_absolute_error : 0.4\n"
        }
      ]
    },
    {
      "cell_type": "markdown",
      "metadata": {
        "id": "owT0Fwf0_N3i",
        "colab_type": "text"
      },
      "source": [
        "Si tu modelo cumple con el requerimiento guardalo con el siguiente comando:"
      ]
    },
    {
      "cell_type": "code",
      "metadata": {
        "id": "bsuyXASg-aS0",
        "colab_type": "code",
        "colab": {}
      },
      "source": [
        "model.save('PrediccionPrecios.h5')"
      ],
      "execution_count": 39,
      "outputs": []
    },
    {
      "cell_type": "markdown",
      "metadata": {
        "id": "f6Qd8SigDTs3",
        "colab_type": "text"
      },
      "source": [
        "# 5. Realiza un gráfico que evidencia la evolución de la función de pérdidas a traves de las distintas épocas de entrenamiento."
      ]
    },
    {
      "cell_type": "code",
      "metadata": {
        "id": "FigeTaWgRqow",
        "colab_type": "code",
        "colab": {
          "base_uri": "https://localhost:8080/",
          "height": 406
        },
        "outputId": "6f90d51c-cbb3-42b8-a037-9f1ff3bf2a91"
      },
      "source": [
        "import matplotlib.pyplot as plt\n",
        "%matplotlib inline\n",
        "plt.figure(figsize=(13,6))\n",
        "plt.plot(model.history.history['loss'])\n",
        "plt.plot(model.history.history['val_loss'])\n",
        "plt.title(\"Pérdidas del modelo con set de entrenamiento y pruebas por época\")\n",
        "plt.ylabel('MSE')\n",
        "plt.xlabel('Épocas')\n",
        "plt.legend(['Entrenamiento', 'Validación'], loc='upper right')\n",
        "plt.show()"
      ],
      "execution_count": 40,
      "outputs": [
        {
          "output_type": "display_data",
          "data": {
            "text/plain": "<Figure size 936x432 with 1 Axes>",
            "image/svg+xml": "<?xml version=\"1.0\" encoding=\"utf-8\" standalone=\"no\"?>\r\n<!DOCTYPE svg PUBLIC \"-//W3C//DTD SVG 1.1//EN\"\r\n  \"http://www.w3.org/Graphics/SVG/1.1/DTD/svg11.dtd\">\r\n<!-- Created with matplotlib (https://matplotlib.org/) -->\r\n<svg height=\"388.189375pt\" version=\"1.1\" viewBox=\"0 0 776.38125 388.189375\" width=\"776.38125pt\" xmlns=\"http://www.w3.org/2000/svg\" xmlns:xlink=\"http://www.w3.org/1999/xlink\">\r\n <defs>\r\n  <style type=\"text/css\">\r\n*{stroke-linecap:butt;stroke-linejoin:round;}\r\n  </style>\r\n </defs>\r\n <g id=\"figure_1\">\r\n  <g id=\"patch_1\">\r\n   <path d=\"M 0 388.189375 \r\nL 776.38125 388.189375 \r\nL 776.38125 0 \r\nL 0 0 \r\nz\r\n\" style=\"fill:none;\"/>\r\n  </g>\r\n  <g id=\"axes_1\">\r\n   <g id=\"patch_2\">\r\n    <path d=\"M 43.78125 348.958125 \r\nL 769.18125 348.958125 \r\nL 769.18125 22.798125 \r\nL 43.78125 22.798125 \r\nz\r\n\" style=\"fill:#ffffff;\"/>\r\n   </g>\r\n   <g id=\"matplotlib.axis_1\">\r\n    <g id=\"xtick_1\">\r\n     <g id=\"line2d_1\">\r\n      <defs>\r\n       <path d=\"M 0 0 \r\nL 0 3.5 \r\n\" id=\"m81368e0883\" style=\"stroke:#000000;stroke-width:0.8;\"/>\r\n      </defs>\r\n      <g>\r\n       <use style=\"stroke:#000000;stroke-width:0.8;\" x=\"76.753977\" xlink:href=\"#m81368e0883\" y=\"348.958125\"/>\r\n      </g>\r\n     </g>\r\n     <g id=\"text_1\">\r\n      <!-- 0 -->\r\n      <defs>\r\n       <path d=\"M 31.78125 66.40625 \r\nQ 24.171875 66.40625 20.328125 58.90625 \r\nQ 16.5 51.421875 16.5 36.375 \r\nQ 16.5 21.390625 20.328125 13.890625 \r\nQ 24.171875 6.390625 31.78125 6.390625 \r\nQ 39.453125 6.390625 43.28125 13.890625 \r\nQ 47.125 21.390625 47.125 36.375 \r\nQ 47.125 51.421875 43.28125 58.90625 \r\nQ 39.453125 66.40625 31.78125 66.40625 \r\nz\r\nM 31.78125 74.21875 \r\nQ 44.046875 74.21875 50.515625 64.515625 \r\nQ 56.984375 54.828125 56.984375 36.375 \r\nQ 56.984375 17.96875 50.515625 8.265625 \r\nQ 44.046875 -1.421875 31.78125 -1.421875 \r\nQ 19.53125 -1.421875 13.0625 8.265625 \r\nQ 6.59375 17.96875 6.59375 36.375 \r\nQ 6.59375 54.828125 13.0625 64.515625 \r\nQ 19.53125 74.21875 31.78125 74.21875 \r\nz\r\n\" id=\"DejaVuSans-48\"/>\r\n      </defs>\r\n      <g transform=\"translate(73.572727 363.556562)scale(0.1 -0.1)\">\r\n       <use xlink:href=\"#DejaVuSans-48\"/>\r\n      </g>\r\n     </g>\r\n    </g>\r\n    <g id=\"xtick_2\">\r\n     <g id=\"line2d_2\">\r\n      <g>\r\n       <use style=\"stroke:#000000;stroke-width:0.8;\" x=\"211.336538\" xlink:href=\"#m81368e0883\" y=\"348.958125\"/>\r\n      </g>\r\n     </g>\r\n     <g id=\"text_2\">\r\n      <!-- 10 -->\r\n      <defs>\r\n       <path d=\"M 12.40625 8.296875 \r\nL 28.515625 8.296875 \r\nL 28.515625 63.921875 \r\nL 10.984375 60.40625 \r\nL 10.984375 69.390625 \r\nL 28.421875 72.90625 \r\nL 38.28125 72.90625 \r\nL 38.28125 8.296875 \r\nL 54.390625 8.296875 \r\nL 54.390625 0 \r\nL 12.40625 0 \r\nz\r\n\" id=\"DejaVuSans-49\"/>\r\n      </defs>\r\n      <g transform=\"translate(204.974038 363.556562)scale(0.1 -0.1)\">\r\n       <use xlink:href=\"#DejaVuSans-49\"/>\r\n       <use x=\"63.623047\" xlink:href=\"#DejaVuSans-48\"/>\r\n      </g>\r\n     </g>\r\n    </g>\r\n    <g id=\"xtick_3\">\r\n     <g id=\"line2d_3\">\r\n      <g>\r\n       <use style=\"stroke:#000000;stroke-width:0.8;\" x=\"345.919098\" xlink:href=\"#m81368e0883\" y=\"348.958125\"/>\r\n      </g>\r\n     </g>\r\n     <g id=\"text_3\">\r\n      <!-- 20 -->\r\n      <defs>\r\n       <path d=\"M 19.1875 8.296875 \r\nL 53.609375 8.296875 \r\nL 53.609375 0 \r\nL 7.328125 0 \r\nL 7.328125 8.296875 \r\nQ 12.9375 14.109375 22.625 23.890625 \r\nQ 32.328125 33.6875 34.8125 36.53125 \r\nQ 39.546875 41.84375 41.421875 45.53125 \r\nQ 43.3125 49.21875 43.3125 52.78125 \r\nQ 43.3125 58.59375 39.234375 62.25 \r\nQ 35.15625 65.921875 28.609375 65.921875 \r\nQ 23.96875 65.921875 18.8125 64.3125 \r\nQ 13.671875 62.703125 7.8125 59.421875 \r\nL 7.8125 69.390625 \r\nQ 13.765625 71.78125 18.9375 73 \r\nQ 24.125 74.21875 28.421875 74.21875 \r\nQ 39.75 74.21875 46.484375 68.546875 \r\nQ 53.21875 62.890625 53.21875 53.421875 \r\nQ 53.21875 48.921875 51.53125 44.890625 \r\nQ 49.859375 40.875 45.40625 35.40625 \r\nQ 44.1875 33.984375 37.640625 27.21875 \r\nQ 31.109375 20.453125 19.1875 8.296875 \r\nz\r\n\" id=\"DejaVuSans-50\"/>\r\n      </defs>\r\n      <g transform=\"translate(339.556598 363.556562)scale(0.1 -0.1)\">\r\n       <use xlink:href=\"#DejaVuSans-50\"/>\r\n       <use x=\"63.623047\" xlink:href=\"#DejaVuSans-48\"/>\r\n      </g>\r\n     </g>\r\n    </g>\r\n    <g id=\"xtick_4\">\r\n     <g id=\"line2d_4\">\r\n      <g>\r\n       <use style=\"stroke:#000000;stroke-width:0.8;\" x=\"480.501658\" xlink:href=\"#m81368e0883\" y=\"348.958125\"/>\r\n      </g>\r\n     </g>\r\n     <g id=\"text_4\">\r\n      <!-- 30 -->\r\n      <defs>\r\n       <path d=\"M 40.578125 39.3125 \r\nQ 47.65625 37.796875 51.625 33 \r\nQ 55.609375 28.21875 55.609375 21.1875 \r\nQ 55.609375 10.40625 48.1875 4.484375 \r\nQ 40.765625 -1.421875 27.09375 -1.421875 \r\nQ 22.515625 -1.421875 17.65625 -0.515625 \r\nQ 12.796875 0.390625 7.625 2.203125 \r\nL 7.625 11.71875 \r\nQ 11.71875 9.328125 16.59375 8.109375 \r\nQ 21.484375 6.890625 26.8125 6.890625 \r\nQ 36.078125 6.890625 40.9375 10.546875 \r\nQ 45.796875 14.203125 45.796875 21.1875 \r\nQ 45.796875 27.640625 41.28125 31.265625 \r\nQ 36.765625 34.90625 28.71875 34.90625 \r\nL 20.21875 34.90625 \r\nL 20.21875 43.015625 \r\nL 29.109375 43.015625 \r\nQ 36.375 43.015625 40.234375 45.921875 \r\nQ 44.09375 48.828125 44.09375 54.296875 \r\nQ 44.09375 59.90625 40.109375 62.90625 \r\nQ 36.140625 65.921875 28.71875 65.921875 \r\nQ 24.65625 65.921875 20.015625 65.03125 \r\nQ 15.375 64.15625 9.8125 62.3125 \r\nL 9.8125 71.09375 \r\nQ 15.4375 72.65625 20.34375 73.4375 \r\nQ 25.25 74.21875 29.59375 74.21875 \r\nQ 40.828125 74.21875 47.359375 69.109375 \r\nQ 53.90625 64.015625 53.90625 55.328125 \r\nQ 53.90625 49.265625 50.4375 45.09375 \r\nQ 46.96875 40.921875 40.578125 39.3125 \r\nz\r\n\" id=\"DejaVuSans-51\"/>\r\n      </defs>\r\n      <g transform=\"translate(474.139158 363.556562)scale(0.1 -0.1)\">\r\n       <use xlink:href=\"#DejaVuSans-51\"/>\r\n       <use x=\"63.623047\" xlink:href=\"#DejaVuSans-48\"/>\r\n      </g>\r\n     </g>\r\n    </g>\r\n    <g id=\"xtick_5\">\r\n     <g id=\"line2d_5\">\r\n      <g>\r\n       <use style=\"stroke:#000000;stroke-width:0.8;\" x=\"615.084218\" xlink:href=\"#m81368e0883\" y=\"348.958125\"/>\r\n      </g>\r\n     </g>\r\n     <g id=\"text_5\">\r\n      <!-- 40 -->\r\n      <defs>\r\n       <path d=\"M 37.796875 64.3125 \r\nL 12.890625 25.390625 \r\nL 37.796875 25.390625 \r\nz\r\nM 35.203125 72.90625 \r\nL 47.609375 72.90625 \r\nL 47.609375 25.390625 \r\nL 58.015625 25.390625 \r\nL 58.015625 17.1875 \r\nL 47.609375 17.1875 \r\nL 47.609375 0 \r\nL 37.796875 0 \r\nL 37.796875 17.1875 \r\nL 4.890625 17.1875 \r\nL 4.890625 26.703125 \r\nz\r\n\" id=\"DejaVuSans-52\"/>\r\n      </defs>\r\n      <g transform=\"translate(608.721718 363.556562)scale(0.1 -0.1)\">\r\n       <use xlink:href=\"#DejaVuSans-52\"/>\r\n       <use x=\"63.623047\" xlink:href=\"#DejaVuSans-48\"/>\r\n      </g>\r\n     </g>\r\n    </g>\r\n    <g id=\"xtick_6\">\r\n     <g id=\"line2d_6\">\r\n      <g>\r\n       <use style=\"stroke:#000000;stroke-width:0.8;\" x=\"749.666779\" xlink:href=\"#m81368e0883\" y=\"348.958125\"/>\r\n      </g>\r\n     </g>\r\n     <g id=\"text_6\">\r\n      <!-- 50 -->\r\n      <defs>\r\n       <path d=\"M 10.796875 72.90625 \r\nL 49.515625 72.90625 \r\nL 49.515625 64.59375 \r\nL 19.828125 64.59375 \r\nL 19.828125 46.734375 \r\nQ 21.96875 47.46875 24.109375 47.828125 \r\nQ 26.265625 48.1875 28.421875 48.1875 \r\nQ 40.625 48.1875 47.75 41.5 \r\nQ 54.890625 34.8125 54.890625 23.390625 \r\nQ 54.890625 11.625 47.5625 5.09375 \r\nQ 40.234375 -1.421875 26.90625 -1.421875 \r\nQ 22.3125 -1.421875 17.546875 -0.640625 \r\nQ 12.796875 0.140625 7.71875 1.703125 \r\nL 7.71875 11.625 \r\nQ 12.109375 9.234375 16.796875 8.0625 \r\nQ 21.484375 6.890625 26.703125 6.890625 \r\nQ 35.15625 6.890625 40.078125 11.328125 \r\nQ 45.015625 15.765625 45.015625 23.390625 \r\nQ 45.015625 31 40.078125 35.4375 \r\nQ 35.15625 39.890625 26.703125 39.890625 \r\nQ 22.75 39.890625 18.8125 39.015625 \r\nQ 14.890625 38.140625 10.796875 36.28125 \r\nz\r\n\" id=\"DejaVuSans-53\"/>\r\n      </defs>\r\n      <g transform=\"translate(743.304279 363.556562)scale(0.1 -0.1)\">\r\n       <use xlink:href=\"#DejaVuSans-53\"/>\r\n       <use x=\"63.623047\" xlink:href=\"#DejaVuSans-48\"/>\r\n      </g>\r\n     </g>\r\n    </g>\r\n    <g id=\"text_7\">\r\n     <!-- Épocas -->\r\n     <defs>\r\n      <path d=\"M 9.8125 72.90625 \r\nL 55.90625 72.90625 \r\nL 55.90625 64.59375 \r\nL 19.671875 64.59375 \r\nL 19.671875 43.015625 \r\nL 54.390625 43.015625 \r\nL 54.390625 34.71875 \r\nL 19.671875 34.71875 \r\nL 19.671875 8.296875 \r\nL 56.78125 8.296875 \r\nL 56.78125 0 \r\nL 9.8125 0 \r\nz\r\nM 35.40625 92.734375 \r\nL 44.4375 92.734375 \r\nL 33.296875 79.84375 \r\nL 25.828125 79.84375 \r\nz\r\n\" id=\"DejaVuSans-201\"/>\r\n      <path d=\"M 18.109375 8.203125 \r\nL 18.109375 -20.796875 \r\nL 9.078125 -20.796875 \r\nL 9.078125 54.6875 \r\nL 18.109375 54.6875 \r\nL 18.109375 46.390625 \r\nQ 20.953125 51.265625 25.265625 53.625 \r\nQ 29.59375 56 35.59375 56 \r\nQ 45.5625 56 51.78125 48.09375 \r\nQ 58.015625 40.1875 58.015625 27.296875 \r\nQ 58.015625 14.40625 51.78125 6.484375 \r\nQ 45.5625 -1.421875 35.59375 -1.421875 \r\nQ 29.59375 -1.421875 25.265625 0.953125 \r\nQ 20.953125 3.328125 18.109375 8.203125 \r\nz\r\nM 48.6875 27.296875 \r\nQ 48.6875 37.203125 44.609375 42.84375 \r\nQ 40.53125 48.484375 33.40625 48.484375 \r\nQ 26.265625 48.484375 22.1875 42.84375 \r\nQ 18.109375 37.203125 18.109375 27.296875 \r\nQ 18.109375 17.390625 22.1875 11.75 \r\nQ 26.265625 6.109375 33.40625 6.109375 \r\nQ 40.53125 6.109375 44.609375 11.75 \r\nQ 48.6875 17.390625 48.6875 27.296875 \r\nz\r\n\" id=\"DejaVuSans-112\"/>\r\n      <path d=\"M 30.609375 48.390625 \r\nQ 23.390625 48.390625 19.1875 42.75 \r\nQ 14.984375 37.109375 14.984375 27.296875 \r\nQ 14.984375 17.484375 19.15625 11.84375 \r\nQ 23.34375 6.203125 30.609375 6.203125 \r\nQ 37.796875 6.203125 41.984375 11.859375 \r\nQ 46.1875 17.53125 46.1875 27.296875 \r\nQ 46.1875 37.015625 41.984375 42.703125 \r\nQ 37.796875 48.390625 30.609375 48.390625 \r\nz\r\nM 30.609375 56 \r\nQ 42.328125 56 49.015625 48.375 \r\nQ 55.71875 40.765625 55.71875 27.296875 \r\nQ 55.71875 13.875 49.015625 6.21875 \r\nQ 42.328125 -1.421875 30.609375 -1.421875 \r\nQ 18.84375 -1.421875 12.171875 6.21875 \r\nQ 5.515625 13.875 5.515625 27.296875 \r\nQ 5.515625 40.765625 12.171875 48.375 \r\nQ 18.84375 56 30.609375 56 \r\nz\r\n\" id=\"DejaVuSans-111\"/>\r\n      <path d=\"M 48.78125 52.59375 \r\nL 48.78125 44.1875 \r\nQ 44.96875 46.296875 41.140625 47.34375 \r\nQ 37.3125 48.390625 33.40625 48.390625 \r\nQ 24.65625 48.390625 19.8125 42.84375 \r\nQ 14.984375 37.3125 14.984375 27.296875 \r\nQ 14.984375 17.28125 19.8125 11.734375 \r\nQ 24.65625 6.203125 33.40625 6.203125 \r\nQ 37.3125 6.203125 41.140625 7.25 \r\nQ 44.96875 8.296875 48.78125 10.40625 \r\nL 48.78125 2.09375 \r\nQ 45.015625 0.34375 40.984375 -0.53125 \r\nQ 36.96875 -1.421875 32.421875 -1.421875 \r\nQ 20.0625 -1.421875 12.78125 6.34375 \r\nQ 5.515625 14.109375 5.515625 27.296875 \r\nQ 5.515625 40.671875 12.859375 48.328125 \r\nQ 20.21875 56 33.015625 56 \r\nQ 37.15625 56 41.109375 55.140625 \r\nQ 45.0625 54.296875 48.78125 52.59375 \r\nz\r\n\" id=\"DejaVuSans-99\"/>\r\n      <path d=\"M 34.28125 27.484375 \r\nQ 23.390625 27.484375 19.1875 25 \r\nQ 14.984375 22.515625 14.984375 16.5 \r\nQ 14.984375 11.71875 18.140625 8.90625 \r\nQ 21.296875 6.109375 26.703125 6.109375 \r\nQ 34.1875 6.109375 38.703125 11.40625 \r\nQ 43.21875 16.703125 43.21875 25.484375 \r\nL 43.21875 27.484375 \r\nz\r\nM 52.203125 31.203125 \r\nL 52.203125 0 \r\nL 43.21875 0 \r\nL 43.21875 8.296875 \r\nQ 40.140625 3.328125 35.546875 0.953125 \r\nQ 30.953125 -1.421875 24.3125 -1.421875 \r\nQ 15.921875 -1.421875 10.953125 3.296875 \r\nQ 6 8.015625 6 15.921875 \r\nQ 6 25.140625 12.171875 29.828125 \r\nQ 18.359375 34.515625 30.609375 34.515625 \r\nL 43.21875 34.515625 \r\nL 43.21875 35.40625 \r\nQ 43.21875 41.609375 39.140625 45 \r\nQ 35.0625 48.390625 27.6875 48.390625 \r\nQ 23 48.390625 18.546875 47.265625 \r\nQ 14.109375 46.140625 10.015625 43.890625 \r\nL 10.015625 52.203125 \r\nQ 14.9375 54.109375 19.578125 55.046875 \r\nQ 24.21875 56 28.609375 56 \r\nQ 40.484375 56 46.34375 49.84375 \r\nQ 52.203125 43.703125 52.203125 31.203125 \r\nz\r\n\" id=\"DejaVuSans-97\"/>\r\n      <path d=\"M 44.28125 53.078125 \r\nL 44.28125 44.578125 \r\nQ 40.484375 46.53125 36.375 47.5 \r\nQ 32.28125 48.484375 27.875 48.484375 \r\nQ 21.1875 48.484375 17.84375 46.4375 \r\nQ 14.5 44.390625 14.5 40.28125 \r\nQ 14.5 37.15625 16.890625 35.375 \r\nQ 19.28125 33.59375 26.515625 31.984375 \r\nL 29.59375 31.296875 \r\nQ 39.15625 29.25 43.1875 25.515625 \r\nQ 47.21875 21.78125 47.21875 15.09375 \r\nQ 47.21875 7.46875 41.1875 3.015625 \r\nQ 35.15625 -1.421875 24.609375 -1.421875 \r\nQ 20.21875 -1.421875 15.453125 -0.5625 \r\nQ 10.6875 0.296875 5.421875 2 \r\nL 5.421875 11.28125 \r\nQ 10.40625 8.6875 15.234375 7.390625 \r\nQ 20.0625 6.109375 24.8125 6.109375 \r\nQ 31.15625 6.109375 34.5625 8.28125 \r\nQ 37.984375 10.453125 37.984375 14.40625 \r\nQ 37.984375 18.0625 35.515625 20.015625 \r\nQ 33.0625 21.96875 24.703125 23.78125 \r\nL 21.578125 24.515625 \r\nQ 13.234375 26.265625 9.515625 29.90625 \r\nQ 5.8125 33.546875 5.8125 39.890625 \r\nQ 5.8125 47.609375 11.28125 51.796875 \r\nQ 16.75 56 26.8125 56 \r\nQ 31.78125 56 36.171875 55.265625 \r\nQ 40.578125 54.546875 44.28125 53.078125 \r\nz\r\n\" id=\"DejaVuSans-115\"/>\r\n     </defs>\r\n     <g transform=\"translate(388.670313 378.909687)scale(0.1 -0.1)\">\r\n      <use xlink:href=\"#DejaVuSans-201\"/>\r\n      <use x=\"63.183594\" xlink:href=\"#DejaVuSans-112\"/>\r\n      <use x=\"126.660156\" xlink:href=\"#DejaVuSans-111\"/>\r\n      <use x=\"187.841797\" xlink:href=\"#DejaVuSans-99\"/>\r\n      <use x=\"242.822266\" xlink:href=\"#DejaVuSans-97\"/>\r\n      <use x=\"304.101562\" xlink:href=\"#DejaVuSans-115\"/>\r\n     </g>\r\n    </g>\r\n   </g>\r\n   <g id=\"matplotlib.axis_2\">\r\n    <g id=\"ytick_1\">\r\n     <g id=\"line2d_7\">\r\n      <defs>\r\n       <path d=\"M 0 0 \r\nL -3.5 0 \r\n\" id=\"m1a030abfaf\" style=\"stroke:#000000;stroke-width:0.8;\"/>\r\n      </defs>\r\n      <g>\r\n       <use style=\"stroke:#000000;stroke-width:0.8;\" x=\"43.78125\" xlink:href=\"#m1a030abfaf\" y=\"339.578551\"/>\r\n      </g>\r\n     </g>\r\n     <g id=\"text_8\">\r\n      <!-- 0.3 -->\r\n      <defs>\r\n       <path d=\"M 10.6875 12.40625 \r\nL 21 12.40625 \r\nL 21 0 \r\nL 10.6875 0 \r\nz\r\n\" id=\"DejaVuSans-46\"/>\r\n      </defs>\r\n      <g transform=\"translate(20.878125 343.37777)scale(0.1 -0.1)\">\r\n       <use xlink:href=\"#DejaVuSans-48\"/>\r\n       <use x=\"63.623047\" xlink:href=\"#DejaVuSans-46\"/>\r\n       <use x=\"95.410156\" xlink:href=\"#DejaVuSans-51\"/>\r\n      </g>\r\n     </g>\r\n    </g>\r\n    <g id=\"ytick_2\">\r\n     <g id=\"line2d_8\">\r\n      <g>\r\n       <use style=\"stroke:#000000;stroke-width:0.8;\" x=\"43.78125\" xlink:href=\"#m1a030abfaf\" y=\"271.743808\"/>\r\n      </g>\r\n     </g>\r\n     <g id=\"text_9\">\r\n      <!-- 0.4 -->\r\n      <g transform=\"translate(20.878125 275.543027)scale(0.1 -0.1)\">\r\n       <use xlink:href=\"#DejaVuSans-48\"/>\r\n       <use x=\"63.623047\" xlink:href=\"#DejaVuSans-46\"/>\r\n       <use x=\"95.410156\" xlink:href=\"#DejaVuSans-52\"/>\r\n      </g>\r\n     </g>\r\n    </g>\r\n    <g id=\"ytick_3\">\r\n     <g id=\"line2d_9\">\r\n      <g>\r\n       <use style=\"stroke:#000000;stroke-width:0.8;\" x=\"43.78125\" xlink:href=\"#m1a030abfaf\" y=\"203.909066\"/>\r\n      </g>\r\n     </g>\r\n     <g id=\"text_10\">\r\n      <!-- 0.5 -->\r\n      <g transform=\"translate(20.878125 207.708284)scale(0.1 -0.1)\">\r\n       <use xlink:href=\"#DejaVuSans-48\"/>\r\n       <use x=\"63.623047\" xlink:href=\"#DejaVuSans-46\"/>\r\n       <use x=\"95.410156\" xlink:href=\"#DejaVuSans-53\"/>\r\n      </g>\r\n     </g>\r\n    </g>\r\n    <g id=\"ytick_4\">\r\n     <g id=\"line2d_10\">\r\n      <g>\r\n       <use style=\"stroke:#000000;stroke-width:0.8;\" x=\"43.78125\" xlink:href=\"#m1a030abfaf\" y=\"136.074323\"/>\r\n      </g>\r\n     </g>\r\n     <g id=\"text_11\">\r\n      <!-- 0.6 -->\r\n      <defs>\r\n       <path d=\"M 33.015625 40.375 \r\nQ 26.375 40.375 22.484375 35.828125 \r\nQ 18.609375 31.296875 18.609375 23.390625 \r\nQ 18.609375 15.53125 22.484375 10.953125 \r\nQ 26.375 6.390625 33.015625 6.390625 \r\nQ 39.65625 6.390625 43.53125 10.953125 \r\nQ 47.40625 15.53125 47.40625 23.390625 \r\nQ 47.40625 31.296875 43.53125 35.828125 \r\nQ 39.65625 40.375 33.015625 40.375 \r\nz\r\nM 52.59375 71.296875 \r\nL 52.59375 62.3125 \r\nQ 48.875 64.0625 45.09375 64.984375 \r\nQ 41.3125 65.921875 37.59375 65.921875 \r\nQ 27.828125 65.921875 22.671875 59.328125 \r\nQ 17.53125 52.734375 16.796875 39.40625 \r\nQ 19.671875 43.65625 24.015625 45.921875 \r\nQ 28.375 48.1875 33.59375 48.1875 \r\nQ 44.578125 48.1875 50.953125 41.515625 \r\nQ 57.328125 34.859375 57.328125 23.390625 \r\nQ 57.328125 12.15625 50.6875 5.359375 \r\nQ 44.046875 -1.421875 33.015625 -1.421875 \r\nQ 20.359375 -1.421875 13.671875 8.265625 \r\nQ 6.984375 17.96875 6.984375 36.375 \r\nQ 6.984375 53.65625 15.1875 63.9375 \r\nQ 23.390625 74.21875 37.203125 74.21875 \r\nQ 40.921875 74.21875 44.703125 73.484375 \r\nQ 48.484375 72.75 52.59375 71.296875 \r\nz\r\n\" id=\"DejaVuSans-54\"/>\r\n      </defs>\r\n      <g transform=\"translate(20.878125 139.873542)scale(0.1 -0.1)\">\r\n       <use xlink:href=\"#DejaVuSans-48\"/>\r\n       <use x=\"63.623047\" xlink:href=\"#DejaVuSans-46\"/>\r\n       <use x=\"95.410156\" xlink:href=\"#DejaVuSans-54\"/>\r\n      </g>\r\n     </g>\r\n    </g>\r\n    <g id=\"ytick_5\">\r\n     <g id=\"line2d_11\">\r\n      <g>\r\n       <use style=\"stroke:#000000;stroke-width:0.8;\" x=\"43.78125\" xlink:href=\"#m1a030abfaf\" y=\"68.23958\"/>\r\n      </g>\r\n     </g>\r\n     <g id=\"text_12\">\r\n      <!-- 0.7 -->\r\n      <defs>\r\n       <path d=\"M 8.203125 72.90625 \r\nL 55.078125 72.90625 \r\nL 55.078125 68.703125 \r\nL 28.609375 0 \r\nL 18.3125 0 \r\nL 43.21875 64.59375 \r\nL 8.203125 64.59375 \r\nz\r\n\" id=\"DejaVuSans-55\"/>\r\n      </defs>\r\n      <g transform=\"translate(20.878125 72.038799)scale(0.1 -0.1)\">\r\n       <use xlink:href=\"#DejaVuSans-48\"/>\r\n       <use x=\"63.623047\" xlink:href=\"#DejaVuSans-46\"/>\r\n       <use x=\"95.410156\" xlink:href=\"#DejaVuSans-55\"/>\r\n      </g>\r\n     </g>\r\n    </g>\r\n    <g id=\"text_13\">\r\n     <!-- MSE -->\r\n     <defs>\r\n      <path d=\"M 9.8125 72.90625 \r\nL 24.515625 72.90625 \r\nL 43.109375 23.296875 \r\nL 61.8125 72.90625 \r\nL 76.515625 72.90625 \r\nL 76.515625 0 \r\nL 66.890625 0 \r\nL 66.890625 64.015625 \r\nL 48.09375 14.015625 \r\nL 38.1875 14.015625 \r\nL 19.390625 64.015625 \r\nL 19.390625 0 \r\nL 9.8125 0 \r\nz\r\n\" id=\"DejaVuSans-77\"/>\r\n      <path d=\"M 53.515625 70.515625 \r\nL 53.515625 60.890625 \r\nQ 47.90625 63.578125 42.921875 64.890625 \r\nQ 37.9375 66.21875 33.296875 66.21875 \r\nQ 25.25 66.21875 20.875 63.09375 \r\nQ 16.5 59.96875 16.5 54.203125 \r\nQ 16.5 49.359375 19.40625 46.890625 \r\nQ 22.3125 44.4375 30.421875 42.921875 \r\nL 36.375 41.703125 \r\nQ 47.40625 39.59375 52.65625 34.296875 \r\nQ 57.90625 29 57.90625 20.125 \r\nQ 57.90625 9.515625 50.796875 4.046875 \r\nQ 43.703125 -1.421875 29.984375 -1.421875 \r\nQ 24.8125 -1.421875 18.96875 -0.25 \r\nQ 13.140625 0.921875 6.890625 3.21875 \r\nL 6.890625 13.375 \r\nQ 12.890625 10.015625 18.65625 8.296875 \r\nQ 24.421875 6.59375 29.984375 6.59375 \r\nQ 38.421875 6.59375 43.015625 9.90625 \r\nQ 47.609375 13.234375 47.609375 19.390625 \r\nQ 47.609375 24.75 44.3125 27.78125 \r\nQ 41.015625 30.8125 33.5 32.328125 \r\nL 27.484375 33.5 \r\nQ 16.453125 35.6875 11.515625 40.375 \r\nQ 6.59375 45.0625 6.59375 53.421875 \r\nQ 6.59375 63.09375 13.40625 68.65625 \r\nQ 20.21875 74.21875 32.171875 74.21875 \r\nQ 37.3125 74.21875 42.625 73.28125 \r\nQ 47.953125 72.359375 53.515625 70.515625 \r\nz\r\n\" id=\"DejaVuSans-83\"/>\r\n      <path d=\"M 9.8125 72.90625 \r\nL 55.90625 72.90625 \r\nL 55.90625 64.59375 \r\nL 19.671875 64.59375 \r\nL 19.671875 43.015625 \r\nL 54.390625 43.015625 \r\nL 54.390625 34.71875 \r\nL 19.671875 34.71875 \r\nL 19.671875 8.296875 \r\nL 56.78125 8.296875 \r\nL 56.78125 0 \r\nL 9.8125 0 \r\nz\r\n\" id=\"DejaVuSans-69\"/>\r\n     </defs>\r\n     <g transform=\"translate(14.798438 196.525781)rotate(-90)scale(0.1 -0.1)\">\r\n      <use xlink:href=\"#DejaVuSans-77\"/>\r\n      <use x=\"86.279297\" xlink:href=\"#DejaVuSans-83\"/>\r\n      <use x=\"149.755859\" xlink:href=\"#DejaVuSans-69\"/>\r\n     </g>\r\n    </g>\r\n   </g>\r\n   <g id=\"line2d_12\">\r\n    <path clip-path=\"url(#p80c9cf44e3)\" d=\"M 76.753977 165.016144 \r\nL 90.212233 214.27405 \r\nL 103.670489 224.539206 \r\nL 117.128745 240.735239 \r\nL 130.587001 239.965684 \r\nL 144.045257 252.128012 \r\nL 157.503513 257.451111 \r\nL 170.961769 264.187812 \r\nL 184.420026 268.579295 \r\nL 197.878282 274.371366 \r\nL 211.336538 276.954015 \r\nL 224.794794 281.673111 \r\nL 238.25305 283.128637 \r\nL 251.711306 284.644439 \r\nL 265.169562 288.734624 \r\nL 278.627818 291.651647 \r\nL 292.086074 294.287529 \r\nL 305.54433 292.91635 \r\nL 319.002586 277.440628 \r\nL 332.460842 298.59043 \r\nL 345.919098 301.32371 \r\nL 359.377354 303.391749 \r\nL 372.83561 305.45758 \r\nL 386.293866 307.540237 \r\nL 399.752122 309.689449 \r\nL 413.210378 310.126677 \r\nL 426.668634 311.455629 \r\nL 440.12689 313.907638 \r\nL 453.585146 315.344167 \r\nL 467.043402 316.676481 \r\nL 480.501658 317.280543 \r\nL 493.959914 319.071293 \r\nL 507.41817 320.196062 \r\nL 520.876426 319.898403 \r\nL 534.334682 320.627725 \r\nL 547.792938 322.949 \r\nL 561.251194 323.979709 \r\nL 574.70945 324.077315 \r\nL 588.167706 326.289055 \r\nL 601.625962 326.439305 \r\nL 615.084218 327.132807 \r\nL 628.542474 328.146821 \r\nL 642.000731 329.209591 \r\nL 655.458987 330.514656 \r\nL 668.917243 330.976251 \r\nL 682.375499 331.724406 \r\nL 695.833755 332.322869 \r\nL 709.292011 332.425438 \r\nL 722.750267 332.030268 \r\nL 736.208523 334.13267 \r\n\" style=\"fill:none;stroke:#1f77b4;stroke-linecap:square;stroke-width:1.5;\"/>\r\n   </g>\r\n   <g id=\"line2d_13\">\r\n    <path clip-path=\"url(#p80c9cf44e3)\" d=\"M 76.753977 202.861664 \r\nL 90.212233 64.108401 \r\nL 103.670489 135.275555 \r\nL 117.128745 37.62358 \r\nL 130.587001 233.340543 \r\nL 144.045257 197.534792 \r\nL 157.503513 252.302789 \r\nL 170.961769 169.061825 \r\nL 184.420026 263.747403 \r\nL 197.878282 258.61341 \r\nL 211.336538 271.749935 \r\nL 224.794794 263.282316 \r\nL 238.25305 272.171045 \r\nL 251.711306 265.527366 \r\nL 265.169562 268.259158 \r\nL 278.627818 270.260857 \r\nL 292.086074 259.943943 \r\nL 305.54433 69.277719 \r\nL 319.002586 271.449971 \r\nL 332.460842 273.848198 \r\nL 345.919098 274.05041 \r\nL 359.377354 280.72201 \r\nL 372.83561 280.320698 \r\nL 386.293866 282.243128 \r\nL 399.752122 278.995503 \r\nL 413.210378 282.393361 \r\nL 426.668634 282.253877 \r\nL 440.12689 283.010433 \r\nL 453.585146 284.254927 \r\nL 467.043402 284.001613 \r\nL 480.501658 285.664709 \r\nL 493.959914 284.667563 \r\nL 507.41817 285.472487 \r\nL 520.876426 284.454016 \r\nL 534.334682 281.674868 \r\nL 547.792938 282.483383 \r\nL 561.251194 287.80706 \r\nL 574.70945 287.523037 \r\nL 588.167706 286.675854 \r\nL 601.625962 286.791349 \r\nL 615.084218 286.984673 \r\nL 628.542474 287.427523 \r\nL 642.000731 287.456621 \r\nL 655.458987 286.93092 \r\nL 668.917243 288.201952 \r\nL 682.375499 288.651907 \r\nL 695.833755 282.738487 \r\nL 709.292011 283.670685 \r\nL 722.750267 288.978939 \r\nL 736.208523 286.312818 \r\n\" style=\"fill:none;stroke:#ff7f0e;stroke-linecap:square;stroke-width:1.5;\"/>\r\n   </g>\r\n   <g id=\"patch_3\">\r\n    <path d=\"M 43.78125 348.958125 \r\nL 43.78125 22.798125 \r\n\" style=\"fill:none;stroke:#000000;stroke-linecap:square;stroke-linejoin:miter;stroke-width:0.8;\"/>\r\n   </g>\r\n   <g id=\"patch_4\">\r\n    <path d=\"M 769.18125 348.958125 \r\nL 769.18125 22.798125 \r\n\" style=\"fill:none;stroke:#000000;stroke-linecap:square;stroke-linejoin:miter;stroke-width:0.8;\"/>\r\n   </g>\r\n   <g id=\"patch_5\">\r\n    <path d=\"M 43.78125 348.958125 \r\nL 769.18125 348.958125 \r\n\" style=\"fill:none;stroke:#000000;stroke-linecap:square;stroke-linejoin:miter;stroke-width:0.8;\"/>\r\n   </g>\r\n   <g id=\"patch_6\">\r\n    <path d=\"M 43.78125 22.798125 \r\nL 769.18125 22.798125 \r\n\" style=\"fill:none;stroke:#000000;stroke-linecap:square;stroke-linejoin:miter;stroke-width:0.8;\"/>\r\n   </g>\r\n   <g id=\"text_14\">\r\n    <!-- Pérdidas del modelo con set de entrenamiento y pruebas por época -->\r\n    <defs>\r\n     <path d=\"M 19.671875 64.796875 \r\nL 19.671875 37.40625 \r\nL 32.078125 37.40625 \r\nQ 38.96875 37.40625 42.71875 40.96875 \r\nQ 46.484375 44.53125 46.484375 51.125 \r\nQ 46.484375 57.671875 42.71875 61.234375 \r\nQ 38.96875 64.796875 32.078125 64.796875 \r\nz\r\nM 9.8125 72.90625 \r\nL 32.078125 72.90625 \r\nQ 44.34375 72.90625 50.609375 67.359375 \r\nQ 56.890625 61.8125 56.890625 51.125 \r\nQ 56.890625 40.328125 50.609375 34.8125 \r\nQ 44.34375 29.296875 32.078125 29.296875 \r\nL 19.671875 29.296875 \r\nL 19.671875 0 \r\nL 9.8125 0 \r\nz\r\n\" id=\"DejaVuSans-80\"/>\r\n     <path d=\"M 56.203125 29.59375 \r\nL 56.203125 25.203125 \r\nL 14.890625 25.203125 \r\nQ 15.484375 15.921875 20.484375 11.0625 \r\nQ 25.484375 6.203125 34.421875 6.203125 \r\nQ 39.59375 6.203125 44.453125 7.46875 \r\nQ 49.3125 8.734375 54.109375 11.28125 \r\nL 54.109375 2.78125 \r\nQ 49.265625 0.734375 44.1875 -0.34375 \r\nQ 39.109375 -1.421875 33.890625 -1.421875 \r\nQ 20.796875 -1.421875 13.15625 6.1875 \r\nQ 5.515625 13.8125 5.515625 26.8125 \r\nQ 5.515625 40.234375 12.765625 48.109375 \r\nQ 20.015625 56 32.328125 56 \r\nQ 43.359375 56 49.78125 48.890625 \r\nQ 56.203125 41.796875 56.203125 29.59375 \r\nz\r\nM 47.21875 32.234375 \r\nQ 47.125 39.59375 43.09375 43.984375 \r\nQ 39.0625 48.390625 32.421875 48.390625 \r\nQ 24.90625 48.390625 20.390625 44.140625 \r\nQ 15.875 39.890625 15.1875 32.171875 \r\nz\r\nM 38.578125 79.984375 \r\nL 48.296875 79.984375 \r\nL 32.375 61.625 \r\nL 24.90625 61.625 \r\nz\r\n\" id=\"DejaVuSans-233\"/>\r\n     <path d=\"M 41.109375 46.296875 \r\nQ 39.59375 47.171875 37.8125 47.578125 \r\nQ 36.03125 48 33.890625 48 \r\nQ 26.265625 48 22.1875 43.046875 \r\nQ 18.109375 38.09375 18.109375 28.8125 \r\nL 18.109375 0 \r\nL 9.078125 0 \r\nL 9.078125 54.6875 \r\nL 18.109375 54.6875 \r\nL 18.109375 46.1875 \r\nQ 20.953125 51.171875 25.484375 53.578125 \r\nQ 30.03125 56 36.53125 56 \r\nQ 37.453125 56 38.578125 55.875 \r\nQ 39.703125 55.765625 41.0625 55.515625 \r\nz\r\n\" id=\"DejaVuSans-114\"/>\r\n     <path d=\"M 45.40625 46.390625 \r\nL 45.40625 75.984375 \r\nL 54.390625 75.984375 \r\nL 54.390625 0 \r\nL 45.40625 0 \r\nL 45.40625 8.203125 \r\nQ 42.578125 3.328125 38.25 0.953125 \r\nQ 33.9375 -1.421875 27.875 -1.421875 \r\nQ 17.96875 -1.421875 11.734375 6.484375 \r\nQ 5.515625 14.40625 5.515625 27.296875 \r\nQ 5.515625 40.1875 11.734375 48.09375 \r\nQ 17.96875 56 27.875 56 \r\nQ 33.9375 56 38.25 53.625 \r\nQ 42.578125 51.265625 45.40625 46.390625 \r\nz\r\nM 14.796875 27.296875 \r\nQ 14.796875 17.390625 18.875 11.75 \r\nQ 22.953125 6.109375 30.078125 6.109375 \r\nQ 37.203125 6.109375 41.296875 11.75 \r\nQ 45.40625 17.390625 45.40625 27.296875 \r\nQ 45.40625 37.203125 41.296875 42.84375 \r\nQ 37.203125 48.484375 30.078125 48.484375 \r\nQ 22.953125 48.484375 18.875 42.84375 \r\nQ 14.796875 37.203125 14.796875 27.296875 \r\nz\r\n\" id=\"DejaVuSans-100\"/>\r\n     <path d=\"M 9.421875 54.6875 \r\nL 18.40625 54.6875 \r\nL 18.40625 0 \r\nL 9.421875 0 \r\nz\r\nM 9.421875 75.984375 \r\nL 18.40625 75.984375 \r\nL 18.40625 64.59375 \r\nL 9.421875 64.59375 \r\nz\r\n\" id=\"DejaVuSans-105\"/>\r\n     <path id=\"DejaVuSans-32\"/>\r\n     <path d=\"M 56.203125 29.59375 \r\nL 56.203125 25.203125 \r\nL 14.890625 25.203125 \r\nQ 15.484375 15.921875 20.484375 11.0625 \r\nQ 25.484375 6.203125 34.421875 6.203125 \r\nQ 39.59375 6.203125 44.453125 7.46875 \r\nQ 49.3125 8.734375 54.109375 11.28125 \r\nL 54.109375 2.78125 \r\nQ 49.265625 0.734375 44.1875 -0.34375 \r\nQ 39.109375 -1.421875 33.890625 -1.421875 \r\nQ 20.796875 -1.421875 13.15625 6.1875 \r\nQ 5.515625 13.8125 5.515625 26.8125 \r\nQ 5.515625 40.234375 12.765625 48.109375 \r\nQ 20.015625 56 32.328125 56 \r\nQ 43.359375 56 49.78125 48.890625 \r\nQ 56.203125 41.796875 56.203125 29.59375 \r\nz\r\nM 47.21875 32.234375 \r\nQ 47.125 39.59375 43.09375 43.984375 \r\nQ 39.0625 48.390625 32.421875 48.390625 \r\nQ 24.90625 48.390625 20.390625 44.140625 \r\nQ 15.875 39.890625 15.1875 32.171875 \r\nz\r\n\" id=\"DejaVuSans-101\"/>\r\n     <path d=\"M 9.421875 75.984375 \r\nL 18.40625 75.984375 \r\nL 18.40625 0 \r\nL 9.421875 0 \r\nz\r\n\" id=\"DejaVuSans-108\"/>\r\n     <path d=\"M 52 44.1875 \r\nQ 55.375 50.25 60.0625 53.125 \r\nQ 64.75 56 71.09375 56 \r\nQ 79.640625 56 84.28125 50.015625 \r\nQ 88.921875 44.046875 88.921875 33.015625 \r\nL 88.921875 0 \r\nL 79.890625 0 \r\nL 79.890625 32.71875 \r\nQ 79.890625 40.578125 77.09375 44.375 \r\nQ 74.3125 48.1875 68.609375 48.1875 \r\nQ 61.625 48.1875 57.5625 43.546875 \r\nQ 53.515625 38.921875 53.515625 30.90625 \r\nL 53.515625 0 \r\nL 44.484375 0 \r\nL 44.484375 32.71875 \r\nQ 44.484375 40.625 41.703125 44.40625 \r\nQ 38.921875 48.1875 33.109375 48.1875 \r\nQ 26.21875 48.1875 22.15625 43.53125 \r\nQ 18.109375 38.875 18.109375 30.90625 \r\nL 18.109375 0 \r\nL 9.078125 0 \r\nL 9.078125 54.6875 \r\nL 18.109375 54.6875 \r\nL 18.109375 46.1875 \r\nQ 21.1875 51.21875 25.484375 53.609375 \r\nQ 29.78125 56 35.6875 56 \r\nQ 41.65625 56 45.828125 52.96875 \r\nQ 50 49.953125 52 44.1875 \r\nz\r\n\" id=\"DejaVuSans-109\"/>\r\n     <path d=\"M 54.890625 33.015625 \r\nL 54.890625 0 \r\nL 45.90625 0 \r\nL 45.90625 32.71875 \r\nQ 45.90625 40.484375 42.875 44.328125 \r\nQ 39.84375 48.1875 33.796875 48.1875 \r\nQ 26.515625 48.1875 22.3125 43.546875 \r\nQ 18.109375 38.921875 18.109375 30.90625 \r\nL 18.109375 0 \r\nL 9.078125 0 \r\nL 9.078125 54.6875 \r\nL 18.109375 54.6875 \r\nL 18.109375 46.1875 \r\nQ 21.34375 51.125 25.703125 53.5625 \r\nQ 30.078125 56 35.796875 56 \r\nQ 45.21875 56 50.046875 50.171875 \r\nQ 54.890625 44.34375 54.890625 33.015625 \r\nz\r\n\" id=\"DejaVuSans-110\"/>\r\n     <path d=\"M 18.3125 70.21875 \r\nL 18.3125 54.6875 \r\nL 36.8125 54.6875 \r\nL 36.8125 47.703125 \r\nL 18.3125 47.703125 \r\nL 18.3125 18.015625 \r\nQ 18.3125 11.328125 20.140625 9.421875 \r\nQ 21.96875 7.515625 27.59375 7.515625 \r\nL 36.8125 7.515625 \r\nL 36.8125 0 \r\nL 27.59375 0 \r\nQ 17.1875 0 13.234375 3.875 \r\nQ 9.28125 7.765625 9.28125 18.015625 \r\nL 9.28125 47.703125 \r\nL 2.6875 47.703125 \r\nL 2.6875 54.6875 \r\nL 9.28125 54.6875 \r\nL 9.28125 70.21875 \r\nz\r\n\" id=\"DejaVuSans-116\"/>\r\n     <path d=\"M 32.171875 -5.078125 \r\nQ 28.375 -14.84375 24.75 -17.8125 \r\nQ 21.140625 -20.796875 15.09375 -20.796875 \r\nL 7.90625 -20.796875 \r\nL 7.90625 -13.28125 \r\nL 13.1875 -13.28125 \r\nQ 16.890625 -13.28125 18.9375 -11.515625 \r\nQ 21 -9.765625 23.484375 -3.21875 \r\nL 25.09375 0.875 \r\nL 2.984375 54.6875 \r\nL 12.5 54.6875 \r\nL 29.59375 11.921875 \r\nL 46.6875 54.6875 \r\nL 56.203125 54.6875 \r\nz\r\n\" id=\"DejaVuSans-121\"/>\r\n     <path d=\"M 8.5 21.578125 \r\nL 8.5 54.6875 \r\nL 17.484375 54.6875 \r\nL 17.484375 21.921875 \r\nQ 17.484375 14.15625 20.5 10.265625 \r\nQ 23.53125 6.390625 29.59375 6.390625 \r\nQ 36.859375 6.390625 41.078125 11.03125 \r\nQ 45.3125 15.671875 45.3125 23.6875 \r\nL 45.3125 54.6875 \r\nL 54.296875 54.6875 \r\nL 54.296875 0 \r\nL 45.3125 0 \r\nL 45.3125 8.40625 \r\nQ 42.046875 3.421875 37.71875 1 \r\nQ 33.40625 -1.421875 27.6875 -1.421875 \r\nQ 18.265625 -1.421875 13.375 4.4375 \r\nQ 8.5 10.296875 8.5 21.578125 \r\nz\r\nM 31.109375 56 \r\nz\r\n\" id=\"DejaVuSans-117\"/>\r\n     <path d=\"M 48.6875 27.296875 \r\nQ 48.6875 37.203125 44.609375 42.84375 \r\nQ 40.53125 48.484375 33.40625 48.484375 \r\nQ 26.265625 48.484375 22.1875 42.84375 \r\nQ 18.109375 37.203125 18.109375 27.296875 \r\nQ 18.109375 17.390625 22.1875 11.75 \r\nQ 26.265625 6.109375 33.40625 6.109375 \r\nQ 40.53125 6.109375 44.609375 11.75 \r\nQ 48.6875 17.390625 48.6875 27.296875 \r\nz\r\nM 18.109375 46.390625 \r\nQ 20.953125 51.265625 25.265625 53.625 \r\nQ 29.59375 56 35.59375 56 \r\nQ 45.5625 56 51.78125 48.09375 \r\nQ 58.015625 40.1875 58.015625 27.296875 \r\nQ 58.015625 14.40625 51.78125 6.484375 \r\nQ 45.5625 -1.421875 35.59375 -1.421875 \r\nQ 29.59375 -1.421875 25.265625 0.953125 \r\nQ 20.953125 3.328125 18.109375 8.203125 \r\nL 18.109375 0 \r\nL 9.078125 0 \r\nL 9.078125 75.984375 \r\nL 18.109375 75.984375 \r\nz\r\n\" id=\"DejaVuSans-98\"/>\r\n    </defs>\r\n    <g transform=\"translate(202.499063 16.798125)scale(0.12 -0.12)\">\r\n     <use xlink:href=\"#DejaVuSans-80\"/>\r\n     <use x=\"56.677734\" xlink:href=\"#DejaVuSans-233\"/>\r\n     <use x=\"118.201172\" xlink:href=\"#DejaVuSans-114\"/>\r\n     <use x=\"157.564453\" xlink:href=\"#DejaVuSans-100\"/>\r\n     <use x=\"221.041016\" xlink:href=\"#DejaVuSans-105\"/>\r\n     <use x=\"248.824219\" xlink:href=\"#DejaVuSans-100\"/>\r\n     <use x=\"312.300781\" xlink:href=\"#DejaVuSans-97\"/>\r\n     <use x=\"373.580078\" xlink:href=\"#DejaVuSans-115\"/>\r\n     <use x=\"425.679688\" xlink:href=\"#DejaVuSans-32\"/>\r\n     <use x=\"457.466797\" xlink:href=\"#DejaVuSans-100\"/>\r\n     <use x=\"520.943359\" xlink:href=\"#DejaVuSans-101\"/>\r\n     <use x=\"582.466797\" xlink:href=\"#DejaVuSans-108\"/>\r\n     <use x=\"610.25\" xlink:href=\"#DejaVuSans-32\"/>\r\n     <use x=\"642.037109\" xlink:href=\"#DejaVuSans-109\"/>\r\n     <use x=\"739.449219\" xlink:href=\"#DejaVuSans-111\"/>\r\n     <use x=\"800.630859\" xlink:href=\"#DejaVuSans-100\"/>\r\n     <use x=\"864.107422\" xlink:href=\"#DejaVuSans-101\"/>\r\n     <use x=\"925.630859\" xlink:href=\"#DejaVuSans-108\"/>\r\n     <use x=\"953.414062\" xlink:href=\"#DejaVuSans-111\"/>\r\n     <use x=\"1014.595703\" xlink:href=\"#DejaVuSans-32\"/>\r\n     <use x=\"1046.382812\" xlink:href=\"#DejaVuSans-99\"/>\r\n     <use x=\"1101.363281\" xlink:href=\"#DejaVuSans-111\"/>\r\n     <use x=\"1162.544922\" xlink:href=\"#DejaVuSans-110\"/>\r\n     <use x=\"1225.923828\" xlink:href=\"#DejaVuSans-32\"/>\r\n     <use x=\"1257.710938\" xlink:href=\"#DejaVuSans-115\"/>\r\n     <use x=\"1309.810547\" xlink:href=\"#DejaVuSans-101\"/>\r\n     <use x=\"1371.333984\" xlink:href=\"#DejaVuSans-116\"/>\r\n     <use x=\"1410.542969\" xlink:href=\"#DejaVuSans-32\"/>\r\n     <use x=\"1442.330078\" xlink:href=\"#DejaVuSans-100\"/>\r\n     <use x=\"1505.806641\" xlink:href=\"#DejaVuSans-101\"/>\r\n     <use x=\"1567.330078\" xlink:href=\"#DejaVuSans-32\"/>\r\n     <use x=\"1599.117188\" xlink:href=\"#DejaVuSans-101\"/>\r\n     <use x=\"1660.640625\" xlink:href=\"#DejaVuSans-110\"/>\r\n     <use x=\"1724.019531\" xlink:href=\"#DejaVuSans-116\"/>\r\n     <use x=\"1763.228516\" xlink:href=\"#DejaVuSans-114\"/>\r\n     <use x=\"1802.091797\" xlink:href=\"#DejaVuSans-101\"/>\r\n     <use x=\"1863.615234\" xlink:href=\"#DejaVuSans-110\"/>\r\n     <use x=\"1926.994141\" xlink:href=\"#DejaVuSans-97\"/>\r\n     <use x=\"1988.273438\" xlink:href=\"#DejaVuSans-109\"/>\r\n     <use x=\"2085.685547\" xlink:href=\"#DejaVuSans-105\"/>\r\n     <use x=\"2113.46875\" xlink:href=\"#DejaVuSans-101\"/>\r\n     <use x=\"2174.992188\" xlink:href=\"#DejaVuSans-110\"/>\r\n     <use x=\"2238.371094\" xlink:href=\"#DejaVuSans-116\"/>\r\n     <use x=\"2277.580078\" xlink:href=\"#DejaVuSans-111\"/>\r\n     <use x=\"2338.761719\" xlink:href=\"#DejaVuSans-32\"/>\r\n     <use x=\"2370.548828\" xlink:href=\"#DejaVuSans-121\"/>\r\n     <use x=\"2429.728516\" xlink:href=\"#DejaVuSans-32\"/>\r\n     <use x=\"2461.515625\" xlink:href=\"#DejaVuSans-112\"/>\r\n     <use x=\"2524.992188\" xlink:href=\"#DejaVuSans-114\"/>\r\n     <use x=\"2566.105469\" xlink:href=\"#DejaVuSans-117\"/>\r\n     <use x=\"2629.484375\" xlink:href=\"#DejaVuSans-101\"/>\r\n     <use x=\"2691.007812\" xlink:href=\"#DejaVuSans-98\"/>\r\n     <use x=\"2754.484375\" xlink:href=\"#DejaVuSans-97\"/>\r\n     <use x=\"2815.763672\" xlink:href=\"#DejaVuSans-115\"/>\r\n     <use x=\"2867.863281\" xlink:href=\"#DejaVuSans-32\"/>\r\n     <use x=\"2899.650391\" xlink:href=\"#DejaVuSans-112\"/>\r\n     <use x=\"2963.126953\" xlink:href=\"#DejaVuSans-111\"/>\r\n     <use x=\"3024.308594\" xlink:href=\"#DejaVuSans-114\"/>\r\n     <use x=\"3065.421875\" xlink:href=\"#DejaVuSans-32\"/>\r\n     <use x=\"3097.208984\" xlink:href=\"#DejaVuSans-233\"/>\r\n     <use x=\"3158.732422\" xlink:href=\"#DejaVuSans-112\"/>\r\n     <use x=\"3222.208984\" xlink:href=\"#DejaVuSans-111\"/>\r\n     <use x=\"3283.390625\" xlink:href=\"#DejaVuSans-99\"/>\r\n     <use x=\"3338.371094\" xlink:href=\"#DejaVuSans-97\"/>\r\n    </g>\r\n   </g>\r\n   <g id=\"legend_1\">\r\n    <g id=\"patch_7\">\r\n     <path d=\"M 656.051562 60.154375 \r\nL 762.18125 60.154375 \r\nQ 764.18125 60.154375 764.18125 58.154375 \r\nL 764.18125 29.798125 \r\nQ 764.18125 27.798125 762.18125 27.798125 \r\nL 656.051562 27.798125 \r\nQ 654.051562 27.798125 654.051562 29.798125 \r\nL 654.051562 58.154375 \r\nQ 654.051562 60.154375 656.051562 60.154375 \r\nz\r\n\" style=\"fill:#ffffff;opacity:0.8;stroke:#cccccc;stroke-linejoin:miter;\"/>\r\n    </g>\r\n    <g id=\"line2d_14\">\r\n     <path d=\"M 658.051562 35.896562 \r\nL 678.051562 35.896562 \r\n\" style=\"fill:none;stroke:#1f77b4;stroke-linecap:square;stroke-width:1.5;\"/>\r\n    </g>\r\n    <g id=\"line2d_15\"/>\r\n    <g id=\"text_15\">\r\n     <!-- Entrenamiento -->\r\n     <g transform=\"translate(686.051562 39.396562)scale(0.1 -0.1)\">\r\n      <use xlink:href=\"#DejaVuSans-69\"/>\r\n      <use x=\"63.183594\" xlink:href=\"#DejaVuSans-110\"/>\r\n      <use x=\"126.5625\" xlink:href=\"#DejaVuSans-116\"/>\r\n      <use x=\"165.771484\" xlink:href=\"#DejaVuSans-114\"/>\r\n      <use x=\"204.634766\" xlink:href=\"#DejaVuSans-101\"/>\r\n      <use x=\"266.158203\" xlink:href=\"#DejaVuSans-110\"/>\r\n      <use x=\"329.537109\" xlink:href=\"#DejaVuSans-97\"/>\r\n      <use x=\"390.816406\" xlink:href=\"#DejaVuSans-109\"/>\r\n      <use x=\"488.228516\" xlink:href=\"#DejaVuSans-105\"/>\r\n      <use x=\"516.011719\" xlink:href=\"#DejaVuSans-101\"/>\r\n      <use x=\"577.535156\" xlink:href=\"#DejaVuSans-110\"/>\r\n      <use x=\"640.914062\" xlink:href=\"#DejaVuSans-116\"/>\r\n      <use x=\"680.123047\" xlink:href=\"#DejaVuSans-111\"/>\r\n     </g>\r\n    </g>\r\n    <g id=\"line2d_16\">\r\n     <path d=\"M 658.051562 50.574687 \r\nL 678.051562 50.574687 \r\n\" style=\"fill:none;stroke:#ff7f0e;stroke-linecap:square;stroke-width:1.5;\"/>\r\n    </g>\r\n    <g id=\"line2d_17\"/>\r\n    <g id=\"text_16\">\r\n     <!-- Validación -->\r\n     <defs>\r\n      <path d=\"M 28.609375 0 \r\nL 0.78125 72.90625 \r\nL 11.078125 72.90625 \r\nL 34.1875 11.53125 \r\nL 57.328125 72.90625 \r\nL 67.578125 72.90625 \r\nL 39.796875 0 \r\nz\r\n\" id=\"DejaVuSans-86\"/>\r\n      <path d=\"M 30.609375 48.390625 \r\nQ 23.390625 48.390625 19.1875 42.75 \r\nQ 14.984375 37.109375 14.984375 27.296875 \r\nQ 14.984375 17.484375 19.15625 11.84375 \r\nQ 23.34375 6.203125 30.609375 6.203125 \r\nQ 37.796875 6.203125 41.984375 11.859375 \r\nQ 46.1875 17.53125 46.1875 27.296875 \r\nQ 46.1875 37.015625 41.984375 42.703125 \r\nQ 37.796875 48.390625 30.609375 48.390625 \r\nz\r\nM 30.609375 56 \r\nQ 42.328125 56 49.015625 48.375 \r\nQ 55.71875 40.765625 55.71875 27.296875 \r\nQ 55.71875 13.875 49.015625 6.21875 \r\nQ 42.328125 -1.421875 30.609375 -1.421875 \r\nQ 18.84375 -1.421875 12.171875 6.21875 \r\nQ 5.515625 13.875 5.515625 27.296875 \r\nQ 5.515625 40.765625 12.171875 48.375 \r\nQ 18.84375 56 30.609375 56 \r\nz\r\nM 37.40625 79.984375 \r\nL 47.125 79.984375 \r\nL 31.203125 61.625 \r\nL 23.734375 61.625 \r\nz\r\n\" id=\"DejaVuSans-243\"/>\r\n     </defs>\r\n     <g transform=\"translate(686.051562 54.074687)scale(0.1 -0.1)\">\r\n      <use xlink:href=\"#DejaVuSans-86\"/>\r\n      <use x=\"60.658203\" xlink:href=\"#DejaVuSans-97\"/>\r\n      <use x=\"121.9375\" xlink:href=\"#DejaVuSans-108\"/>\r\n      <use x=\"149.720703\" xlink:href=\"#DejaVuSans-105\"/>\r\n      <use x=\"177.503906\" xlink:href=\"#DejaVuSans-100\"/>\r\n      <use x=\"240.980469\" xlink:href=\"#DejaVuSans-97\"/>\r\n      <use x=\"302.259766\" xlink:href=\"#DejaVuSans-99\"/>\r\n      <use x=\"357.240234\" xlink:href=\"#DejaVuSans-105\"/>\r\n      <use x=\"385.023438\" xlink:href=\"#DejaVuSans-243\"/>\r\n      <use x=\"446.205078\" xlink:href=\"#DejaVuSans-110\"/>\r\n     </g>\r\n    </g>\r\n   </g>\r\n  </g>\r\n </g>\r\n <defs>\r\n  <clipPath id=\"p80c9cf44e3\">\r\n   <rect height=\"326.16\" width=\"725.4\" x=\"43.78125\" y=\"22.798125\"/>\r\n  </clipPath>\r\n </defs>\r\n</svg>\r\n",
            "image/png": "[encoded data removed]"
          },
          "metadata": {
            "needs_background": "light"
          }
        }
      ]
    },
    {
      "cell_type": "markdown",
      "metadata": {
        "id": "zuxUV14zEYZ9",
        "colab_type": "text"
      },
      "source": [
        "Trata de realizar predicciones con el modelo"
      ]
    },
    {
      "cell_type": "code",
      "metadata": {
        "id": "08YjMOGlE0Z4",
        "colab_type": "code",
        "colab": {
          "base_uri": "https://localhost:8080/",
          "height": 104
        },
        "outputId": "faeed01e-5389-4363-a833-064fe4005253",
        "tags": []
      },
      "source": [
        "real=pd.DataFrame(y_train)\n",
        "predic=model.predict(pd.DataFrame(x_train_scaled))\n",
        "valores_reescalados = scaler1.inverse_transform(predic)\n",
        "pred_escal =pd.DataFrame(valores_reescalados)\n",
        "# Muestra los valores reales y las predicciones\n",
        "for i in range(0,5):\n",
        "\tprint(\"Real=%s, Prediccion=%s\" % (real[0][i], pred_escal[0][i]))"
      ],
      "execution_count": 41,
      "outputs": [
        {
          "output_type": "stream",
          "name": "stdout",
          "text": "Real=18650, Prediccion=17907.264\nReal=9950, Prediccion=9158.278\nReal=2000, Prediccion=3335.9624\nReal=7999, Prediccion=5671.095\nReal=23999, Prediccion=23521.848\n"
        }
      ]
    },
    {
      "cell_type": "markdown",
      "metadata": {
        "id": "vNB6p9Kx9lFV",
        "colab_type": "text"
      },
      "source": [
        "# Happy coding!"
      ]
    }
  ]
}