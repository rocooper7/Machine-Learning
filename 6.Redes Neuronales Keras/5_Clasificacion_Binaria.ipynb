{
  "nbformat": 4,
  "nbformat_minor": 0,
  "metadata": {
    "colab": {
      "name": "11_Clasificacion_Binaria.ipynb",
      "provenance": [],
      "toc_visible": true,
      "machine_shape": "hm"
    },
    "kernelspec": {
      "name": "python3",
      "display_name": "Python 3"
    },
    "accelerator": "GPU"
  },
  "cells": [
    {
      "cell_type": "markdown",
      "metadata": {
        "id": "7iFOX_Y3igEV",
        "colab_type": "text"
      },
      "source": [
        "![texto alternativo](https://drive.google.com/uc?id=1_ZoJOp39dxsRTVndJP1_7jdY7oGi8sSu) \n",
        "\n",
        "<h1><center>Redes Neuronales con Keras y Scikit</center></h1>\n",
        "\n",
        "\n",
        "<center><i>Clasificación binaria: Predicting Red Hat Business Value</i></center>"
      ]
    },
    {
      "cell_type": "markdown",
      "metadata": {
        "id": "7q4VF-ARQ69A",
        "colab_type": "text"
      },
      "source": [
        "# Nueva sección"
      ]
    },
    {
      "cell_type": "markdown",
      "metadata": {
        "id": "ARGQZBuPwJoD",
        "colab_type": "text"
      },
      "source": [
        "# <h1>Contenido</h1>\n",
        "\n",
        "<div class=\"alert alert-block alert-warning\" style=\"margin-top: 20px\">\n",
        "    <ol>\n",
        "        <li><a href=\"#problema\">Contexto Analítico</a></li>   \n",
        "        <li><a href=\"#ingenieria\">Ingeniería de datos</a></li>          \n",
        "        <li><a href=\"#arquitectura\">Arquitectura propuesta</a></li>\n",
        "        <li><a href=\"#evaluaion\">Evaluación del Modelo</a></li>\n",
        "    </ol>\n",
        "</div>\n",
        "<br>\n",
        "<hr>"
      ]
    },
    {
      "cell_type": "markdown",
      "metadata": {
        "id": "_VfqD089-WuQ",
        "colab_type": "text"
      },
      "source": [
        "# <h1 id=\"problema\">Contexto analítico</h1>\n",
        "\n",
        "Este caso se basa en un reto propuesto por Red Hat en la plataforma Kaggle. (https://www.kaggle.com/c/predicting-red-hat-business-value/data) \n",
        "\n",
        "Red Hat es capaz de obtener una importante cantidad de información de comportamiento de sus clientes. El interes de la compañia se basa en la busqueda de mejores metodos para analizar sus clientes para predecir sobre cuales deberian hacer un especial enfasis que podrian convertirse en clientes de alto valor.\n",
        "\n",
        "En este reto se propone crear un algoritmo de clasificación que identifique los clientes con mayor potencial para convertirse en clientes de alto valor para Red Hat basados en su actividad.\n",
        "\n",
        "Se cuenta con dos datasets (people.csv y act_train.csv) los cuales cargaremos directamente a Colab.\n"
      ]
    },
    {
      "cell_type": "code",
      "metadata": {
        "id": "MdkkRVpVZbyQ",
        "colab_type": "code",
        "colab": {}
      },
      "source": [
        "#Importamos las librerias necesarias\n",
        "import pandas as pd\n",
        "import numpy as np\n",
        "import io\n",
        "#from google.colab import files #Librería necesaria para interactuar con archivos en Colab"
      ],
      "execution_count": 1,
      "outputs": []
    },
    {
      "cell_type": "code",
      "execution_count": null,
      "metadata": {},
      "outputs": [],
      "source": [
        "# hay una manera mas genial de conectar su drive con su colab. de modo que cargan los archivos directamente desde su drive, usando:  #Google Collab\n",
        "# from google.colab import drive\n",
        "# drive.mount('/content/drive')\n",
        "# # para cambiar su directorio a donde tienen sus files\n",
        "# %cd '/content/drive/My Drive/Colab Notebooks"
      ]
    },
    {
      "cell_type": "code",
      "metadata": {
        "id": "lUUfMdJ3rnXz",
        "colab_type": "code",
        "colab": {
          "base_uri": "https://localhost:8080/",
          "height": 206
        },
        "outputId": "ab497534-90b2-42b4-c5c0-fc5c00cf4799"
      },
      "source": [
        "#Cargamos los dataset\n",
        "#uploaded = files.upload()\n",
        "#people = pd.read_csv(io.StringIO(uploaded['people.csv'].decode('utf-8')), sep = ',' )\n",
        "people = pd.read_csv('C:\\\\Jupyter\\\\7.Machine Learning\\\\5.Redes Neuronales Keras\\\\data\\\\people.csv', sep = ',' )\n",
        "people.head(3)"
      ],
      "execution_count": 2,
      "outputs": [
        {
          "output_type": "execute_result",
          "data": {
            "text/plain": "    people_id  char_1      group_1  char_2        date   char_3  char_4  \\\n0     ppl_100  type 2  group 17304  type 2  2021-06-29   type 5  type 5   \n1  ppl_100002  type 2   group 8688  type 3  2021-01-06  type 28  type 9   \n2  ppl_100003  type 2  group 33592  type 3  2022-06-10   type 4  type 8   \n\n   char_5  char_6   char_7  ... char_29 char_30  char_31  char_32  char_33  \\\n0  type 5  type 3  type 11  ...   False    True     True    False    False   \n1  type 5  type 3  type 11  ...   False    True     True     True     True   \n2  type 5  type 2   type 5  ...   False   False     True     True     True   \n\n   char_34  char_35  char_36  char_37  char_38  \n0     True     True     True    False       36  \n1     True     True     True    False       76  \n2     True    False     True     True       99  \n\n[3 rows x 41 columns]",
            "text/html": "<div>\n<style scoped>\n    .dataframe tbody tr th:only-of-type {\n        vertical-align: middle;\n    }\n\n    .dataframe tbody tr th {\n        vertical-align: top;\n    }\n\n    .dataframe thead th {\n        text-align: right;\n    }\n</style>\n<table border=\"1\" class=\"dataframe\">\n  <thead>\n    <tr style=\"text-align: right;\">\n      <th></th>\n      <th>people_id</th>\n      <th>char_1</th>\n      <th>group_1</th>\n      <th>char_2</th>\n      <th>date</th>\n      <th>char_3</th>\n      <th>char_4</th>\n      <th>char_5</th>\n      <th>char_6</th>\n      <th>char_7</th>\n      <th>...</th>\n      <th>char_29</th>\n      <th>char_30</th>\n      <th>char_31</th>\n      <th>char_32</th>\n      <th>char_33</th>\n      <th>char_34</th>\n      <th>char_35</th>\n      <th>char_36</th>\n      <th>char_37</th>\n      <th>char_38</th>\n    </tr>\n  </thead>\n  <tbody>\n    <tr>\n      <th>0</th>\n      <td>ppl_100</td>\n      <td>type 2</td>\n      <td>group 17304</td>\n      <td>type 2</td>\n      <td>2021-06-29</td>\n      <td>type 5</td>\n      <td>type 5</td>\n      <td>type 5</td>\n      <td>type 3</td>\n      <td>type 11</td>\n      <td>...</td>\n      <td>False</td>\n      <td>True</td>\n      <td>True</td>\n      <td>False</td>\n      <td>False</td>\n      <td>True</td>\n      <td>True</td>\n      <td>True</td>\n      <td>False</td>\n      <td>36</td>\n    </tr>\n    <tr>\n      <th>1</th>\n      <td>ppl_100002</td>\n      <td>type 2</td>\n      <td>group 8688</td>\n      <td>type 3</td>\n      <td>2021-01-06</td>\n      <td>type 28</td>\n      <td>type 9</td>\n      <td>type 5</td>\n      <td>type 3</td>\n      <td>type 11</td>\n      <td>...</td>\n      <td>False</td>\n      <td>True</td>\n      <td>True</td>\n      <td>True</td>\n      <td>True</td>\n      <td>True</td>\n      <td>True</td>\n      <td>True</td>\n      <td>False</td>\n      <td>76</td>\n    </tr>\n    <tr>\n      <th>2</th>\n      <td>ppl_100003</td>\n      <td>type 2</td>\n      <td>group 33592</td>\n      <td>type 3</td>\n      <td>2022-06-10</td>\n      <td>type 4</td>\n      <td>type 8</td>\n      <td>type 5</td>\n      <td>type 2</td>\n      <td>type 5</td>\n      <td>...</td>\n      <td>False</td>\n      <td>False</td>\n      <td>True</td>\n      <td>True</td>\n      <td>True</td>\n      <td>True</td>\n      <td>False</td>\n      <td>True</td>\n      <td>True</td>\n      <td>99</td>\n    </tr>\n  </tbody>\n</table>\n<p>3 rows × 41 columns</p>\n</div>"
          },
          "metadata": {},
          "execution_count": 2
        }
      ]
    },
    {
      "cell_type": "markdown",
      "metadata": {
        "id": "cSWTI9p6ZH9O",
        "colab_type": "text"
      },
      "source": [
        "El primer hecho a resaltar es que la información se presenta anonimizada, algo muy común en la ciencia de datos. \n",
        "\n",
        "Se aprecia una gran cantidad de campos de naturaleza categórica. \n",
        "\n"
      ]
    },
    {
      "cell_type": "code",
      "metadata": {
        "id": "oW6ujZfbnzw0",
        "colab_type": "code",
        "colab": {
          "base_uri": "https://localhost:8080/",
          "height": 135
        },
        "outputId": "e00db4df-cbf6-4765-d73e-a6f3641b11c0"
      },
      "source": [
        "#uploaded1 = files.upload()\n",
        "#activity = pd.read_csv(io.StringIO(uploaded1['act_train.csv'].decode('utf-8')), sep = ',' )\n",
        "activity = pd.read_csv('C:\\\\Jupyter\\\\7.Machine Learning\\\\5.Redes Neuronales Keras\\\\data\\\\act_train.csv', sep = ',' )\n",
        "activity.head(3)"
      ],
      "execution_count": 3,
      "outputs": [
        {
          "output_type": "execute_result",
          "data": {
            "text/plain": "  people_id   activity_id        date activity_category char_1 char_2 char_3  \\\n0   ppl_100  act2_1734928  2023-08-26            type 4    NaN    NaN    NaN   \n1   ppl_100  act2_2434093  2022-09-27            type 2    NaN    NaN    NaN   \n2   ppl_100  act2_3404049  2022-09-27            type 2    NaN    NaN    NaN   \n\n  char_4 char_5 char_6 char_7 char_8 char_9  char_10  outcome  \n0    NaN    NaN    NaN    NaN    NaN    NaN  type 76        0  \n1    NaN    NaN    NaN    NaN    NaN    NaN   type 1        0  \n2    NaN    NaN    NaN    NaN    NaN    NaN   type 1        0  ",
            "text/html": "<div>\n<style scoped>\n    .dataframe tbody tr th:only-of-type {\n        vertical-align: middle;\n    }\n\n    .dataframe tbody tr th {\n        vertical-align: top;\n    }\n\n    .dataframe thead th {\n        text-align: right;\n    }\n</style>\n<table border=\"1\" class=\"dataframe\">\n  <thead>\n    <tr style=\"text-align: right;\">\n      <th></th>\n      <th>people_id</th>\n      <th>activity_id</th>\n      <th>date</th>\n      <th>activity_category</th>\n      <th>char_1</th>\n      <th>char_2</th>\n      <th>char_3</th>\n      <th>char_4</th>\n      <th>char_5</th>\n      <th>char_6</th>\n      <th>char_7</th>\n      <th>char_8</th>\n      <th>char_9</th>\n      <th>char_10</th>\n      <th>outcome</th>\n    </tr>\n  </thead>\n  <tbody>\n    <tr>\n      <th>0</th>\n      <td>ppl_100</td>\n      <td>act2_1734928</td>\n      <td>2023-08-26</td>\n      <td>type 4</td>\n      <td>NaN</td>\n      <td>NaN</td>\n      <td>NaN</td>\n      <td>NaN</td>\n      <td>NaN</td>\n      <td>NaN</td>\n      <td>NaN</td>\n      <td>NaN</td>\n      <td>NaN</td>\n      <td>type 76</td>\n      <td>0</td>\n    </tr>\n    <tr>\n      <th>1</th>\n      <td>ppl_100</td>\n      <td>act2_2434093</td>\n      <td>2022-09-27</td>\n      <td>type 2</td>\n      <td>NaN</td>\n      <td>NaN</td>\n      <td>NaN</td>\n      <td>NaN</td>\n      <td>NaN</td>\n      <td>NaN</td>\n      <td>NaN</td>\n      <td>NaN</td>\n      <td>NaN</td>\n      <td>type 1</td>\n      <td>0</td>\n    </tr>\n    <tr>\n      <th>2</th>\n      <td>ppl_100</td>\n      <td>act2_3404049</td>\n      <td>2022-09-27</td>\n      <td>type 2</td>\n      <td>NaN</td>\n      <td>NaN</td>\n      <td>NaN</td>\n      <td>NaN</td>\n      <td>NaN</td>\n      <td>NaN</td>\n      <td>NaN</td>\n      <td>NaN</td>\n      <td>NaN</td>\n      <td>type 1</td>\n      <td>0</td>\n    </tr>\n  </tbody>\n</table>\n</div>"
          },
          "metadata": {},
          "execution_count": 3
        }
      ]
    },
    {
      "cell_type": "markdown",
      "metadata": {
        "id": "B9_dNCTum1Hw",
        "colab_type": "text"
      },
      "source": [
        "# <h1 id=\"ingenieria\">Ingeniería de datos</h1>\n",
        "\n",
        "Evaluaremos ahora el tamaño de los datasets y la completitud de información en las distintas variables disponibles."
      ]
    },
    {
      "cell_type": "code",
      "metadata": {
        "id": "XPzJRTCwO7zy",
        "colab_type": "code",
        "colab": {},
        "tags": []
      },
      "source": [
        "print(people.shape)\n",
        "100*people.isnull().sum()/people.shape[0]"
      ],
      "execution_count": 4,
      "outputs": [
        {
          "output_type": "stream",
          "name": "stdout",
          "text": "(189118, 41)\n"
        },
        {
          "output_type": "execute_result",
          "data": {
            "text/plain": "people_id    0.0\nchar_1       0.0\ngroup_1      0.0\nchar_2       0.0\ndate         0.0\nchar_3       0.0\nchar_4       0.0\nchar_5       0.0\nchar_6       0.0\nchar_7       0.0\nchar_8       0.0\nchar_9       0.0\nchar_10      0.0\nchar_11      0.0\nchar_12      0.0\nchar_13      0.0\nchar_14      0.0\nchar_15      0.0\nchar_16      0.0\nchar_17      0.0\nchar_18      0.0\nchar_19      0.0\nchar_20      0.0\nchar_21      0.0\nchar_22      0.0\nchar_23      0.0\nchar_24      0.0\nchar_25      0.0\nchar_26      0.0\nchar_27      0.0\nchar_28      0.0\nchar_29      0.0\nchar_30      0.0\nchar_31      0.0\nchar_32      0.0\nchar_33      0.0\nchar_34      0.0\nchar_35      0.0\nchar_36      0.0\nchar_37      0.0\nchar_38      0.0\ndtype: float64"
          },
          "metadata": {},
          "execution_count": 4
        }
      ]
    },
    {
      "cell_type": "code",
      "metadata": {
        "id": "Xpucjyj0O7p3",
        "colab_type": "code",
        "colab": {},
        "tags": []
      },
      "source": [
        "#Repetimos el procedimiento con el dataset de activity\n",
        "print(activity.shape)\n",
        "100*activity.isnull().sum()/activity.shape[0]"
      ],
      "execution_count": 5,
      "outputs": [
        {
          "output_type": "stream",
          "name": "stdout",
          "text": "(2197291, 15)\n"
        },
        {
          "output_type": "execute_result",
          "data": {
            "text/plain": "people_id             0.000000\nactivity_id           0.000000\ndate                  0.000000\nactivity_category     0.000000\nchar_1               92.826849\nchar_2               92.826849\nchar_3               92.826849\nchar_4               92.826849\nchar_5               92.826849\nchar_6               92.826849\nchar_7               92.826849\nchar_8               92.826849\nchar_9               92.826849\nchar_10               7.173151\noutcome               0.000000\ndtype: float64"
          },
          "metadata": {},
          "execution_count": 5
        }
      ]
    },
    {
      "cell_type": "markdown",
      "metadata": {
        "id": "C0wRxOQ6msBO",
        "colab_type": "text"
      },
      "source": [
        "Se evidencia que los campos char_1 al char_9 tienen el 92% de sus valores en nulo Esta cantidad es muy elevada para aplicar metodos de imputación, por lo cual optaremos por elminar las columnas con este inconveniente."
      ]
    },
    {
      "cell_type": "code",
      "metadata": {
        "id": "ifiOGXJfxZvD",
        "colab_type": "code",
        "colab": {
          "base_uri": "https://localhost:8080/",
          "height": 88
        },
        "outputId": "a2e8cbc3-0870-41b0-a77a-ae57abe5f888"
      },
      "source": [
        "activity.columns"
      ],
      "execution_count": 6,
      "outputs": [
        {
          "output_type": "execute_result",
          "data": {
            "text/plain": "Index(['people_id', 'activity_id', 'date', 'activity_category', 'char_1',\n       'char_2', 'char_3', 'char_4', 'char_5', 'char_6', 'char_7', 'char_8',\n       'char_9', 'char_10', 'outcome'],\n      dtype='object')"
          },
          "metadata": {},
          "execution_count": 6
        }
      ]
    },
    {
      "cell_type": "code",
      "metadata": {
        "id": "XtrcEw2Bvm7t",
        "colab_type": "code",
        "colab": {
          "base_uri": "https://localhost:8080/",
          "height": 153
        },
        "outputId": "632f9336-7108-4d33-c5f8-38e023d3eb9b",
        "tags": []
      },
      "source": [
        "activity.drop(columns=['char_1','char_2', 'char_3', 'char_4', 'char_5', 'char_6',\\\n",
        "                       'char_7', 'char_8','char_9'],inplace=True)\n",
        "print(activity.shape)\n",
        "activity.head(3)"
      ],
      "execution_count": 7,
      "outputs": [
        {
          "output_type": "stream",
          "name": "stdout",
          "text": "(2197291, 6)\n"
        },
        {
          "output_type": "execute_result",
          "data": {
            "text/plain": "  people_id   activity_id        date activity_category  char_10  outcome\n0   ppl_100  act2_1734928  2023-08-26            type 4  type 76        0\n1   ppl_100  act2_2434093  2022-09-27            type 2   type 1        0\n2   ppl_100  act2_3404049  2022-09-27            type 2   type 1        0",
            "text/html": "<div>\n<style scoped>\n    .dataframe tbody tr th:only-of-type {\n        vertical-align: middle;\n    }\n\n    .dataframe tbody tr th {\n        vertical-align: top;\n    }\n\n    .dataframe thead th {\n        text-align: right;\n    }\n</style>\n<table border=\"1\" class=\"dataframe\">\n  <thead>\n    <tr style=\"text-align: right;\">\n      <th></th>\n      <th>people_id</th>\n      <th>activity_id</th>\n      <th>date</th>\n      <th>activity_category</th>\n      <th>char_10</th>\n      <th>outcome</th>\n    </tr>\n  </thead>\n  <tbody>\n    <tr>\n      <th>0</th>\n      <td>ppl_100</td>\n      <td>act2_1734928</td>\n      <td>2023-08-26</td>\n      <td>type 4</td>\n      <td>type 76</td>\n      <td>0</td>\n    </tr>\n    <tr>\n      <th>1</th>\n      <td>ppl_100</td>\n      <td>act2_2434093</td>\n      <td>2022-09-27</td>\n      <td>type 2</td>\n      <td>type 1</td>\n      <td>0</td>\n    </tr>\n    <tr>\n      <th>2</th>\n      <td>ppl_100</td>\n      <td>act2_3404049</td>\n      <td>2022-09-27</td>\n      <td>type 2</td>\n      <td>type 1</td>\n      <td>0</td>\n    </tr>\n  </tbody>\n</table>\n</div>"
          },
          "metadata": {},
          "execution_count": 7
        }
      ]
    },
    {
      "cell_type": "markdown",
      "metadata": {
        "id": "D_Sp5RPopl9O",
        "colab_type": "text"
      },
      "source": [
        "Para consolidar un dataset debemos tener un par de consideraciones previas: \n",
        "\n",
        "* Se aprecia que existen dos variables que tienen los mismos nombres en ambos \n",
        "datasets (char_2 y char_10) por lo cual es buena practica renombrar estas columnas para evitar confusiones al momento de unificar las fuentes.\n",
        "* En el caso de la variable categórica \"tipo_actividad\" existe una proporción de nulos que podemos reemplazar por la moda.\n",
        "\n"
      ]
    },
    {
      "cell_type": "code",
      "metadata": {
        "id": "hVNrQiqFO78K",
        "colab_type": "code",
        "colab": {
          "base_uri": "https://localhost:8080/",
          "height": 141
        },
        "outputId": "a526e7d5-10bd-4e3c-ae3c-d9dda74d927e"
      },
      "source": [
        "#Renombramos columnas\n",
        "activity = activity.rename(columns={\"date\":\"fecha_actividad\",\"char_10\":\"tipo_actividad\"})\n",
        "#Reenplazamos el tipo de actividad por la moda \n",
        "activity[\"tipo_actividad\"] = activity[\"tipo_actividad\"].fillna(activity[\"tipo_actividad\"].mode()[0])\n",
        "#Verificamos el cambio\n",
        "100*activity.isnull().sum()/activity.shape[0]"
      ],
      "execution_count": 8,
      "outputs": [
        {
          "output_type": "execute_result",
          "data": {
            "text/plain": "people_id            0.0\nactivity_id          0.0\nfecha_actividad      0.0\nactivity_category    0.0\ntipo_actividad       0.0\noutcome              0.0\ndtype: float64"
          },
          "metadata": {},
          "execution_count": 8
        }
      ]
    },
    {
      "cell_type": "markdown",
      "metadata": {
        "id": "Ccc9A9hRrgej",
        "colab_type": "text"
      },
      "source": [
        "Ahora unificamos los datasets empleando la función merge y evaluamos la consistencia luego de esta operación "
      ]
    },
    {
      "cell_type": "code",
      "metadata": {
        "id": "uMkkwvb5Pf1t",
        "colab_type": "code",
        "colab": {
          "base_uri": "https://localhost:8080/",
          "height": 52
        },
        "outputId": "d502f323-39c8-4c31-b242-fc7524cd7c9b",
        "tags": []
      },
      "source": [
        "consolidado = activity.merge(people,on=[\"people_id\"],how=\"inner\")\n",
        "print(\"Tamaño previo: \",activity.shape)\n",
        "print(\"Nuevo tamaño: \",consolidado.shape)"
      ],
      "execution_count": 9,
      "outputs": [
        {
          "output_type": "stream",
          "name": "stdout",
          "text": "Tamaño previo:  (2197291, 6)\nNuevo tamaño:  (2197291, 46)\n"
        }
      ]
    },
    {
      "cell_type": "code",
      "execution_count": 10,
      "metadata": {},
      "outputs": [
        {
          "output_type": "execute_result",
          "data": {
            "text/plain": "  people_id   activity_id fecha_actividad activity_category tipo_actividad  \\\n0   ppl_100  act2_1734928      2023-08-26            type 4        type 76   \n1   ppl_100  act2_2434093      2022-09-27            type 2         type 1   \n2   ppl_100  act2_3404049      2022-09-27            type 2         type 1   \n\n   outcome  char_1      group_1  char_2        date  ... char_29 char_30  \\\n0        0  type 2  group 17304  type 2  2021-06-29  ...   False    True   \n1        0  type 2  group 17304  type 2  2021-06-29  ...   False    True   \n2        0  type 2  group 17304  type 2  2021-06-29  ...   False    True   \n\n  char_31 char_32 char_33 char_34 char_35  char_36  char_37  char_38  \n0    True   False   False    True    True     True    False       36  \n1    True   False   False    True    True     True    False       36  \n2    True   False   False    True    True     True    False       36  \n\n[3 rows x 46 columns]",
            "text/html": "<div>\n<style scoped>\n    .dataframe tbody tr th:only-of-type {\n        vertical-align: middle;\n    }\n\n    .dataframe tbody tr th {\n        vertical-align: top;\n    }\n\n    .dataframe thead th {\n        text-align: right;\n    }\n</style>\n<table border=\"1\" class=\"dataframe\">\n  <thead>\n    <tr style=\"text-align: right;\">\n      <th></th>\n      <th>people_id</th>\n      <th>activity_id</th>\n      <th>fecha_actividad</th>\n      <th>activity_category</th>\n      <th>tipo_actividad</th>\n      <th>outcome</th>\n      <th>char_1</th>\n      <th>group_1</th>\n      <th>char_2</th>\n      <th>date</th>\n      <th>...</th>\n      <th>char_29</th>\n      <th>char_30</th>\n      <th>char_31</th>\n      <th>char_32</th>\n      <th>char_33</th>\n      <th>char_34</th>\n      <th>char_35</th>\n      <th>char_36</th>\n      <th>char_37</th>\n      <th>char_38</th>\n    </tr>\n  </thead>\n  <tbody>\n    <tr>\n      <th>0</th>\n      <td>ppl_100</td>\n      <td>act2_1734928</td>\n      <td>2023-08-26</td>\n      <td>type 4</td>\n      <td>type 76</td>\n      <td>0</td>\n      <td>type 2</td>\n      <td>group 17304</td>\n      <td>type 2</td>\n      <td>2021-06-29</td>\n      <td>...</td>\n      <td>False</td>\n      <td>True</td>\n      <td>True</td>\n      <td>False</td>\n      <td>False</td>\n      <td>True</td>\n      <td>True</td>\n      <td>True</td>\n      <td>False</td>\n      <td>36</td>\n    </tr>\n    <tr>\n      <th>1</th>\n      <td>ppl_100</td>\n      <td>act2_2434093</td>\n      <td>2022-09-27</td>\n      <td>type 2</td>\n      <td>type 1</td>\n      <td>0</td>\n      <td>type 2</td>\n      <td>group 17304</td>\n      <td>type 2</td>\n      <td>2021-06-29</td>\n      <td>...</td>\n      <td>False</td>\n      <td>True</td>\n      <td>True</td>\n      <td>False</td>\n      <td>False</td>\n      <td>True</td>\n      <td>True</td>\n      <td>True</td>\n      <td>False</td>\n      <td>36</td>\n    </tr>\n    <tr>\n      <th>2</th>\n      <td>ppl_100</td>\n      <td>act2_3404049</td>\n      <td>2022-09-27</td>\n      <td>type 2</td>\n      <td>type 1</td>\n      <td>0</td>\n      <td>type 2</td>\n      <td>group 17304</td>\n      <td>type 2</td>\n      <td>2021-06-29</td>\n      <td>...</td>\n      <td>False</td>\n      <td>True</td>\n      <td>True</td>\n      <td>False</td>\n      <td>False</td>\n      <td>True</td>\n      <td>True</td>\n      <td>True</td>\n      <td>False</td>\n      <td>36</td>\n    </tr>\n  </tbody>\n</table>\n<p>3 rows × 46 columns</p>\n</div>"
          },
          "metadata": {},
          "execution_count": 10
        }
      ],
      "source": [
        "consolidado.head(3)"
      ]
    },
    {
      "cell_type": "markdown",
      "metadata": {
        "id": "GwHDh2f_sNPN",
        "colab_type": "text"
      },
      "source": [
        "La variable objetivo que clasifica la actividad de los usuarios como potenciales clientes es denominada \"outcome\", evaluaremos la distribución de este variable: "
      ]
    },
    {
      "cell_type": "code",
      "execution_count": 11,
      "metadata": {},
      "outputs": [
        {
          "output_type": "execute_result",
          "data": {
            "text/plain": "0    1221794\n1     975497\nName: outcome, dtype: int64"
          },
          "metadata": {},
          "execution_count": 11
        }
      ],
      "source": [
        "consolidado[\"outcome\"].value_counts()"
      ]
    },
    {
      "cell_type": "code",
      "metadata": {
        "id": "P_TbTWpnPf6U",
        "colab_type": "code",
        "colab": {
          "base_uri": "https://localhost:8080/",
          "height": 88
        },
        "outputId": "b21ff5fb-457e-4be4-91a3-bde32fc161c7",
        "tags": []
      },
      "source": [
        "print(\"Distribución de outcome: \\n\", 100*consolidado[\"outcome\"].value_counts()/consolidado.shape[0])"
      ],
      "execution_count": 12,
      "outputs": [
        {
          "output_type": "stream",
          "name": "stdout",
          "text": "Distribución de outcome: \n 0    55.60456\n1    44.39544\nName: outcome, dtype: float64\n"
        }
      ]
    },
    {
      "cell_type": "markdown",
      "metadata": {
        "id": "bg0W_YUOuQJX",
        "colab_type": "text"
      },
      "source": [
        "Como lo hemos mencionado, las redes neuronales requieren de entrada sólo valores numericos, por lo cual debemos convertir aquellas que no lo son. El dataset consolidado cuenta con 46 variables de tipo booleanas, numericas o categóricas que deben ser transformadas."
      ]
    },
    {
      "cell_type": "code",
      "metadata": {
        "id": "KStwi9ZtPf9E",
        "colab_type": "code",
        "colab": {
          "base_uri": "https://localhost:8080/",
          "height": 177
        },
        "outputId": "ec515022-18f4-45f7-9bca-919c26d62065",
        "tags": []
      },
      "source": [
        "types = pd.DataFrame(consolidado.dtypes)\n",
        "print(\"Tipos de variables\",types.groupby(0).size())\n",
        "\n",
        "consolidado = consolidado.replace({False: 0, True: 1})\n",
        "\n",
        "types = pd.DataFrame(consolidado.dtypes)\n",
        "print(\"Tipos de variables luego de reemplazo\",types.groupby(0).size())"
      ],
      "execution_count": 13,
      "outputs": [
        {
          "output_type": "stream",
          "name": "stdout",
          "text": "Tipos de variables 0\nbool      28\nint64      2\nobject    16\ndtype: int64\nTipos de variables luego de reemplazo 0\nint64     30\nobject    16\ndtype: int64\n"
        }
      ]
    },
    {
      "cell_type": "code",
      "execution_count": 14,
      "metadata": {},
      "outputs": [
        {
          "output_type": "execute_result",
          "data": {
            "text/plain": "  people_id   activity_id fecha_actividad activity_category tipo_actividad  \\\n0   ppl_100  act2_1734928      2023-08-26            type 4        type 76   \n1   ppl_100  act2_2434093      2022-09-27            type 2         type 1   \n2   ppl_100  act2_3404049      2022-09-27            type 2         type 1   \n\n   char_1      group_1  char_2        date  char_3  char_4  char_5  char_6  \\\n0  type 2  group 17304  type 2  2021-06-29  type 5  type 5  type 5  type 3   \n1  type 2  group 17304  type 2  2021-06-29  type 5  type 5  type 5  type 3   \n2  type 2  group 17304  type 2  2021-06-29  type 5  type 5  type 5  type 3   \n\n    char_7  char_8  char_9  \n0  type 11  type 2  type 2  \n1  type 11  type 2  type 2  \n2  type 11  type 2  type 2  ",
            "text/html": "<div>\n<style scoped>\n    .dataframe tbody tr th:only-of-type {\n        vertical-align: middle;\n    }\n\n    .dataframe tbody tr th {\n        vertical-align: top;\n    }\n\n    .dataframe thead th {\n        text-align: right;\n    }\n</style>\n<table border=\"1\" class=\"dataframe\">\n  <thead>\n    <tr style=\"text-align: right;\">\n      <th></th>\n      <th>people_id</th>\n      <th>activity_id</th>\n      <th>fecha_actividad</th>\n      <th>activity_category</th>\n      <th>tipo_actividad</th>\n      <th>char_1</th>\n      <th>group_1</th>\n      <th>char_2</th>\n      <th>date</th>\n      <th>char_3</th>\n      <th>char_4</th>\n      <th>char_5</th>\n      <th>char_6</th>\n      <th>char_7</th>\n      <th>char_8</th>\n      <th>char_9</th>\n    </tr>\n  </thead>\n  <tbody>\n    <tr>\n      <th>0</th>\n      <td>ppl_100</td>\n      <td>act2_1734928</td>\n      <td>2023-08-26</td>\n      <td>type 4</td>\n      <td>type 76</td>\n      <td>type 2</td>\n      <td>group 17304</td>\n      <td>type 2</td>\n      <td>2021-06-29</td>\n      <td>type 5</td>\n      <td>type 5</td>\n      <td>type 5</td>\n      <td>type 3</td>\n      <td>type 11</td>\n      <td>type 2</td>\n      <td>type 2</td>\n    </tr>\n    <tr>\n      <th>1</th>\n      <td>ppl_100</td>\n      <td>act2_2434093</td>\n      <td>2022-09-27</td>\n      <td>type 2</td>\n      <td>type 1</td>\n      <td>type 2</td>\n      <td>group 17304</td>\n      <td>type 2</td>\n      <td>2021-06-29</td>\n      <td>type 5</td>\n      <td>type 5</td>\n      <td>type 5</td>\n      <td>type 3</td>\n      <td>type 11</td>\n      <td>type 2</td>\n      <td>type 2</td>\n    </tr>\n    <tr>\n      <th>2</th>\n      <td>ppl_100</td>\n      <td>act2_3404049</td>\n      <td>2022-09-27</td>\n      <td>type 2</td>\n      <td>type 1</td>\n      <td>type 2</td>\n      <td>group 17304</td>\n      <td>type 2</td>\n      <td>2021-06-29</td>\n      <td>type 5</td>\n      <td>type 5</td>\n      <td>type 5</td>\n      <td>type 3</td>\n      <td>type 11</td>\n      <td>type 2</td>\n      <td>type 2</td>\n    </tr>\n  </tbody>\n</table>\n</div>"
          },
          "metadata": {},
          "execution_count": 14
        }
      ],
      "source": [
        "consolidado.select_dtypes(include='object').head(3)    #Seleccionar variables objeto"
      ]
    },
    {
      "cell_type": "markdown",
      "metadata": {
        "id": "xkjmFo88943p",
        "colab_type": "text"
      },
      "source": [
        "Si recordamos, el identificador people_id se compone por un prefijo \"ppl_\" seguido de un número único por usuario.En este caso basta con recortar el prefijo para transformar esta variable en numerica."
      ]
    },
    {
      "cell_type": "code",
      "metadata": {
        "id": "UC3Ph9sD6YRT",
        "colab_type": "code",
        "colab": {
          "base_uri": "https://localhost:8080/",
          "height": 88
        },
        "outputId": "4285f015-94a1-4a3e-e183-3327ed47e2f4",
        "tags": []
      },
      "source": [
        "consolidado.people_id = consolidado.people_id.str.slice(start=4).astype(float).astype('int64')   #Se utiliza 'int64 en lugar de int, para que no me lo convierta en int32\n",
        "\n",
        "types = pd.DataFrame(consolidado.dtypes)\n",
        "print(\"Tipos de variables luego de 2do reemplazo\",types.groupby(0).size())"
      ],
      "execution_count": 15,
      "outputs": [
        {
          "output_type": "stream",
          "name": "stdout",
          "text": "Tipos de variables luego de 2do reemplazo 0\nint64     31\nobject    15\ndtype: int64\n"
        }
      ]
    },
    {
      "cell_type": "code",
      "execution_count": 16,
      "metadata": {},
      "outputs": [
        {
          "output_type": "execute_result",
          "data": {
            "text/plain": "   people_id   activity_id fecha_actividad activity_category tipo_actividad  \\\n0        100  act2_1734928      2023-08-26            type 4        type 76   \n1        100  act2_2434093      2022-09-27            type 2         type 1   \n2        100  act2_3404049      2022-09-27            type 2         type 1   \n\n   outcome  char_1      group_1  char_2        date  ... char_29 char_30  \\\n0        0  type 2  group 17304  type 2  2021-06-29  ...       0       1   \n1        0  type 2  group 17304  type 2  2021-06-29  ...       0       1   \n2        0  type 2  group 17304  type 2  2021-06-29  ...       0       1   \n\n  char_31 char_32 char_33 char_34 char_35  char_36  char_37  char_38  \n0       1       0       0       1       1        1        0       36  \n1       1       0       0       1       1        1        0       36  \n2       1       0       0       1       1        1        0       36  \n\n[3 rows x 46 columns]",
            "text/html": "<div>\n<style scoped>\n    .dataframe tbody tr th:only-of-type {\n        vertical-align: middle;\n    }\n\n    .dataframe tbody tr th {\n        vertical-align: top;\n    }\n\n    .dataframe thead th {\n        text-align: right;\n    }\n</style>\n<table border=\"1\" class=\"dataframe\">\n  <thead>\n    <tr style=\"text-align: right;\">\n      <th></th>\n      <th>people_id</th>\n      <th>activity_id</th>\n      <th>fecha_actividad</th>\n      <th>activity_category</th>\n      <th>tipo_actividad</th>\n      <th>outcome</th>\n      <th>char_1</th>\n      <th>group_1</th>\n      <th>char_2</th>\n      <th>date</th>\n      <th>...</th>\n      <th>char_29</th>\n      <th>char_30</th>\n      <th>char_31</th>\n      <th>char_32</th>\n      <th>char_33</th>\n      <th>char_34</th>\n      <th>char_35</th>\n      <th>char_36</th>\n      <th>char_37</th>\n      <th>char_38</th>\n    </tr>\n  </thead>\n  <tbody>\n    <tr>\n      <th>0</th>\n      <td>100</td>\n      <td>act2_1734928</td>\n      <td>2023-08-26</td>\n      <td>type 4</td>\n      <td>type 76</td>\n      <td>0</td>\n      <td>type 2</td>\n      <td>group 17304</td>\n      <td>type 2</td>\n      <td>2021-06-29</td>\n      <td>...</td>\n      <td>0</td>\n      <td>1</td>\n      <td>1</td>\n      <td>0</td>\n      <td>0</td>\n      <td>1</td>\n      <td>1</td>\n      <td>1</td>\n      <td>0</td>\n      <td>36</td>\n    </tr>\n    <tr>\n      <th>1</th>\n      <td>100</td>\n      <td>act2_2434093</td>\n      <td>2022-09-27</td>\n      <td>type 2</td>\n      <td>type 1</td>\n      <td>0</td>\n      <td>type 2</td>\n      <td>group 17304</td>\n      <td>type 2</td>\n      <td>2021-06-29</td>\n      <td>...</td>\n      <td>0</td>\n      <td>1</td>\n      <td>1</td>\n      <td>0</td>\n      <td>0</td>\n      <td>1</td>\n      <td>1</td>\n      <td>1</td>\n      <td>0</td>\n      <td>36</td>\n    </tr>\n    <tr>\n      <th>2</th>\n      <td>100</td>\n      <td>act2_3404049</td>\n      <td>2022-09-27</td>\n      <td>type 2</td>\n      <td>type 1</td>\n      <td>0</td>\n      <td>type 2</td>\n      <td>group 17304</td>\n      <td>type 2</td>\n      <td>2021-06-29</td>\n      <td>...</td>\n      <td>0</td>\n      <td>1</td>\n      <td>1</td>\n      <td>0</td>\n      <td>0</td>\n      <td>1</td>\n      <td>1</td>\n      <td>1</td>\n      <td>0</td>\n      <td>36</td>\n    </tr>\n  </tbody>\n</table>\n<p>3 rows × 46 columns</p>\n</div>"
          },
          "metadata": {},
          "execution_count": 16
        }
      ],
      "source": [
        "consolidado.head(3)"
      ]
    },
    {
      "cell_type": "markdown",
      "metadata": {
        "id": "0Xw6Pde0D_Sx",
        "colab_type": "text"
      },
      "source": [
        "Al validar el dataset consolidado podemos aplicar la misma metodología previamente mencionada a otro par de columnas: \n",
        "\n",
        "\"activity_id\", \"activity_category\", \"group_1\", \"tipo_actividad\""
      ]
    },
    {
      "cell_type": "code",
      "metadata": {
        "id": "Pxbqt9iwE3el",
        "colab_type": "code",
        "colab": {
          "base_uri": "https://localhost:8080/",
          "height": 135
        },
        "outputId": "3c1cb608-b838-4517-d6d1-89bb2487a136"
      },
      "source": [
        "consolidado[[\"activity_id\", \"activity_category\", \"group_1\", \"tipo_actividad\"]].head(3)"
      ],
      "execution_count": 17,
      "outputs": [
        {
          "output_type": "execute_result",
          "data": {
            "text/plain": "    activity_id activity_category      group_1 tipo_actividad\n0  act2_1734928            type 4  group 17304        type 76\n1  act2_2434093            type 2  group 17304         type 1\n2  act2_3404049            type 2  group 17304         type 1",
            "text/html": "<div>\n<style scoped>\n    .dataframe tbody tr th:only-of-type {\n        vertical-align: middle;\n    }\n\n    .dataframe tbody tr th {\n        vertical-align: top;\n    }\n\n    .dataframe thead th {\n        text-align: right;\n    }\n</style>\n<table border=\"1\" class=\"dataframe\">\n  <thead>\n    <tr style=\"text-align: right;\">\n      <th></th>\n      <th>activity_id</th>\n      <th>activity_category</th>\n      <th>group_1</th>\n      <th>tipo_actividad</th>\n    </tr>\n  </thead>\n  <tbody>\n    <tr>\n      <th>0</th>\n      <td>act2_1734928</td>\n      <td>type 4</td>\n      <td>group 17304</td>\n      <td>type 76</td>\n    </tr>\n    <tr>\n      <th>1</th>\n      <td>act2_2434093</td>\n      <td>type 2</td>\n      <td>group 17304</td>\n      <td>type 1</td>\n    </tr>\n    <tr>\n      <th>2</th>\n      <td>act2_3404049</td>\n      <td>type 2</td>\n      <td>group 17304</td>\n      <td>type 1</td>\n    </tr>\n  </tbody>\n</table>\n</div>"
          },
          "metadata": {},
          "execution_count": 17
        }
      ]
    },
    {
      "cell_type": "code",
      "metadata": {
        "id": "zwHaLBSsBzIW",
        "colab_type": "code",
        "colab": {
          "base_uri": "https://localhost:8080/",
          "height": 88
        },
        "outputId": "c6e02668-2d10-44c1-f6fa-ee81412c4326",
        "tags": []
      },
      "source": [
        "consolidado.activity_id = consolidado.activity_id.str.slice(start=5).astype(float).astype('int64')\n",
        "consolidado.activity_category = consolidado.activity_category.str.slice(start=5).astype(float).astype('int64')\n",
        "consolidado.group_1 = consolidado.group_1.str.slice(start=6).astype(float).astype('int64')\n",
        "consolidado.tipo_actividad = consolidado.tipo_actividad.str.slice(start=5).astype(float).astype('int64')\n",
        "\n",
        "types = pd.DataFrame(consolidado.dtypes)\n",
        "print(\"Tipos de variables luego de 3er reemplazo\",types.groupby(0).size())"
      ],
      "execution_count": 18,
      "outputs": [
        {
          "output_type": "stream",
          "name": "stdout",
          "text": "Tipos de variables luego de 3er reemplazo 0\nint64     35\nobject    11\ndtype: int64\n"
        }
      ]
    },
    {
      "cell_type": "markdown",
      "metadata": {
        "id": "N212VqnfBEsA",
        "colab_type": "text"
      },
      "source": [
        "Evaluemos las variables que siguen tipo object y la cantidad de valores distintos que poseen"
      ]
    },
    {
      "cell_type": "code",
      "execution_count": 19,
      "metadata": {},
      "outputs": [
        {
          "output_type": "execute_result",
          "data": {
            "text/plain": "array(['fecha_actividad', 'char_1', 'char_2', 'date', 'char_3', 'char_4',\n       'char_5', 'char_6', 'char_7', 'char_8', 'char_9'], dtype=object)"
          },
          "metadata": {},
          "execution_count": 19
        }
      ],
      "source": [
        "types.index[types[0] == 'object'].values"
      ]
    },
    {
      "cell_type": "code",
      "metadata": {
        "id": "gs2LPHTT3Xd5",
        "colab_type": "code",
        "colab": {
          "base_uri": "https://localhost:8080/",
          "height": 212
        },
        "outputId": "72559aa1-d2a6-48cf-b744-6bd92ffc01fa",
        "tags": []
      },
      "source": [
        "categoricas = types.index[types[0] == 'O'].values\n",
        "for nom_col in categoricas:\n",
        " print(\"La variable \"+ nom_col +\" contiene:\",str(len(consolidado[nom_col].unique()))+\" distinct values\")"
      ],
      "execution_count": 20,
      "outputs": [
        {
          "output_type": "stream",
          "name": "stdout",
          "text": "La variable fecha_actividad contiene: 411 distinct values\nLa variable char_1 contiene: 2 distinct values\nLa variable char_2 contiene: 3 distinct values\nLa variable date contiene: 1196 distinct values\nLa variable char_3 contiene: 43 distinct values\nLa variable char_4 contiene: 25 distinct values\nLa variable char_5 contiene: 9 distinct values\nLa variable char_6 contiene: 7 distinct values\nLa variable char_7 contiene: 25 distinct values\nLa variable char_8 contiene: 8 distinct values\nLa variable char_9 contiene: 9 distinct values\n"
        }
      ]
    },
    {
      "cell_type": "markdown",
      "metadata": {
        "id": "YGMo1pAGF4at",
        "colab_type": "text"
      },
      "source": [
        "Del listado anterior resaltamos dos variables tipo fecha (\"date\", \"fecha_actividad\") Para la red neuronal representa una oportunidad poder extraer una serie de caracteristicas adicionales que le permitan entender patrones estacionales de diferentes periodicidades (diario, semanal, mensual, etc) es por esto que crearemos una serie de variables adicionales (de naturaleza numérica) a partir de estas dos fechas:"
      ]
    },
    {
      "cell_type": "code",
      "metadata": {
        "id": "cH_A3NfKPgCK",
        "colab_type": "code",
        "colab": {
          "base_uri": "https://localhost:8080/",
          "height": 88
        },
        "outputId": "5db79f3c-0b5b-40bc-ad7a-7901ff136ead",
        "tags": []
      },
      "source": [
        "#Convertimos la variable objeto en datetime\n",
        "consolidado[\"date\"] = pd.to_datetime(consolidado[\"date\"])\n",
        "#Creamos nuevas variables\n",
        "consolidado[\"dia\"] = consolidado[\"date\"].dt.day\n",
        "consolidado[\"dia_semana\"] = consolidado[\"date\"].dt.weekday\n",
        "consolidado[\"semana\"] = consolidado[\"date\"].dt.week\n",
        "consolidado[\"mes\"] = consolidado[\"date\"].dt.month\n",
        "consolidado[\"trimestre\"] = consolidado[\"date\"].dt.quarter\n",
        "consolidado[\"año\"] = consolidado[\"date\"].dt.year\n",
        "\n",
        "#Repetimos el procedimiento anterior con fecha_actividad\n",
        "consolidado[\"fecha_actividad\"] = pd.to_datetime(consolidado[\"fecha_actividad\"])\n",
        "consolidado[\"dia_actividad\"] = consolidado[\"fecha_actividad\"].dt.day\n",
        "consolidado[\"dia_semana_actividad\"] = consolidado[\"fecha_actividad\"].dt.weekday\n",
        "consolidado[\"semana_actividad\"] = consolidado[\"fecha_actividad\"].dt.week\n",
        "consolidado[\"mes_actividad\"] = consolidado[\"fecha_actividad\"].dt.month\n",
        "consolidado[\"trimestre_actividad\"] = consolidado[\"fecha_actividad\"].dt.quarter\n",
        "consolidado[\"año_actividad\"] = consolidado[\"fecha_actividad\"].dt.year\n",
        "\n",
        "#Delete the original date columns\n",
        "del(consolidado[\"date\"])\n",
        "del(consolidado[\"fecha_actividad\"])\n",
        "\n",
        "types = pd.DataFrame(consolidado.dtypes)\n",
        "print(\"Tipos de variables luego de 4to reemplazo\",types.groupby(0).size())"
      ],
      "execution_count": 21,
      "outputs": [
        {
          "output_type": "stream",
          "name": "stdout",
          "text": "Tipos de variables luego de 4to reemplazo 0\nint64     47\nobject     9\ndtype: int64\n"
        }
      ]
    },
    {
      "cell_type": "code",
      "metadata": {
        "id": "yCt_KKF3PgHN",
        "colab_type": "code",
        "colab": {
          "base_uri": "https://localhost:8080/",
          "height": 155
        },
        "outputId": "e3986e25-3cae-4f84-f735-61b62f02aa73"
      },
      "source": [
        "consolidado.head(3)"
      ],
      "execution_count": 22,
      "outputs": [
        {
          "output_type": "execute_result",
          "data": {
            "text/plain": "   people_id  activity_id  activity_category  tipo_actividad  outcome  char_1  \\\n0        100      1734928                  4              76        0  type 2   \n1        100      2434093                  2               1        0  type 2   \n2        100      3404049                  2               1        0  type 2   \n\n   group_1  char_2  char_3  char_4  ... semana mes trimestre   año  \\\n0    17304  type 2  type 5  type 5  ...     26   6         2  2021   \n1    17304  type 2  type 5  type 5  ...     26   6         2  2021   \n2    17304  type 2  type 5  type 5  ...     26   6         2  2021   \n\n  dia_actividad  dia_semana_actividad  semana_actividad  mes_actividad  \\\n0            26                     5                34              8   \n1            27                     1                39              9   \n2            27                     1                39              9   \n\n   trimestre_actividad  año_actividad  \n0                    3           2023  \n1                    3           2022  \n2                    3           2022  \n\n[3 rows x 56 columns]",
            "text/html": "<div>\n<style scoped>\n    .dataframe tbody tr th:only-of-type {\n        vertical-align: middle;\n    }\n\n    .dataframe tbody tr th {\n        vertical-align: top;\n    }\n\n    .dataframe thead th {\n        text-align: right;\n    }\n</style>\n<table border=\"1\" class=\"dataframe\">\n  <thead>\n    <tr style=\"text-align: right;\">\n      <th></th>\n      <th>people_id</th>\n      <th>activity_id</th>\n      <th>activity_category</th>\n      <th>tipo_actividad</th>\n      <th>outcome</th>\n      <th>char_1</th>\n      <th>group_1</th>\n      <th>char_2</th>\n      <th>char_3</th>\n      <th>char_4</th>\n      <th>...</th>\n      <th>semana</th>\n      <th>mes</th>\n      <th>trimestre</th>\n      <th>año</th>\n      <th>dia_actividad</th>\n      <th>dia_semana_actividad</th>\n      <th>semana_actividad</th>\n      <th>mes_actividad</th>\n      <th>trimestre_actividad</th>\n      <th>año_actividad</th>\n    </tr>\n  </thead>\n  <tbody>\n    <tr>\n      <th>0</th>\n      <td>100</td>\n      <td>1734928</td>\n      <td>4</td>\n      <td>76</td>\n      <td>0</td>\n      <td>type 2</td>\n      <td>17304</td>\n      <td>type 2</td>\n      <td>type 5</td>\n      <td>type 5</td>\n      <td>...</td>\n      <td>26</td>\n      <td>6</td>\n      <td>2</td>\n      <td>2021</td>\n      <td>26</td>\n      <td>5</td>\n      <td>34</td>\n      <td>8</td>\n      <td>3</td>\n      <td>2023</td>\n    </tr>\n    <tr>\n      <th>1</th>\n      <td>100</td>\n      <td>2434093</td>\n      <td>2</td>\n      <td>1</td>\n      <td>0</td>\n      <td>type 2</td>\n      <td>17304</td>\n      <td>type 2</td>\n      <td>type 5</td>\n      <td>type 5</td>\n      <td>...</td>\n      <td>26</td>\n      <td>6</td>\n      <td>2</td>\n      <td>2021</td>\n      <td>27</td>\n      <td>1</td>\n      <td>39</td>\n      <td>9</td>\n      <td>3</td>\n      <td>2022</td>\n    </tr>\n    <tr>\n      <th>2</th>\n      <td>100</td>\n      <td>3404049</td>\n      <td>2</td>\n      <td>1</td>\n      <td>0</td>\n      <td>type 2</td>\n      <td>17304</td>\n      <td>type 2</td>\n      <td>type 5</td>\n      <td>type 5</td>\n      <td>...</td>\n      <td>26</td>\n      <td>6</td>\n      <td>2</td>\n      <td>2021</td>\n      <td>27</td>\n      <td>1</td>\n      <td>39</td>\n      <td>9</td>\n      <td>3</td>\n      <td>2022</td>\n    </tr>\n  </tbody>\n</table>\n<p>3 rows × 56 columns</p>\n</div>"
          },
          "metadata": {},
          "execution_count": 22
        }
      ]
    },
    {
      "cell_type": "markdown",
      "metadata": {
        "id": "s1XPWwHuX9HU",
        "colab_type": "text"
      },
      "source": [
        "Con la relativa pequeña cantidad de variables categoricas que manejamos vamos a proceder a realizar la conversión por One Hot Encoding"
      ]
    },
    {
      "cell_type": "code",
      "metadata": {
        "id": "saG7uQAlzG53",
        "colab_type": "code",
        "colab": {
          "base_uri": "https://localhost:8080/",
          "height": 177
        },
        "outputId": "f6a63708-e618-4392-f6ab-096c2c031375",
        "tags": []
      },
      "source": [
        "categoricas = types.index[types[0] == 'O'].values\n",
        "for line in categoricas:\n",
        " print(\"La variable \"+ line +\" contiene:\",str(len(consolidado[line].unique()))+\" distinct values\")"
      ],
      "execution_count": 23,
      "outputs": [
        {
          "output_type": "stream",
          "name": "stdout",
          "text": "La variable char_1 contiene: 2 distinct values\nLa variable char_2 contiene: 3 distinct values\nLa variable char_3 contiene: 43 distinct values\nLa variable char_4 contiene: 25 distinct values\nLa variable char_5 contiene: 9 distinct values\nLa variable char_6 contiene: 7 distinct values\nLa variable char_7 contiene: 25 distinct values\nLa variable char_8 contiene: 8 distinct values\nLa variable char_9 contiene: 9 distinct values\n"
        }
      ]
    },
    {
      "cell_type": "code",
      "metadata": {
        "id": "yM6_lZUoVqvJ",
        "colab_type": "code",
        "colab": {}
      },
      "source": [
        "from sklearn.preprocessing import LabelEncoder, OneHotEncoder\n",
        "\n",
        "columna='char_6'\n",
        "le = LabelEncoder()\n",
        "le_ajustado=le.fit_transform(consolidado[columna]).reshape(-1,1)\n",
        "le_ajustado[:10]"
      ],
      "execution_count": 24,
      "outputs": [
        {
          "output_type": "execute_result",
          "data": {
            "text/plain": "array([[2],\n       [2],\n       [2],\n       [2],\n       [2],\n       [2],\n       [2],\n       [2],\n       [1],\n       [1]])"
          },
          "metadata": {},
          "execution_count": 24
        }
      ]
    },
    {
      "cell_type": "code",
      "execution_count": 25,
      "metadata": {},
      "outputs": [
        {
          "output_type": "execute_result",
          "data": {
            "text/plain": "array(['type 1', 'type 2', 'type 3', 'type 4', 'type 5', 'type 6',\n       'type 7'], dtype=object)"
          },
          "metadata": {},
          "execution_count": 25
        }
      ],
      "source": [
        "le.classes_"
      ]
    },
    {
      "cell_type": "code",
      "metadata": {
        "id": "x-D8fQlCXoXe",
        "colab_type": "code",
        "colab": {
          "base_uri": "https://localhost:8080/",
          "height": 141
        },
        "outputId": "9eccf8d1-9300-4ae4-e993-0a6c5a89d651"
      },
      "source": [
        "encoder = OneHotEncoder(sparse=False)\n",
        "column = [columna+ \"_\"+ str(i) for i in le.classes_]\n",
        "column"
      ],
      "execution_count": 26,
      "outputs": [
        {
          "output_type": "execute_result",
          "data": {
            "text/plain": "['char_6_type 1',\n 'char_6_type 2',\n 'char_6_type 3',\n 'char_6_type 4',\n 'char_6_type 5',\n 'char_6_type 6',\n 'char_6_type 7']"
          },
          "metadata": {},
          "execution_count": 26
        }
      ]
    },
    {
      "cell_type": "code",
      "execution_count": 27,
      "metadata": {},
      "outputs": [
        {
          "output_type": "execute_result",
          "data": {
            "text/plain": "   char_6_type 1  char_6_type 2  char_6_type 3  char_6_type 4  char_6_type 5  \\\n0            0.0            0.0            1.0            0.0            0.0   \n1            0.0            0.0            1.0            0.0            0.0   \n2            0.0            0.0            1.0            0.0            0.0   \n\n   char_6_type 6  char_6_type 7  \n0            0.0            0.0  \n1            0.0            0.0  \n2            0.0            0.0  ",
            "text/html": "<div>\n<style scoped>\n    .dataframe tbody tr th:only-of-type {\n        vertical-align: middle;\n    }\n\n    .dataframe tbody tr th {\n        vertical-align: top;\n    }\n\n    .dataframe thead th {\n        text-align: right;\n    }\n</style>\n<table border=\"1\" class=\"dataframe\">\n  <thead>\n    <tr style=\"text-align: right;\">\n      <th></th>\n      <th>char_6_type 1</th>\n      <th>char_6_type 2</th>\n      <th>char_6_type 3</th>\n      <th>char_6_type 4</th>\n      <th>char_6_type 5</th>\n      <th>char_6_type 6</th>\n      <th>char_6_type 7</th>\n    </tr>\n  </thead>\n  <tbody>\n    <tr>\n      <th>0</th>\n      <td>0.0</td>\n      <td>0.0</td>\n      <td>1.0</td>\n      <td>0.0</td>\n      <td>0.0</td>\n      <td>0.0</td>\n      <td>0.0</td>\n    </tr>\n    <tr>\n      <th>1</th>\n      <td>0.0</td>\n      <td>0.0</td>\n      <td>1.0</td>\n      <td>0.0</td>\n      <td>0.0</td>\n      <td>0.0</td>\n      <td>0.0</td>\n    </tr>\n    <tr>\n      <th>2</th>\n      <td>0.0</td>\n      <td>0.0</td>\n      <td>1.0</td>\n      <td>0.0</td>\n      <td>0.0</td>\n      <td>0.0</td>\n      <td>0.0</td>\n    </tr>\n  </tbody>\n</table>\n</div>"
          },
          "metadata": {},
          "execution_count": 27
        }
      ],
      "source": [
        "pd.DataFrame(encoder.fit_transform(le_ajustado),columns = column).head(3)"
      ]
    },
    {
      "cell_type": "code",
      "metadata": {
        "id": "tkHN8cnOQQwP",
        "colab_type": "code",
        "colab": {}
      },
      "source": [
        "#Se define función que captura el dataframe y la columna para retornar un dataframe luego de OHE\n",
        "def crea_OneHotEncoding(df, columna):\n",
        "  le = LabelEncoder()\n",
        "  le_ajustado=le.fit_transform(df[columna]).reshape(-1,1)\n",
        "  encoder = OneHotEncoder(sparse=False)\n",
        "  column = [columna+ \"_\"+ str(i) for i in le.classes_]\n",
        "  data = encoder.fit_transform(le_ajustado)\n",
        "  return(pd.DataFrame(data,columns =column))"
      ],
      "execution_count": 28,
      "outputs": []
    },
    {
      "cell_type": "code",
      "metadata": {
        "id": "KeONNDhnMYz4",
        "colab_type": "code",
        "colab": {
          "base_uri": "https://localhost:8080/",
          "height": 195
        },
        "outputId": "c9aa2289-2d6f-48af-dade-2238a89a8a93",
        "tags": []
      },
      "source": [
        "numeric_columns = list(set(types.index[types[0] ==\"int64\"].values) - set([\"outcome\"]))\n",
        "variables_consolidadas = consolidado[numeric_columns]\n",
        "objetivo = consolidado[\"outcome\"]\n",
        "\n",
        "categoricas = types.index[types[0] == 'O'].values\n",
        "for column in categoricas:\n",
        "  df = crea_OneHotEncoding(consolidado,column)\n",
        "  variables_consolidadas = pd.concat([variables_consolidadas,df],axis=1)\n",
        "  print(\"Columna \",column, \" transformada!\")\n",
        "\n",
        "print(\"Tamaño final del dataset transformado:\",variables_consolidadas.shape)"
      ],
      "execution_count": 29,
      "outputs": [
        {
          "output_type": "stream",
          "name": "stdout",
          "text": "Columna  char_1  transformada!\nColumna  char_2  transformada!\nColumna  char_3  transformada!\nColumna  char_4  transformada!\nColumna  char_5  transformada!\nColumna  char_6  transformada!\nColumna  char_7  transformada!\nColumna  char_8  transformada!\nColumna  char_9  transformada!\nTamaño final del dataset transformado: (2197291, 177)\n"
        }
      ]
    },
    {
      "cell_type": "code",
      "metadata": {
        "id": "d-Isxxj2wzPX",
        "colab_type": "code",
        "colab": {
          "base_uri": "https://localhost:8080/",
          "height": 201
        },
        "outputId": "f610b55c-4c63-4856-bf16-770a58bf6a27"
      },
      "source": [
        "variables_consolidadas.head(3)"
      ],
      "execution_count": 30,
      "outputs": [
        {
          "output_type": "execute_result",
          "data": {
            "text/plain": "   char_24   año  char_13  char_19  char_37  tipo_actividad  \\\n0        0  2021        1        0        0              76   \n1        0  2021        1        0        0               1   \n2        0  2021        1        0        0               1   \n\n   activity_category  char_25  char_12  char_27  ...  char_8_type 8  \\\n0                  4        0        0        1  ...            0.0   \n1                  2        0        0        1  ...            0.0   \n2                  2        0        0        1  ...            0.0   \n\n   char_9_type 1  char_9_type 2  char_9_type 3  char_9_type 4  char_9_type 5  \\\n0            0.0            1.0            0.0            0.0            0.0   \n1            0.0            1.0            0.0            0.0            0.0   \n2            0.0            1.0            0.0            0.0            0.0   \n\n   char_9_type 6  char_9_type 7  char_9_type 8  char_9_type 9  \n0            0.0            0.0            0.0            0.0  \n1            0.0            0.0            0.0            0.0  \n2            0.0            0.0            0.0            0.0  \n\n[3 rows x 177 columns]",
            "text/html": "<div>\n<style scoped>\n    .dataframe tbody tr th:only-of-type {\n        vertical-align: middle;\n    }\n\n    .dataframe tbody tr th {\n        vertical-align: top;\n    }\n\n    .dataframe thead th {\n        text-align: right;\n    }\n</style>\n<table border=\"1\" class=\"dataframe\">\n  <thead>\n    <tr style=\"text-align: right;\">\n      <th></th>\n      <th>char_24</th>\n      <th>año</th>\n      <th>char_13</th>\n      <th>char_19</th>\n      <th>char_37</th>\n      <th>tipo_actividad</th>\n      <th>activity_category</th>\n      <th>char_25</th>\n      <th>char_12</th>\n      <th>char_27</th>\n      <th>...</th>\n      <th>char_8_type 8</th>\n      <th>char_9_type 1</th>\n      <th>char_9_type 2</th>\n      <th>char_9_type 3</th>\n      <th>char_9_type 4</th>\n      <th>char_9_type 5</th>\n      <th>char_9_type 6</th>\n      <th>char_9_type 7</th>\n      <th>char_9_type 8</th>\n      <th>char_9_type 9</th>\n    </tr>\n  </thead>\n  <tbody>\n    <tr>\n      <th>0</th>\n      <td>0</td>\n      <td>2021</td>\n      <td>1</td>\n      <td>0</td>\n      <td>0</td>\n      <td>76</td>\n      <td>4</td>\n      <td>0</td>\n      <td>0</td>\n      <td>1</td>\n      <td>...</td>\n      <td>0.0</td>\n      <td>0.0</td>\n      <td>1.0</td>\n      <td>0.0</td>\n      <td>0.0</td>\n      <td>0.0</td>\n      <td>0.0</td>\n      <td>0.0</td>\n      <td>0.0</td>\n      <td>0.0</td>\n    </tr>\n    <tr>\n      <th>1</th>\n      <td>0</td>\n      <td>2021</td>\n      <td>1</td>\n      <td>0</td>\n      <td>0</td>\n      <td>1</td>\n      <td>2</td>\n      <td>0</td>\n      <td>0</td>\n      <td>1</td>\n      <td>...</td>\n      <td>0.0</td>\n      <td>0.0</td>\n      <td>1.0</td>\n      <td>0.0</td>\n      <td>0.0</td>\n      <td>0.0</td>\n      <td>0.0</td>\n      <td>0.0</td>\n      <td>0.0</td>\n      <td>0.0</td>\n    </tr>\n    <tr>\n      <th>2</th>\n      <td>0</td>\n      <td>2021</td>\n      <td>1</td>\n      <td>0</td>\n      <td>0</td>\n      <td>1</td>\n      <td>2</td>\n      <td>0</td>\n      <td>0</td>\n      <td>1</td>\n      <td>...</td>\n      <td>0.0</td>\n      <td>0.0</td>\n      <td>1.0</td>\n      <td>0.0</td>\n      <td>0.0</td>\n      <td>0.0</td>\n      <td>0.0</td>\n      <td>0.0</td>\n      <td>0.0</td>\n      <td>0.0</td>\n    </tr>\n  </tbody>\n</table>\n<p>3 rows × 177 columns</p>\n</div>"
          },
          "metadata": {},
          "execution_count": 30
        }
      ]
    },
    {
      "cell_type": "markdown",
      "metadata": {
        "id": "mOP0z86EKrly",
        "colab_type": "text"
      },
      "source": [
        "Con el dataset ya consolidado procedemos a seleccionar las muestras de entrenamiento, validación y prueba"
      ]
    },
    {
      "cell_type": "code",
      "metadata": {
        "id": "Jug8ZISZQQ0X",
        "colab_type": "code",
        "colab": {
          "base_uri": "https://localhost:8080/",
          "height": 124
        },
        "outputId": "425d4d29-c26a-40bd-e04b-7b717efcd454",
        "tags": []
      },
      "source": [
        "from sklearn.model_selection import train_test_split\n",
        "#Entrenamiento y prueba con relación 80:20\n",
        "x_train, x_test, y_train, y_test = train_test_split(variables_consolidadas,objetivo, test_size=0.2,random_state=2020)\n",
        "\n",
        "print(\"Shape of x_train:\",x_train.shape)\n",
        "print(\"Shape of x_test:\",x_test.shape)\n",
        "print(\"Shape of y_train:\",y_train.shape)\n",
        "print(\"Shape of y_test:\",y_test.shape)"
      ],
      "execution_count": 31,
      "outputs": [
        {
          "output_type": "stream",
          "name": "stdout",
          "text": "Shape of x_train: (1757832, 177)\nShape of x_test: (439459, 177)\nShape of y_train: (1757832,)\nShape of y_test: (439459,)\n"
        }
      ]
    },
    {
      "cell_type": "code",
      "execution_count": 32,
      "metadata": {
        "tags": []
      },
      "outputs": [
        {
          "output_type": "stream",
          "name": "stdout",
          "text": "Shape of x_vtrain: (1582048, 177)\nShape of x_val: (175784, 177)\nShape of y_vtrain: (1582048,)\nShape of y_val: (175784,)\n"
        }
      ],
      "source": [
        "#Entrenamiento y validación con relación 90:10\n",
        "x_train, x_val, y_train, y_val = train_test_split(x_train,y_train, test_size=0.1, random_state=2020)\n",
        "print(\"Shape of x_vtrain:\",x_train.shape)\n",
        "print(\"Shape of x_val:\",x_val.shape)\n",
        "print(\"Shape of y_vtrain:\",y_train.shape)\n",
        "print(\"Shape of y_val:\",y_val.shape)"
      ]
    },
    {
      "cell_type": "markdown",
      "metadata": {
        "id": "APBt-AAfNBQj",
        "colab_type": "text"
      },
      "source": [
        "# <h1 id=\"arquitectura\">Arquitectura Propuesta</h1>\n",
        "\n",
        "Una vez consolidado los sets de información de entrenamiento, validacion y pruebas ya podemos iniciar a modelar nuestra red neuronal con las siguientes consideraciones:\n",
        "* Debido a que el problema consiste en un clasificador binario la función de perdidas más recomendada es \"binary_crossentropy\".\n",
        "* De manera similar una función de activación que se adecua al tipo de problema es la \"sigmoid\" o Logistica.\n",
        "* La metrica para evaluación sera la precisión \"accuracy\"\n",
        "* Debido a la gran cantidad de información el entrenamiento tomara más tiempo, en este escenario se implementaran arquitecturas más pequeñas con pocas epocas de entrenamiento y se escalará el modelo a medida que los resultados del accuracy mejoren."
      ]
    },
    {
      "cell_type": "code",
      "metadata": {
        "id": "5WORHuhPQmKX",
        "colab_type": "code",
        "colab": {
          "base_uri": "https://localhost:8080/",
          "height": 284
        },
        "outputId": "f85468b8-7a59-4ace-c095-7760becd4cfa",
        "tags": []
      },
      "source": [
        "from keras.models import Sequential\n",
        "from keras.layers import Dense\n",
        "from keras.utils import plot_model\n",
        "\n",
        "#Red neuronal pequeña\n",
        "model = Sequential()\n",
        "model.add(Dense(256,input_dim = x_train.shape[1],activation=\"relu\"))     #Como se tiene 177 variables, pondremos 256 neuronas\n",
        "model.add(Dense(256,activation=\"relu\"))\n",
        "model.add(Dense(1,activation = \"sigmoid\")) \n",
        "model.compile(optimizer = \"Adam\",loss=\"binary_crossentropy\",metrics=[\"accuracy\"])\n",
        "\n",
        "print(model.summary())"
      ],
      "execution_count": 33,
      "outputs": [
        {
          "output_type": "stream",
          "name": "stderr",
          "text": "Using TensorFlow backend.\nModel: \"sequential_1\"\n_________________________________________________________________\nLayer (type)                 Output Shape              Param #   \n=================================================================\ndense_1 (Dense)              (None, 256)               45568     \n_________________________________________________________________\ndense_2 (Dense)              (None, 256)               65792     \n_________________________________________________________________\ndense_3 (Dense)              (None, 1)                 257       \n=================================================================\nTotal params: 111,617\nTrainable params: 111,617\nNon-trainable params: 0\n_________________________________________________________________\nNone\n"
        }
      ]
    },
    {
      "cell_type": "code",
      "metadata": {
        "id": "6aDTIdkX3lq6",
        "colab_type": "code",
        "colab": {
          "base_uri": "https://localhost:8080/",
          "height": 422
        },
        "outputId": "44c0560e-d3e9-4898-9dc2-06327e314d21"
      },
      "source": [
        "plot_model(model, to_file='model.png',show_shapes=True)"
      ],
      "execution_count": 34,
      "outputs": [
        {
          "output_type": "execute_result",
          "data": {
            "image/png": "[encoded data removed]",
            "text/plain": "<IPython.core.display.Image object>"
          },
          "metadata": {},
          "execution_count": 34
        }
      ]
    },
    {
      "cell_type": "code",
      "metadata": {
        "id": "tOHDiEkZ3mrD",
        "colab_type": "code",
        "colab": {
          "base_uri": "https://localhost:8080/",
          "height": 159
        },
        "outputId": "642f8168-588d-4dba-a904-527350cdd641",
        "tags": []
      },
      "source": [
        "model.fit(x_train,y_train, validation_data = (x_val,y_val),epochs=3, batch_size=64)"
      ],
      "execution_count": 35,
      "outputs": [
        {
          "output_type": "stream",
          "name": "stdout",
          "text": "Train on 1582048 samples, validate on 175784 samples\nEpoch 1/3\n1582048/1582048 [==============================] - 105s 66us/step - loss: 315.8413 - accuracy: 0.6488 - val_loss: 0.6694 - val_accuracy: 0.5923\nEpoch 2/3\n1582048/1582048 [==============================] - 101s 64us/step - loss: 0.6860 - accuracy: 0.5609 - val_loss: 0.6866 - val_accuracy: 0.5573\nEpoch 3/3\n1582048/1582048 [==============================] - 100s 63us/step - loss: 0.6889 - accuracy: 0.5561 - val_loss: 0.6866 - val_accuracy: 0.5573\n"
        },
        {
          "output_type": "execute_result",
          "data": {
            "text/plain": "<keras.callbacks.callbacks.History at 0x1f776648a08>"
          },
          "metadata": {},
          "execution_count": 35
        }
      ]
    },
    {
      "cell_type": "code",
      "metadata": {
        "id": "nEhDc_PGQ4lY",
        "colab_type": "code",
        "colab": {
          "base_uri": "https://localhost:8080/",
          "height": 159
        },
        "outputId": "76e688fe-817f-4fdc-8288-cdbaccc7a409"
      },
      "source": [
        "#Red neuronal de 2 capas\n",
        "model = Sequential()\n",
        "model.add(Dense(512,input_dim = x_train.shape[1],activation=\"relu\"))\n",
        "model.add(Dense(512,activation=\"relu\"))\n",
        "model.add(Dense(256,activation=\"relu\"))\n",
        "model.add(Dense(1,activation = \"sigmoid\"))\n",
        "model.compile(optimizer = \"Adam\",loss=\"binary_crossentropy\",metrics=[\"accuracy\"])\n",
        "model.fit(x_train,y_train, validation_data = (x_val,y_val),epochs=3, batch_size=64)"
      ],
      "execution_count": null,
      "outputs": [
        {
          "output_type": "stream",
          "text": [
            "Train on 1582048 samples, validate on 175784 samples\n",
            "Epoch 1/3\n",
            "1582048/1582048 [==============================] - 130s 82us/step - loss: 7.1558 - acc: 0.5560 - val_loss: 7.1357 - val_acc: 0.5573\n",
            "Epoch 2/3\n",
            "1582048/1582048 [==============================] - 129s 82us/step - loss: 7.1552 - acc: 0.5561 - val_loss: 7.1357 - val_acc: 0.5573\n",
            "Epoch 3/3\n",
            "1582048/1582048 [==============================] - 130s 82us/step - loss: 7.1552 - acc: 0.5561 - val_loss: 7.1357 - val_acc: 0.5573\n"
          ],
          "name": "stdout"
        },
        {
          "output_type": "execute_result",
          "data": {
            "text/plain": [
              "<keras.callbacks.History at 0x7f068d0319e8>"
            ]
          },
          "metadata": {
            "tags": []
          },
          "execution_count": 179
        }
      ]
    },
    {
      "cell_type": "markdown",
      "metadata": {
        "id": "fbcKkP7K-OYf",
        "colab_type": "text"
      },
      "source": [
        "A pesar de haber escalado el tamaño de la red los resultados siguen siendo descepcionantes. En este caso el mejor paso a seguir es volver a validar los datos disponibles. En este punto existen dos opciones a explorar: \n",
        "* Estandarizar las variables numericas disponibles.\n",
        "* Volver a realizar el One Hot Encoding."
      ]
    },
    {
      "cell_type": "code",
      "metadata": {
        "id": "5SmQFYMSRHcB",
        "colab_type": "code",
        "colab": {}
      },
      "source": [
        "from sklearn.preprocessing import StandardScaler\n",
        "scaler = StandardScaler()\n",
        "scaler.fit(x_train)\n",
        "x_train_scaled = scaler.transform(x_train)\n",
        "x_val_scaled = scaler.transform(x_val)\n",
        "x_test_scaled = scaler.transform(x_test)"
      ],
      "execution_count": 35,
      "outputs": []
    },
    {
      "cell_type": "code",
      "metadata": {
        "id": "VYWUPxcoRHn9",
        "colab_type": "code",
        "colab": {
          "base_uri": "https://localhost:8080/",
          "height": 159
        },
        "outputId": "cc90122c-34bc-4b39-c034-c32931e29ce7",
        "tags": []
      },
      "source": [
        "#Red neuronal de 2 capas\n",
        "model = Sequential()\n",
        "model.add(Dense(512,input_dim = x_train_scaled.shape[1],activation=\"relu\"))\n",
        "model.add(Dense(512,activation=\"relu\"))\n",
        "model.add(Dense(256,activation=\"relu\"))\n",
        "model.add(Dense(1,activation = \"sigmoid\"))\n",
        "model.compile(optimizer = \"Adam\",loss=\"binary_crossentropy\",metrics=[\"accuracy\"])\n",
        "model.fit(x_train_scaled,y_train, validation_data = (x_val_scaled,y_val),epochs=3, batch_size=64)"
      ],
      "execution_count": 36,
      "outputs": [
        {
          "output_type": "stream",
          "name": "stdout",
          "text": "Train on 1582048 samples, validate on 175784 samples\nEpoch 1/3\n1582048/1582048 [==============================] - 272s 172us/step - loss: 0.1982 - accuracy: 0.9121 - val_loss: 0.1424 - val_accuracy: 0.9413\nEpoch 2/3\n1582048/1582048 [==============================] - 257s 163us/step - loss: 0.1194 - accuracy: 0.9513 - val_loss: 0.1059 - val_accuracy: 0.9587\nEpoch 3/3\n1582048/1582048 [==============================] - 259s 164us/step - loss: 0.0924 - accuracy: 0.9635 - val_loss: 0.0915 - val_accuracy: 0.9643\n"
        },
        {
          "output_type": "execute_result",
          "data": {
            "text/plain": "<keras.callbacks.callbacks.History at 0x1e1126c93c8>"
          },
          "metadata": {},
          "execution_count": 36
        }
      ]
    },
    {
      "cell_type": "markdown",
      "metadata": {
        "id": "ubDSL59pCcBg",
        "colab_type": "text"
      },
      "source": [
        "Con sólo la estandarización de la información el desempeño del modelo ha mejorado drasticamente logrando una precision del 96%! Podriamos seguir evaluanto redes más grandes, pero es un valor aceptable para nosotros por el momento. El siguiente paso es probar este mismo modelo con información que la red nunca haya visto (set de prueba)"
      ]
    },
    {
      "cell_type": "code",
      "metadata": {
        "id": "B6C_XX0dRHxR",
        "colab_type": "code",
        "colab": {
          "base_uri": "https://localhost:8080/",
          "height": 70
        },
        "outputId": "2012039d-6d7b-4084-b120-09735c9a84b9",
        "tags": []
      },
      "source": [
        "result = model.evaluate(x_test_scaled,y_test)\n",
        "for i in range(len(model.metrics_names)):\n",
        " print(\"Metric \",model.metrics_names[i],\":\",\n",
        "str(round(result[i],2)))"
      ],
      "execution_count": 37,
      "outputs": [
        {
          "output_type": "stream",
          "name": "stdout",
          "text": "439459/439459 [==============================] - 26s 60us/step\nMetric  loss : 0.09\nMetric  accuracy : 0.96\n"
        }
      ]
    },
    {
      "cell_type": "markdown",
      "metadata": {
        "id": "OLQb96GiC3vb",
        "colab_type": "text"
      },
      "source": [
        "El desempeño con el set de prueba sigue siendo bueno por lo cual ya podemos emplear la arquitectura definida y realizar un entrenamiento con un mayor número de epocas."
      ]
    },
    {
      "cell_type": "code",
      "metadata": {
        "id": "SMi2p6qoRfbo",
        "colab_type": "code",
        "colab": {
          "base_uri": "https://localhost:8080/",
          "height": 479
        },
        "outputId": "6cf3325c-f246-4f77-eeb9-dbd2a16446f3"
      },
      "source": [
        "model = Sequential()\n",
        "model.add(Dense(512,input_dim = x_train_scaled.shape[1],activation=\"relu\"))\n",
        "model.add(Dense(512,activation=\"relu\"))\n",
        "model.add(Dense(256,activation=\"relu\"))\n",
        "model.add(Dense(1,activation = \"sigmoid\"))\n",
        "model.compile(optimizer = \"Adam\",loss=\"binary_crossentropy\",metrics=[\"accuracy\"])\n",
        "model.fit(x_train_scaled,y_train, validation_data = (x_val_scaled,y_val),epochs=12, batch_size=64)"
      ],
      "execution_count": null,
      "outputs": [
        {
          "output_type": "stream",
          "text": [
            "Train on 1582048 samples, validate on 175784 samples\n",
            "Epoch 1/12\n",
            "1582048/1582048 [==============================] - 131s 83us/step - loss: 0.1972 - acc: 0.9129 - val_loss: 0.1430 - val_acc: 0.9409\n",
            "Epoch 2/12\n",
            "1582048/1582048 [==============================] - 130s 82us/step - loss: 0.1188 - acc: 0.9518 - val_loss: 0.1088 - val_acc: 0.9571\n",
            "Epoch 3/12\n",
            "1582048/1582048 [==============================] - 129s 82us/step - loss: 0.0927 - acc: 0.9636 - val_loss: 0.0898 - val_acc: 0.9652\n",
            "Epoch 4/12\n",
            "1582048/1582048 [==============================] - 130s 82us/step - loss: 0.0780 - acc: 0.9697 - val_loss: 0.0831 - val_acc: 0.9688\n",
            "Epoch 5/12\n",
            "1582048/1582048 [==============================] - 129s 82us/step - loss: 0.0689 - acc: 0.9735 - val_loss: 0.0781 - val_acc: 0.9717\n",
            "Epoch 6/12\n",
            "1582048/1582048 [==============================] - 130s 82us/step - loss: 0.0624 - acc: 0.9766 - val_loss: 0.0746 - val_acc: 0.9737\n",
            "Epoch 7/12\n",
            "1582048/1582048 [==============================] - 129s 82us/step - loss: 0.0583 - acc: 0.9784 - val_loss: 0.0712 - val_acc: 0.9753\n",
            "Epoch 8/12\n",
            "1582048/1582048 [==============================] - 127s 80us/step - loss: 0.0542 - acc: 0.9801 - val_loss: 0.0702 - val_acc: 0.9771\n",
            "Epoch 9/12\n",
            "1582048/1582048 [==============================] - 127s 80us/step - loss: 0.0520 - acc: 0.9812 - val_loss: 0.0711 - val_acc: 0.9777\n",
            "Epoch 10/12\n",
            "1582048/1582048 [==============================] - 127s 80us/step - loss: 0.0511 - acc: 0.9818 - val_loss: 0.0668 - val_acc: 0.9789\n",
            "Epoch 11/12\n",
            "1582048/1582048 [==============================] - 127s 80us/step - loss: 0.0497 - acc: 0.9826 - val_loss: 0.0721 - val_acc: 0.9791\n",
            "Epoch 12/12\n",
            "1582048/1582048 [==============================] - 126s 80us/step - loss: 0.0527 - acc: 0.9830 - val_loss: 0.0704 - val_acc: 0.9777\n"
          ],
          "name": "stdout"
        },
        {
          "output_type": "execute_result",
          "data": {
            "text/plain": [
              "<keras.callbacks.History at 0x7f068cd30668>"
            ]
          },
          "metadata": {
            "tags": []
          },
          "execution_count": 187
        }
      ]
    },
    {
      "cell_type": "markdown",
      "metadata": {
        "id": "f6Qd8SigDTs3",
        "colab_type": "text"
      },
      "source": [
        "# <h1 id=\"evaluacion\">Evaluación del modelo</h1>\n",
        "\n",
        "La red ha logrado mejorar un poco su desempeño con más epocas de entrenamiento. Finalmente vamos a evaluar gráficamente el desempeño de la función de pérdidas y la presición a traves de cada época de entrenamiento con el fin de validar algun posible sobre-entrenamiento."
      ]
    },
    {
      "cell_type": "code",
      "metadata": {
        "id": "LP_Wvay7RfXw",
        "colab_type": "code",
        "colab": {
          "base_uri": "https://localhost:8080/",
          "height": 70
        },
        "outputId": "c591284b-c2b9-40d6-b164-c6b910305062"
      },
      "source": [
        "result = model.evaluate(x_test_scaled,y_test)\n",
        "for i in range(len(model.metrics_names)):\n",
        " print(\"Metric \",model.metrics_names[i],\":\",str(round(result[i],2)))"
      ],
      "execution_count": null,
      "outputs": [
        {
          "output_type": "stream",
          "text": [
            "439459/439459 [==============================] - 20s 47us/step\n",
            "Metric  loss : 0.07\n",
            "Metric  acc : 0.98\n"
          ],
          "name": "stdout"
        }
      ]
    },
    {
      "cell_type": "code",
      "metadata": {
        "id": "FigeTaWgRqow",
        "colab_type": "code",
        "colab": {
          "base_uri": "https://localhost:8080/",
          "height": 406
        },
        "outputId": "2bb09c07-ee48-49ce-f5a1-0fd202bedf14"
      },
      "source": [
        "import matplotlib.pyplot as plt\n",
        "%matplotlib inline\n",
        "\n",
        "plt.figure(figsize=(13,6))\n",
        "plt.plot(model.history.history['loss'])\n",
        "plt.plot(model.history.history['val_loss'])\n",
        "plt.title(\"Pérdidas del modelo con set de entrenamiento y pruebas por época\")\n",
        "plt.ylabel('Pérdidas')\n",
        "plt.xlabel('Épocas')\n",
        "plt.legend(['Entrenamiento', 'Validación'], loc='upper right')\n",
        "plt.show()"
      ],
      "execution_count": null,
      "outputs": [
        {
          "output_type": "display_data",
          "data": {
            "image/png": "[encoded data removed]",
            "text/plain": [
              "<Figure size 936x432 with 1 Axes>"
            ]
          },
          "metadata": {
            "tags": []
          }
        }
      ]
    },
    {
      "cell_type": "code",
      "metadata": {
        "id": "_hJBWIbURqyH",
        "colab_type": "code",
        "colab": {
          "base_uri": "https://localhost:8080/",
          "height": 406
        },
        "outputId": "40d86ce4-264a-4f27-9eb0-14011e239d6a"
      },
      "source": [
        "plt.figure(figsize=(13,6))\n",
        "plt.plot(model.history.history['acc'])\n",
        "plt.plot(model.history.history['val_acc'])\n",
        "plt.title(\"Pérdidas del modelo con set de entrenamiento y pruebas por época\")\n",
        "plt.ylabel('Accuracy')\n",
        "plt.xlabel('Épocas')\n",
        "plt.legend(['Entrenamiento', 'Validación'], loc='lower right')\n",
        "plt.show()"
      ],
      "execution_count": null,
      "outputs": [
        {
          "output_type": "display_data",
          "data": {
            "image/png": "[encoded data removed]",
            "text/plain": [
              "<Figure size 936x432 with 1 Axes>"
            ]
          },
          "metadata": {
            "tags": []
          }
        }
      ]
    },
    {
      "cell_type": "markdown",
      "metadata": {
        "id": "8FzLOeui6l63",
        "colab_type": "text"
      },
      "source": [
        "**Happy Coding!**"
      ]
    }
  ]
}